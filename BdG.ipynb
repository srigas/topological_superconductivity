{
 "cells": [
  {
   "cell_type": "markdown",
   "id": "9f9f7a76-6593-4765-afdf-51b0d70e773e",
   "metadata": {},
   "source": [
    "### Imports"
   ]
  },
  {
   "cell_type": "code",
   "execution_count": 1,
   "id": "1e2ecf24-80c8-4afe-ad8f-23dca5095621",
   "metadata": {},
   "outputs": [],
   "source": [
    "import numpy as np\n",
    "from typing import Tuple\n",
    "\n",
    "from tsc_utils.utilities import get_bravais, get_pauli, Fermi, get_RPTS, get_KPTS\n",
    "from tsc_utils.basis_vectors import single_atom"
   ]
  },
  {
   "cell_type": "markdown",
   "id": "7f0747de-c0b2-482b-b63a-c0f0cc246431",
   "metadata": {},
   "source": [
    "### Config constants"
   ]
  },
  {
   "cell_type": "code",
   "execution_count": 29,
   "id": "6b4703d2-ea02-4862-b3cb-74b667e97b3a",
   "metadata": {},
   "outputs": [],
   "source": []
  },
  {
   "cell_type": "code",
   "execution_count": null,
   "id": "f063f9f3-6a8f-4ef7-b70f-32ba7eb360af",
   "metadata": {},
   "outputs": [],
   "source": []
  },
  {
   "cell_type": "markdown",
   "id": "5b1234ae-4fa3-4380-8e3e-bc27cd089fef",
   "metadata": {},
   "source": [
    "### Get basis vectors"
   ]
  },
  {
   "cell_type": "markdown",
   "id": "4a0f1e26-4680-4869-a356-f7734d87e406",
   "metadata": {},
   "source": [
    "### Get other constants based on config constants"
   ]
  },
  {
   "cell_type": "code",
   "execution_count": 32,
   "id": "fc0e8198-587f-4849-b9ff-22fa9157b0c3",
   "metadata": {},
   "outputs": [],
   "source": [
    "# Get the Pauli matrices\n",
    "s_0, s_1, s_2, s_3 = get_pauli()\n",
    "\n",
    "# Get lattice vectors through Bravais vectors\n",
    "a_1, a_2, a_3 = ALAT*a_1, ALAT*a_2, ALAT*a_3\n",
    "\n",
    "\n",
    "# Get NUMK\n",
    "NUMK: int = N_x * N_y * N_z\n",
    "\n",
    "# Get "
   ]
  },
  {
   "cell_type": "code",
   "execution_count": null,
   "id": "6ef1bf09-bbec-4d14-9a4d-917bbdf69282",
   "metadata": {},
   "outputs": [],
   "source": []
  },
  {
   "cell_type": "code",
   "execution_count": 17,
   "id": "438ebd1e-e096-4bf8-a50a-f97e6ca83add",
   "metadata": {},
   "outputs": [],
   "source": [
    "ALAT = 2.0 # lattice constant\n",
    "a_1, a_2, a_3 = get_vectors(\"BCC\")"
   ]
  },
  {
   "cell_type": "code",
   "execution_count": 18,
   "id": "b41d690e-07e6-495c-95e4-6f4ff802466c",
   "metadata": {},
   "outputs": [],
   "source": []
  },
  {
   "cell_type": "code",
   "execution_count": 20,
   "id": "4b2e648d-65e7-4c7a-b4f4-2b7c086aa194",
   "metadata": {},
   "outputs": [
    {
     "data": {
      "text/plain": [
       "array([ 1.,  1., -1.])"
      ]
     },
     "execution_count": 20,
     "metadata": {},
     "output_type": "execute_result"
    }
   ],
   "source": [
    "a_1"
   ]
  },
  {
   "cell_type": "code",
   "execution_count": null,
   "id": "0ccfaed2-5931-47eb-aac0-6ef0423c3b40",
   "metadata": {},
   "outputs": [],
   "source": []
  },
  {
   "cell_type": "code",
   "execution_count": 4,
   "id": "ffcebf3c-867a-4cc5-ad93-52a4546ea6e4",
   "metadata": {},
   "outputs": [],
   "source": []
  },
  {
   "cell_type": "code",
   "execution_count": 8,
   "id": "b6bb33a3-ee3e-44b5-836d-4f1fd3a4bdb3",
   "metadata": {},
   "outputs": [
    {
     "name": "stdout",
     "output_type": "stream",
     "text": [
      "Loop-based time: 0.060377 seconds\n",
      "Vectorized time: 0.013274 seconds\n"
     ]
    }
   ],
   "source": [
    "import numpy as np\n",
    "import timeit\n",
    "\n",
    "# Loop-based implementation\n",
    "def create_slab_loop(start_index, end_index, fixed_coord_1, fixed_coord_2, axis, atom_type, E_0, U, n_0, B_x, B_y, B_z, V):\n",
    "    assert axis in ('x', 'y', 'z'), \"Invalid axis. Choose from 'x', 'y', or 'z'\"\n",
    "    num_atoms = end_index - start_index + 1\n",
    "    slab = np.zeros((num_atoms, 11))\n",
    "    for i in range(num_atoms):\n",
    "        if axis == 'x':\n",
    "            coords = [start_index + i, fixed_coord_1, fixed_coord_2]\n",
    "        elif axis == 'y':\n",
    "            coords = [fixed_coord_1, start_index + i, fixed_coord_2]\n",
    "        else:\n",
    "            coords = [fixed_coord_1, fixed_coord_2, start_index + i]\n",
    "        atom = np.array(coords + [atom_type, E_0, U, n_0, B_x, B_y, B_z, V])\n",
    "        slab[i] = atom\n",
    "    return slab\n",
    "\n",
    "# Vectorized implementation\n",
    "def create_slab_vectorized(start_index, end_index, fixed_coord_1, fixed_coord_2, axis, atom_type, E_0, U, n_0, B_x, B_y, B_z, V):\n",
    "    assert axis in ('x', 'y', 'z'), \"Invalid axis. Choose from 'x', 'y', or 'z'\"\n",
    "    num_atoms = end_index - start_index + 1\n",
    "    varying_coord = np.arange(start_index, end_index + 1).reshape(-1, 1)\n",
    "    fixed_coords_1 = np.full((num_atoms, 1), fixed_coord_1)\n",
    "    fixed_coords_2 = np.full((num_atoms, 1), fixed_coord_2)\n",
    "    if axis == 'x':\n",
    "        coords = np.hstack((varying_coord, fixed_coords_1, fixed_coords_2))\n",
    "    elif axis == 'y':\n",
    "        coords = np.hstack((fixed_coords_1, varying_coord, fixed_coords_2))\n",
    "    else:\n",
    "        coords = np.hstack((fixed_coords_1, fixed_coords_2, varying_coord))\n",
    "    other_params = np.array([atom_type, E_0, U, n_0, B_x, B_y, B_z, V])\n",
    "    other_params_repeated = np.tile(other_params, (num_atoms, 1))\n",
    "    slab = np.hstack((coords, other_params_repeated))\n",
    "    return slab\n",
    "\n",
    "# Time the implementations\n",
    "loop_time = timeit.timeit(\n",
    "    stmt=\"create_slab_loop(0, 49, 0.0, 0.0, 'z', 1, 0.0, 0.0, 0.4, 0.0, 0.0, 0.0, 0.5)\",\n",
    "    setup=\"from __main__ import create_slab_loop\",\n",
    "    number=1000  # Number of repetitions\n",
    ")\n",
    "\n",
    "vectorized_time = timeit.timeit(\n",
    "    stmt=\"create_slab_vectorized(0, 49, 0.0, 0.0, 'z', 1, 0.0, 0.0, 0.4, 0.0, 0.0, 0.0, 0.5)\",\n",
    "    setup=\"from __main__ import create_slab_vectorized\",\n",
    "    number=1000  # Number of repetitions\n",
    ")\n",
    "\n",
    "# Print the results\n",
    "print(f\"Loop-based time: {loop_time:.6f} seconds\")\n",
    "print(f\"Vectorized time: {vectorized_time:.6f} seconds\")\n"
   ]
  },
  {
   "cell_type": "code",
   "execution_count": 6,
   "id": "9925314e-98bc-4371-aa59-36fb5e112a5a",
   "metadata": {},
   "outputs": [],
   "source": []
  },
  {
   "cell_type": "code",
   "execution_count": 7,
   "id": "bb0adbd6-61cd-4bb4-88b9-e9da911e2f56",
   "metadata": {},
   "outputs": [],
   "source": []
  },
  {
   "cell_type": "code",
   "execution_count": 27,
   "id": "282c3fcd-550f-4a26-a919-13c19ffe3ae1",
   "metadata": {},
   "outputs": [],
   "source": [
    "# NEEDS FIXING\n",
    "def get_NumDen(EIGENVALUES: np.ndarray, EIGENVECTORS: np.ndarray, NUMT: int, NUMK: int, \n",
    "            PI: float, NUME: int, lorentzbroad: float, metalorno: int) -> None:\n",
    "    \n",
    "    numdensityperatom = np.zeros((NUMT + 1, NUME))\n",
    "    numdensity = np.zeros((2, NUME))\n",
    "    \n",
    "    energyintervals = (np.max(EIGENVALUES) - np.min(EIGENVALUES)) / (NUME - 1)\n",
    "    \n",
    "    # These are the energies E\n",
    "    energies = np.min(EIGENVALUES) + energyintervals * np.arange(NUME)\n",
    "    numdensityperatom[0, :] = energies\n",
    "    numdensity[0, :] = energies\n",
    "    numdensity[1, :] = 0.0\n",
    "    \n",
    "    # Calculation of the DoS PER ATOM\n",
    "    term1 = np.abs(EIGENVECTORS[:NUMT, :])**2\n",
    "    term2 = np.abs(EIGENVECTORS[NUMT:, :])**2\n",
    "    terms_sum = term1 + term2\n",
    "    \n",
    "    # Reshape terms_sum to have an extra dimension for NUME\n",
    "    terms_sum_reshaped = terms_sum[:, np.newaxis, :]\n",
    "    \n",
    "    # Reshape diff_square to have an extra dimension for NUMT\n",
    "    diff_square = (energies[:, np.newaxis] - EIGENVALUES)**2\n",
    "    diff_square_reshaped = diff_square[np.newaxis, :, :]\n",
    "    \n",
    "    # Now, both arrays have a shape of (NUMT, NUME, 4*NUMT*NUMK)\n",
    "    dos_terms = (lorentzbroad / PI) * terms_sum_reshaped / (diff_square_reshaped + lorentzbroad**2)\n",
    "    \n",
    "    numdensityperatom[1:, :] = np.sum(dos_terms, axis=2)\n",
    "    \n",
    "    # Normalization\n",
    "    numdensityperatom[1:, :] /= NUMK\n",
    "    \n",
    "    # File writing\n",
    "    if metalorno == 0:\n",
    "        np.savetxt('numdensityperatom2.txt', numdensityperatom.T, fmt='%17.8f')\n",
    "        numdensity[1, :] = np.mean(numdensityperatom[1:, :], axis=0)\n",
    "        np.savetxt('numdensity2.txt', numdensity.T, fmt='%17.8f')\n",
    "    elif metalorno == 1:\n",
    "        np.savetxt('metalnumdensityperatom2.txt', numdensityperatom.T, fmt='%17.8f')\n",
    "        numdensity[1, :] = np.mean(numdensityperatom[1:, :], axis=0)\n",
    "        np.savetxt('metalnumdensity2.txt', numdensity.T, fmt='%17.8f')\n"
   ]
  },
  {
   "cell_type": "code",
   "execution_count": null,
   "id": "d0e6bd02-b085-4753-9aaf-18ae68d50c9e",
   "metadata": {},
   "outputs": [],
   "source": []
  },
  {
   "cell_type": "code",
   "execution_count": null,
   "id": "95266404-b177-4261-b3c6-f3ce70b7df1f",
   "metadata": {},
   "outputs": [],
   "source": []
  },
  {
   "cell_type": "code",
   "execution_count": null,
   "id": "e7632690-45f4-42a5-a59f-e636013b19d8",
   "metadata": {},
   "outputs": [],
   "source": []
  },
  {
   "cell_type": "code",
   "execution_count": null,
   "id": "c441a8d4-e906-4d31-b108-ca1f01695bda",
   "metadata": {},
   "outputs": [],
   "source": []
  },
  {
   "cell_type": "code",
   "execution_count": null,
   "id": "b5adfc21-3e72-46ad-9fce-6290b0e1458d",
   "metadata": {},
   "outputs": [],
   "source": []
  },
  {
   "cell_type": "code",
   "execution_count": 8,
   "id": "e8622386-dea7-4aea-8b57-5a303d24a505",
   "metadata": {},
   "outputs": [],
   "source": [
    "a_1, a_2, a_3 = get_vectors(vec_type=\"SC\")\n",
    "\n",
    "RPTS = get_RPTS(a_1, a_2, a_3, 10, 10000)"
   ]
  },
  {
   "cell_type": "code",
   "execution_count": 9,
   "id": "832c1a6e-4865-43c0-90eb-bd52adeccc6b",
   "metadata": {},
   "outputs": [
    {
     "data": {
      "text/plain": [
       "(3, 9261)"
      ]
     },
     "execution_count": 9,
     "metadata": {},
     "output_type": "execute_result"
    }
   ],
   "source": [
    "RPTS.shape"
   ]
  },
  {
   "cell_type": "code",
   "execution_count": null,
   "id": "74de1d43-5f47-49d8-a5f9-d97aaf0d4286",
   "metadata": {},
   "outputs": [],
   "source": []
  }
 ],
 "metadata": {
  "kernelspec": {
   "display_name": "Python 3 (ipykernel)",
   "language": "python",
   "name": "python3"
  },
  "language_info": {
   "codemirror_mode": {
    "name": "ipython",
    "version": 3
   },
   "file_extension": ".py",
   "mimetype": "text/x-python",
   "name": "python",
   "nbconvert_exporter": "python",
   "pygments_lexer": "ipython3",
   "version": "3.8.11"
  }
 },
 "nbformat": 4,
 "nbformat_minor": 5
}
