{
 "cells": [
  {
   "cell_type": "code",
   "execution_count": null,
   "id": "9ea46880-3cbc-4420-b351-91948050539d",
   "metadata": {},
   "outputs": [],
   "source": []
  },
  {
   "cell_type": "code",
   "execution_count": 1,
   "id": "1e2ecf24-80c8-4afe-ad8f-23dca5095621",
   "metadata": {},
   "outputs": [],
   "source": [
    "import numpy as np\n",
    "from typing import Tuple\n",
    "\n",
    "from tsc.utilities import Fermi, get_RPTS, get_KPTS\n",
    "from tsc.basis_atoms import single_atom, slab, extract_atom_vectors\n",
    "from tsc import config"
   ]
  },
  {
   "cell_type": "code",
   "execution_count": 2,
   "id": "6b4703d2-ea02-4862-b3cb-74b667e97b3a",
   "metadata": {},
   "outputs": [],
   "source": [
    "# Get config variables\n",
    "globals().update({k: v for k, v in vars(config.Config).items() if not k.startswith(\"__\")})"
   ]
  },
  {
   "cell_type": "code",
   "execution_count": 1,
   "id": "6ef1bf09-bbec-4d14-9a4d-917bbdf69282",
   "metadata": {},
   "outputs": [
    {
     "ename": "NameError",
     "evalue": "name 'single_atom' is not defined",
     "output_type": "error",
     "traceback": [
      "\u001b[1;31m---------------------------------------------------------------------------\u001b[0m",
      "\u001b[1;31mNameError\u001b[0m                                 Traceback (most recent call last)",
      "Cell \u001b[1;32mIn[1], line 2\u001b[0m\n\u001b[0;32m      1\u001b[0m \u001b[38;5;66;03m# Call a function from basis_atoms.py to get the basis atoms array\u001b[39;00m\n\u001b[1;32m----> 2\u001b[0m atoms \u001b[38;5;241m=\u001b[39m \u001b[43msingle_atom\u001b[49m()\n\u001b[0;32m      4\u001b[0m \u001b[38;5;66;03m# Extract the vectors from the called function\u001b[39;00m\n\u001b[0;32m      5\u001b[0m TPTS, atom_types, E_0, Ulcn, n_0, Beta, Vsc \u001b[38;5;241m=\u001b[39m extract_atom_vectors(atoms)\n",
      "\u001b[1;31mNameError\u001b[0m: name 'single_atom' is not defined"
     ]
    }
   ],
   "source": [
    "# Call a function from basis_atoms.py to get the basis atoms array\n",
    "atoms = single_atom()\n",
    "\n",
    "# Extract the vectors from the called function\n",
    "TPTS, atom_types, E_0, Ulcn, n_0, Beta, Vsc = extract_atom_vectors(atoms)\n",
    "\n",
    "# Construct the lattice sites matrix\n",
    "RPTS = get_RPTS(a_1, a_2, a_3, NCELLS)"
   ]
  },
  {
   "cell_type": "code",
   "execution_count": 4,
   "id": "adc2c180-582c-45b9-a40c-c97ea886aa80",
   "metadata": {},
   "outputs": [],
   "source": [
    "# Construct a hopping matrix - below we have the completely symmetrical case\n",
    "# Get the number of different atom types based on the basis_atoms configuration\n",
    "num_atom_types: int = np.unique(atom_types).shape[0]\n",
    "# Construct a completely symmetrical case\n",
    "hop_mat = np.ones((num_atom_types, num_atom_types))"
   ]
  },
  {
   "cell_type": "code",
   "execution_count": null,
   "id": "bafe3395-cf5c-40d6-a19f-461d0afd8a39",
   "metadata": {},
   "outputs": [],
   "source": []
  },
  {
   "cell_type": "code",
   "execution_count": null,
   "id": "df756767-53d2-4e9c-afc0-967f7ad3edad",
   "metadata": {},
   "outputs": [],
   "source": []
  },
  {
   "cell_type": "code",
   "execution_count": null,
   "id": "800a469c-e8eb-4f9d-a9c0-fd06856c52bb",
   "metadata": {},
   "outputs": [],
   "source": [
    "# Construct the k-mesh\n",
    "KPTS = get_KPTS(a_1, a_2, a_3, N_x, N_y, N_z)"
   ]
  },
  {
   "cell_type": "code",
   "execution_count": null,
   "id": "b2b703ad-e7f3-4ed8-855c-0366af87a624",
   "metadata": {},
   "outputs": [],
   "source": []
  },
  {
   "cell_type": "code",
   "execution_count": 24,
   "id": "df72dea0-182f-4a63-b8a5-eccd3ac0c912",
   "metadata": {},
   "outputs": [],
   "source": [
    "# For experiments:\n",
    "atom_1 = single_atom()\n",
    "atom_2 = single_atom(x=0.5, y = 0.5, z = 0.5, atom_type=2, E_0 = 1.0)\n",
    "atom_3 = single_atom()\n",
    "atoms = np.vstack((atom_1,atom_2,atom_3))\n",
    "\n",
    "# Extract the vectors from the called function\n",
    "TPTS, atom_types, E_0, Ulcn, n_0, Beta, Λ = extract_atom_vectors(atoms)\n",
    "\n",
    "# Construct the lattice sites matrix\n",
    "RPTS = get_RPTS(a_1, a_2, a_3, NCELLS)\n",
    "\n",
    "# Construct the k-mesh\n",
    "KPTS = get_KPTS(a_1, a_2, a_3, N_x, N_y, N_z)"
   ]
  },
  {
   "cell_type": "code",
   "execution_count": null,
   "id": "d6f728c5-99b4-4ab5-afdd-49c5adc2321f",
   "metadata": {},
   "outputs": [],
   "source": []
  },
  {
   "cell_type": "code",
   "execution_count": 56,
   "id": "91aae1d4-4144-4a7e-a919-e71362735b00",
   "metadata": {},
   "outputs": [],
   "source": [
    "# Get the number of different atom types based on the basis_atoms configuration\n",
    "# Also re-encode the atom_types as 0, 1, 2, etc.\n",
    "unique_atoms, atom_types = np.unique(atom_types, return_inverse=True)\n",
    "num_atom_types: int = unique_atoms.shape[0]\n",
    "\n",
    "# Construct a completely symmetrical case\n",
    "hop_mat = np.ones((num_atom_types, num_atom_types))"
   ]
  },
  {
   "cell_type": "code",
   "execution_count": 26,
   "id": "48ba31de-c945-47a8-9a4d-24277b6cbf24",
   "metadata": {},
   "outputs": [],
   "source": [
    "NUMT = atoms.shape[0]"
   ]
  },
  {
   "cell_type": "code",
   "execution_count": null,
   "id": "2a76ae34-b103-424a-a0ee-4dcce05f4a83",
   "metadata": {},
   "outputs": [],
   "source": []
  },
  {
   "cell_type": "code",
   "execution_count": 54,
   "id": "567843c0-d9fc-40ae-89f2-f10a539b3b3c",
   "metadata": {},
   "outputs": [],
   "source": [
    "# subroutine HOPPS\n",
    "PREFACTORS = np.zeros((num_atom_types,num_atom_types))\n",
    "\n",
    "NNDIS = 1000*np.ones((num_atom_types,num_atom_types))\n",
    "for itype in range(num_atom_types):\n",
    "    for jtype in range(num_atom_types):\n",
    "        \n",
    "        for i in range(NUMT):\n",
    "            for j in range(NUMT):\n",
    "                \n",
    "                if (atom_types[i] == itype) and (atom_types[j] == jtype):\n",
    "                    ttprime = TPTS[j] - TPTS[i]\n",
    "                    for rpoint in RPTS:\n",
    "                        addd = np.linalg.norm(rpoint + ttprime)\n",
    "\n",
    "                        if (NNDIS[itype,jtype] > addd) and (addd > 1e-4):\n",
    "                            NNDIS[itype,jtype] = addd\n",
    "                            \n",
    "        expon = np.exp(-NNDIS[itype,jtype]/R_0)\n",
    "        PREFACTORS[itype,jtype] = hop_mat[itype,jtype]/expon\n"
   ]
  },
  {
   "cell_type": "code",
   "execution_count": 55,
   "id": "603199be-7a3e-4ccb-ad9f-e68d8db9bccb",
   "metadata": {},
   "outputs": [
    {
     "data": {
      "text/plain": [
       "array([[2.71828183, 2.37744268],\n",
       "       [2.37744268, 2.71828183]])"
      ]
     },
     "execution_count": 55,
     "metadata": {},
     "output_type": "execute_result"
    }
   ],
   "source": [
    "PREFACTORS"
   ]
  },
  {
   "cell_type": "code",
   "execution_count": 39,
   "id": "5bdf8e9a-b0ef-4070-b0ad-54d903f11473",
   "metadata": {},
   "outputs": [],
   "source": [
    "# NEIGHBNUM calculator\n",
    "NEIGHBNUM = np.zeros((NUMT), dtype=int)\n",
    "\n",
    "for i in range(NUMT):\n",
    "    for j in range(NUMT):\n",
    "\n",
    "        ttprime = TPTS[j] - TPTS[i]\n",
    "        for rpoint in RPTS:\n",
    "            addd = np.linalg.norm(rpoint + ttprime)\n",
    "            if (addd < R_max + 1e-5) and (addd > 1e-5):\n",
    "                NEIGHBNUM[i] += 1"
   ]
  },
  {
   "cell_type": "code",
   "execution_count": 50,
   "id": "2e1a5e59-5322-4b3d-bcf8-c811f6bac799",
   "metadata": {},
   "outputs": [],
   "source": [
    "# JTYPE and RCONNECT calculator\n",
    "MAXNEIGHB = NEIGHBNUM.max()\n",
    "JTYPE = np.zeros((NUMT, MAXNEIGHB), dtype=int)\n",
    "RCONNECT = np.zeros((NUMT, MAXNEIGHB,3))\n",
    "\n",
    "for i in range(NUMT):\n",
    "    rcheck = 0\n",
    "    for j in range(NUMT):\n",
    "\n",
    "        ttprime = TPTS[j] - TPTS[i]\n",
    "        for rpoint in RPTS:\n",
    "            addd = np.linalg.norm(rpoint + ttprime)\n",
    "            if (addd < R_max + 1e-5) and (addd > 1e-5):\n",
    "                RCONNECT[i,rcheck,:] = rpoint + ttprime\n",
    "                JTYPE[i,rcheck] = j\n",
    "                rcheck += 1"
   ]
  },
  {
   "cell_type": "code",
   "execution_count": null,
   "id": "f47086ed-9ec7-4f95-8306-5783dbf5d8d4",
   "metadata": {},
   "outputs": [],
   "source": []
  },
  {
   "cell_type": "code",
   "execution_count": null,
   "id": "dc7e25f4-6423-406f-bc37-aae7864702cf",
   "metadata": {},
   "outputs": [],
   "source": []
  },
  {
   "cell_type": "code",
   "execution_count": 59,
   "id": "8892b698-3c00-410b-ba53-33d0644e295a",
   "metadata": {},
   "outputs": [],
   "source": [
    "# Hopping elements calculations\n",
    "expons = np.zeros((NUMK,MAXNEIGHB,NUMT), dtype=complex)\n",
    "hoppvals = np.zeros((MAXNEIGHB,NUMT))\n",
    "\n",
    "for kcounter in range(NUMK):\n",
    "    kpoint = KPTS[:,kcounter]\n",
    "    for i in range(NUMT):\n",
    "        for j in range(NUMT):\n",
    "\n",
    "            rpoint = RCONNECT[:,j,i]\n",
    "            expons[kcounter,j,i] = np.exp(-1j*np.dot(kpoint,rpoint))\n",
    "\n",
    "            JATOM = JTYPE[j,i].astype(int)\n",
    "            llambda = PREFACTORS[atom_types[i],atom_types[JATOM]]\n",
    "\n",
    "            hoppvals[j,i] = -llambda*np.exp(-np.linalg.norm(rpoint)/R_0)"
   ]
  },
  {
   "cell_type": "code",
   "execution_count": 60,
   "id": "867e5718-f390-4812-8276-8208068140c7",
   "metadata": {},
   "outputs": [
    {
     "data": {
      "text/plain": [
       "array([[-0.13533528, -0.17692121],\n",
       "       [-0.13533528, -0.17692121],\n",
       "       [ 0.        ,  0.        ],\n",
       "       [ 0.        ,  0.        ],\n",
       "       [ 0.        ,  0.        ],\n",
       "       [ 0.        ,  0.        ],\n",
       "       [ 0.        ,  0.        ],\n",
       "       [ 0.        ,  0.        ],\n",
       "       [ 0.        ,  0.        ],\n",
       "       [ 0.        ,  0.        ],\n",
       "       [ 0.        ,  0.        ],\n",
       "       [ 0.        ,  0.        ],\n",
       "       [ 0.        ,  0.        ],\n",
       "       [ 0.        ,  0.        ]])"
      ]
     },
     "execution_count": 60,
     "metadata": {},
     "output_type": "execute_result"
    }
   ],
   "source": [
    "hoppvals"
   ]
  },
  {
   "cell_type": "code",
   "execution_count": 47,
   "id": "625d36df-f087-4a2d-89aa-12cc9012655e",
   "metadata": {},
   "outputs": [
    {
     "data": {
      "text/plain": [
       "array([0, 1])"
      ]
     },
     "execution_count": 47,
     "metadata": {},
     "output_type": "execute_result"
    }
   ],
   "source": [
    "atom_types"
   ]
  },
  {
   "cell_type": "code",
   "execution_count": null,
   "id": "8689d386-aee5-4958-85b4-f5e19b42235c",
   "metadata": {},
   "outputs": [],
   "source": []
  },
  {
   "cell_type": "code",
   "execution_count": 66,
   "id": "83c3d2b2-560e-4161-ac96-a5391cfbc79f",
   "metadata": {},
   "outputs": [
    {
     "data": {
      "text/plain": [
       "array([[-1. ,  0. ,  0. ,  0. ,  0. ,  1. , -0.5, -0.5, -0.5, -0.5,  0.5,\n",
       "         0.5,  0.5,  0.5],\n",
       "       [ 0. , -1. ,  0. ,  0. ,  1. ,  0. , -0.5, -0.5,  0.5,  0.5, -0.5,\n",
       "        -0.5,  0.5,  0.5],\n",
       "       [ 0. ,  0. , -1. ,  1. ,  0. ,  0. , -0.5,  0.5, -0.5,  0.5, -0.5,\n",
       "         0.5, -0.5,  0.5]])"
      ]
     },
     "execution_count": 66,
     "metadata": {},
     "output_type": "execute_result"
    }
   ],
   "source": [
    "RCONNECT[:,:,0]"
   ]
  },
  {
   "cell_type": "code",
   "execution_count": 67,
   "id": "ae8bc7c5-d36d-43cd-9ae7-39f3b1e815e9",
   "metadata": {},
   "outputs": [
    {
     "data": {
      "text/plain": [
       "(3, 14, 2)"
      ]
     },
     "execution_count": 67,
     "metadata": {},
     "output_type": "execute_result"
    }
   ],
   "source": [
    "RCONNECT.shape"
   ]
  },
  {
   "cell_type": "code",
   "execution_count": null,
   "id": "67b0d970-3d62-4ad5-a5f1-ed92f4d415fe",
   "metadata": {},
   "outputs": [],
   "source": []
  },
  {
   "cell_type": "code",
   "execution_count": null,
   "id": "4e3a620f-f93d-4155-aacd-1e42319df9ad",
   "metadata": {},
   "outputs": [],
   "source": []
  },
  {
   "cell_type": "code",
   "execution_count": null,
   "id": "ae1f9fea-afd8-4b7a-8d75-3ff6750880e7",
   "metadata": {},
   "outputs": [],
   "source": []
  },
  {
   "cell_type": "code",
   "execution_count": null,
   "id": "7d6d7bf4-f16a-4714-b51a-6c302538786f",
   "metadata": {},
   "outputs": [],
   "source": [
    "# Construct the k-mesh\n",
    "KPTS = get_KPTS()"
   ]
  },
  {
   "cell_type": "code",
   "execution_count": 27,
   "id": "282c3fcd-550f-4a26-a919-13c19ffe3ae1",
   "metadata": {},
   "outputs": [],
   "source": [
    "# NEEDS FIXING\n",
    "def get_NumDen(EIGENVALUES: np.ndarray, EIGENVECTORS: np.ndarray, NUMT: int, NUMK: int, \n",
    "            PI: float, NUME: int, lorentzbroad: float, metalorno: int) -> None:\n",
    "    \n",
    "    numdensityperatom = np.zeros((NUMT + 1, NUME))\n",
    "    numdensity = np.zeros((2, NUME))\n",
    "    \n",
    "    energyintervals = (np.max(EIGENVALUES) - np.min(EIGENVALUES)) / (NUME - 1)\n",
    "    \n",
    "    # These are the energies E\n",
    "    energies = np.min(EIGENVALUES) + energyintervals * np.arange(NUME)\n",
    "    numdensityperatom[0, :] = energies\n",
    "    numdensity[0, :] = energies\n",
    "    numdensity[1, :] = 0.0\n",
    "    \n",
    "    # Calculation of the DoS PER ATOM\n",
    "    term1 = np.abs(EIGENVECTORS[:NUMT, :])**2\n",
    "    term2 = np.abs(EIGENVECTORS[NUMT:, :])**2\n",
    "    terms_sum = term1 + term2\n",
    "    \n",
    "    # Reshape terms_sum to have an extra dimension for NUME\n",
    "    terms_sum_reshaped = terms_sum[:, np.newaxis, :]\n",
    "    \n",
    "    # Reshape diff_square to have an extra dimension for NUMT\n",
    "    diff_square = (energies[:, np.newaxis] - EIGENVALUES)**2\n",
    "    diff_square_reshaped = diff_square[np.newaxis, :, :]\n",
    "    \n",
    "    # Now, both arrays have a shape of (NUMT, NUME, 4*NUMT*NUMK)\n",
    "    dos_terms = (lorentzbroad / PI) * terms_sum_reshaped / (diff_square_reshaped + lorentzbroad**2)\n",
    "    \n",
    "    numdensityperatom[1:, :] = np.sum(dos_terms, axis=2)\n",
    "    \n",
    "    # Normalization\n",
    "    numdensityperatom[1:, :] /= NUMK\n",
    "    \n",
    "    # File writing\n",
    "    if metalorno == 0:\n",
    "        np.savetxt('numdensityperatom2.txt', numdensityperatom.T, fmt='%17.8f')\n",
    "        numdensity[1, :] = np.mean(numdensityperatom[1:, :], axis=0)\n",
    "        np.savetxt('numdensity2.txt', numdensity.T, fmt='%17.8f')\n",
    "    elif metalorno == 1:\n",
    "        np.savetxt('metalnumdensityperatom2.txt', numdensityperatom.T, fmt='%17.8f')\n",
    "        numdensity[1, :] = np.mean(numdensityperatom[1:, :], axis=0)\n",
    "        np.savetxt('metalnumdensity2.txt', numdensity.T, fmt='%17.8f')\n"
   ]
  },
  {
   "cell_type": "code",
   "execution_count": null,
   "id": "d0e6bd02-b085-4753-9aaf-18ae68d50c9e",
   "metadata": {},
   "outputs": [],
   "source": []
  },
  {
   "cell_type": "code",
   "execution_count": null,
   "id": "95266404-b177-4261-b3c6-f3ce70b7df1f",
   "metadata": {},
   "outputs": [],
   "source": []
  },
  {
   "cell_type": "code",
   "execution_count": 70,
   "id": "2ec581b3-3120-4d31-ab52-3107ab41d3a5",
   "metadata": {},
   "outputs": [
    {
     "data": {
      "text/plain": [
       "array([10000])"
      ]
     },
     "execution_count": 70,
     "metadata": {},
     "output_type": "execute_result"
    }
   ],
   "source": [
    "vectorized_result"
   ]
  },
  {
   "cell_type": "code",
   "execution_count": 71,
   "id": "3a90ec96-c552-4df3-b84f-867d6348928a",
   "metadata": {},
   "outputs": [
    {
     "data": {
      "text/plain": [
       "array([10000., 10000., 10000., 10000., 10000., 10000., 10000., 10000.,\n",
       "       10000., 10000., 10000., 10000., 10000., 10000., 10000., 10000.,\n",
       "       10000., 10000., 10000., 10000., 10000., 10000., 10000., 10000.,\n",
       "       10000., 10000., 10000., 10000., 10000., 10000., 10000., 10000.,\n",
       "       10000., 10000., 10000., 10000., 10000., 10000., 10000., 10000.,\n",
       "       10000., 10000., 10000., 10000., 10000., 10000., 10000., 10000.,\n",
       "       10000., 10000., 10000., 10000., 10000., 10000., 10000., 10000.,\n",
       "       10000., 10000., 10000., 10000., 10000., 10000., 10000., 10000.,\n",
       "       10000., 10000., 10000., 10000., 10000., 10000., 10000., 10000.,\n",
       "       10000., 10000., 10000., 10000., 10000., 10000., 10000., 10000.,\n",
       "       10000., 10000., 10000., 10000., 10000., 10000., 10000., 10000.,\n",
       "       10000., 10000., 10000., 10000., 10000., 10000., 10000., 10000.,\n",
       "       10000., 10000., 10000., 10000.])"
      ]
     },
     "execution_count": 71,
     "metadata": {},
     "output_type": "execute_result"
    }
   ],
   "source": [
    "original_result"
   ]
  },
  {
   "cell_type": "code",
   "execution_count": null,
   "id": "952be499-456b-4204-af4e-c93ee86baa33",
   "metadata": {},
   "outputs": [],
   "source": []
  }
 ],
 "metadata": {
  "kernelspec": {
   "display_name": "Python 3 (ipykernel)",
   "language": "python",
   "name": "python3"
  },
  "language_info": {
   "codemirror_mode": {
    "name": "ipython",
    "version": 3
   },
   "file_extension": ".py",
   "mimetype": "text/x-python",
   "name": "python",
   "nbconvert_exporter": "python",
   "pygments_lexer": "ipython3",
   "version": "3.10.13"
  }
 },
 "nbformat": 4,
 "nbformat_minor": 5
}
