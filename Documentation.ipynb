{
 "cells": [
  {
   "cell_type": "markdown",
   "id": "1e283f78-f1e5-4b05-98fa-027ba46c4d34",
   "metadata": {},
   "source": [
    "# TSC Code Documentation\n",
    "\n",
    "In what follows, we provide thorough documentation for the code developed for the purposes of the TSC project, where we aim to solve the Bogoliubov-de Gennes equations for superconductivity within the tight-binding approximation."
   ]
  },
  {
   "cell_type": "markdown",
   "id": "5c443523-a6fe-409a-92ec-703655d9fe48",
   "metadata": {},
   "source": [
    "## Theory"
   ]
  },
  {
   "cell_type": "markdown",
   "id": "31384e24-51b8-45d8-bb17-00902ecd27eb",
   "metadata": {},
   "source": [
    "Before exploring the codebase, it is perhaps better to provide a summary of the underlying theory. All equations and symbols are taken from [here](https://pergamos.lib.uoa.gr/uoa/dl/object/2941843/file.pdf), so feel free to read the full text for a more in-depth analysis."
   ]
  },
  {
   "cell_type": "markdown",
   "id": "9f4b1d85-35a7-4fa5-a20e-baad3d875ab4",
   "metadata": {
    "jp-MarkdownHeadingCollapsed": true
   },
   "source": [
    "### Hamiltonian"
   ]
  },
  {
   "cell_type": "markdown",
   "id": "2bfdaed1-83d7-4bad-be1b-14ae9600959a",
   "metadata": {},
   "source": [
    "The second-quantization Hamiltonian used for the purposes of our study (after performing the mean-field approximation for superconductivity) can be written as\n",
    "\n",
    "$$\n",
    "H_0^{} = \\sum_{\\alpha,\\alpha^\\prime,i,j,\\sigma,\\sigma^\\prime}{c_{\\alpha i\\sigma}^\\dagger~ h_{\\alpha i\\sigma,\\alpha^\\prime j\\sigma^\\prime}^{}~ c_{\\alpha^\\prime j\\sigma^\\prime}^{}} + \\sum_{\\alpha ,i}{\\Delta_{\\alpha i}^{} c_{\\alpha i\\uparrow}^{\\dagger}c_{\\alpha i\\downarrow}^{\\dagger} + \\Delta_{\\alpha i}^{*} c_{\\alpha i\\downarrow}^{}c_{\\alpha i\\uparrow}^{}}~,\n",
    "$$\n",
    "\n",
    "where\n",
    "\n",
    "$$\n",
    "\\Delta_{\\alpha i}^{} = \\Lambda_{\\alpha i}^{} \\chi_{\\alpha i}^{}\n",
    "$$\n",
    "\n",
    "is the well-known order parameter for superconductivity, $\\Lambda_{\\alpha i}$ is the effective coupling constant for the attractive electron-electron interaction and $\\chi_{\\alpha i}^{} = \\langle c_{\\alpha i\\uparrow}^{}c_{\\alpha i\\downarrow}^{} \\rangle$ is the anomalous density.\n",
    "\n",
    "The indices $\\alpha,\\alpha^\\prime$ correspond to lattice vectors $\\mathbf{R}_\\alpha^{}$ and $\\mathbf{R}_{\\alpha^\\prime}^{}$, respectively, and assume values from 1 to $N$, where $N$ is the total number of lattice sites. The indices $i,j$ correspond to atom positions $\\boldsymbol{\\tau}_i^{}$ and $\\boldsymbol{\\tau}_j^{}$, respectively, in a lattice cell and assume values from 1 to $N_b^{}$, where $N_b^{}$ is the total number of atoms contained in this cell. As a result, the fermionic operators $c_{\\alpha i\\sigma}^{\\dagger}$ and $c_{\\alpha i\\sigma}^{}$ create and annihilate, respectively, an electron of spin $\\sigma$ ($\\uparrow$ or $\\downarrow$) at position $\\mathbf{R}_\\alpha^{} + \\boldsymbol{\\tau}_i^{}$.\n",
    "\n",
    "Most importantly, we have\n",
    "\n",
    "$$\n",
    "h_{\\alpha i\\sigma,\\alpha^\\prime j\\sigma^\\prime}^{} = \\left[- t_{\\alpha i,\\alpha^\\prime j}^{} + \\left(\\varepsilon_{\\alpha i}^{}-\\mu\\right)\\delta_{\\alpha \\alpha^\\prime }^{}\\delta_{ij}^{}\\right]\\delta_{\\sigma\\sigma^\\prime} - \\left(\\mathbf{B}_{\\alpha i}^{}\\cdot\\boldsymbol{\\sigma}\\right)_{\\sigma\\sigma^\\prime}\\delta_{\\alpha \\alpha^\\prime }^{}\\delta_{ij}^{} + U_{\\alpha i}^{}\\left(n_{\\alpha i}^{} - \\bar{n}_{\\alpha i}^{}\\right)\\delta_{\\alpha \\alpha^\\prime }^{}\\delta_{ij}^{} \\delta_{\\sigma\\sigma^\\prime}~,\n",
    "$$\n",
    "\n",
    "where $t_{\\alpha i,\\alpha^\\prime j}^{}$ is the hopping element, $\\varepsilon_{\\alpha i}^{}$ is the self-energy, $\\mu$ is the system's chemical potential, $\\mathbf{B}_{\\alpha i}^{}$ is an effective magnetic field which gives rise to a local Zeeman energy, $\\boldsymbol{\\sigma} \\equiv \\left(\\boldsymbol{\\sigma}_x^{}, \\boldsymbol{\\sigma}_y^{}, \\boldsymbol{\\sigma}_z^{}\\right)$ is the Pauli vector, $n_{\\alpha i}^{}$ is the charge density, $\\bar{n}_{\\alpha i}^{}$ is the desired value of that charge density and $U_{\\alpha i}^{}$ is the so called local charge neutrality (LCN) coupling constant.\n",
    "\n",
    "The hopping element is calculated as\n",
    "\n",
    "$$\n",
    "t_{\\alpha i,\\alpha^\\prime j}^{} = t_0^{}\\exp\\left(-\\frac{\\left|\\mathbf{R}_\\alpha^{} + \\boldsymbol{\\tau}_i^{} - \\mathbf{R}_{\\alpha^\\prime}^{} - \\boldsymbol{\\tau}_j^{}\\right|}{R_0}\\right)~,\n",
    "$$\n",
    "\n",
    "where $R_0^{}$ is a constant inserted for dimensional and normalization purposes and $t_0^{}$ is an atom-type dependent constant. This atom-type dependence can be written as\n",
    "\n",
    "$$\n",
    "t_0^{} \\equiv t^{\\textrm{I } \\rightarrow \\textrm{ J}} = t_\\textrm{IJ}^{} \\cdot \\exp\\left(\\frac{\\textrm{NN}\\left(\\textrm{I,J}\\right)}{R_0}\\right),\n",
    "$$\n",
    "\n",
    "where $t_\\textrm{IJ}^{}$ is a constant that depends on the types I and J (where atom I hops on atom J) and $\\textrm{NN}\\left(\\textrm{I,J}\\right)$ is the nearest possible distance between two such atoms."
   ]
  },
  {
   "cell_type": "markdown",
   "id": "1323a9c3-88f9-4588-8050-a9524598ae78",
   "metadata": {
    "jp-MarkdownHeadingCollapsed": true
   },
   "source": [
    "### BdG Equations"
   ]
  },
  {
   "cell_type": "markdown",
   "id": "0f173eeb-f95a-40e3-998e-48e63e22d8bb",
   "metadata": {},
   "source": [
    "The BdG Equations can be written in matrix form as\n",
    "\n",
    "$$\n",
    "\\sum_{\\alpha^\\prime, j}{\\boldsymbol{\\mathcal{H}}_{\\alpha i, \\alpha^\\prime j}^{0} \\cdot \\boldsymbol{\\Psi}_{\\alpha^\\prime j}^{n}} = \\epsilon_n^{} \\boldsymbol{\\Psi}_{\\alpha i}^{n}~,\n",
    "$$\n",
    "\n",
    "where $\\epsilon_n^{}$ is the eigenvalue corresponding to the eigenvector\n",
    "\n",
    "$$\n",
    "\\boldsymbol{\\Psi}_{}^{n} = \\Big( \\boldsymbol{u}_{\\uparrow}^{n} ~ \\boldsymbol{u}_{\\downarrow}^{n} ~ \\boldsymbol{v}_{\\uparrow}^{n} ~ \\boldsymbol{v}_{\\downarrow}^{n} \\Big)^{\\rm T}~,\n",
    "$$\n",
    "\n",
    "where in turn $\\boldsymbol{u}_{\\sigma}^{n}$ and $\\boldsymbol{v}_{\\sigma}^{n}$ are $N_bN$-dimensional vectors containing the BdG equations' solutions for every lattice site and basis-atom.\n",
    "\n",
    "The BdG Hamiltonian is a $4N_b^{}N\\times 4N_b^{}N$ matrix, given by\n",
    "\n",
    "$$\n",
    "\\boldsymbol{\\mathcal{H}}_{\\alpha i, \\alpha^\\prime j}^{0} =\\left(  {\\begin{array}{cccc}\n",
    "    h_{\\alpha i \\uparrow, \\alpha^\\prime j \\uparrow}^{} & h_{\\alpha i \\uparrow, \\alpha^\\prime j \\downarrow}^{} & 0 & \\Delta_{\\alpha i}^{}\\delta_{\\alpha\\alpha^\\prime}^{}\\delta_{ij}^{} \\\\\n",
    "    h_{\\alpha i \\downarrow, \\alpha^\\prime j \\uparrow}^{} & h_{\\alpha i \\downarrow, \\alpha^\\prime j \\downarrow}^{} & \\Delta_{\\alpha i}^{}\\delta_{\\alpha\\alpha^\\prime}^{}\\delta_{ij}^{} & 0 \\\\\n",
    "    0 & \\Delta_{\\alpha i}^{*}\\delta_{\\alpha\\alpha^\\prime}^{}\\delta_{ij}^{} & -h_{\\alpha i \\uparrow,  \\alpha^\\prime j \\uparrow}^{*} & h_{\\alpha i \\uparrow,  \\alpha^\\prime j \\downarrow}^{*} \\\\\n",
    "    \\Delta_{\\alpha i}^{*}\\delta_{\\alpha\\alpha^\\prime}^{}\\delta_{ij}^{} & 0 & h_{\\alpha i \\downarrow,  \\alpha^\\prime j \\uparrow}^{*} & -h_{\\alpha i \\downarrow,  \\alpha^\\prime j \\downarrow}^{*}\n",
    "\\end{array} } \\right).\n",
    "$$\n",
    "\n",
    "Since the diagonalization of this matrix is a very computationally demanding process, one can use Bloch's theorem and switch to momentum space. By defining the Fourier transformation\n",
    "\n",
    "$$\n",
    "\\boldsymbol{\\Phi}_{i}^{n}\\left(\\mathbf{k}\\right) \\coloneqq \\frac{1}{\\sqrt{N}} \\sum_{\\alpha}{e^{-\\text{i}\\mathbf{k}\\cdot\\left(\\mathbf{R}_\\alpha^{}+\\boldsymbol{\\tau}_i^{}\\right)}\\boldsymbol{\\Psi}_{\\alpha i}^n}~,\n",
    "$$\n",
    "\n",
    "one can get the k-space BdG Hamiltonian as\n",
    "\n",
    "$$\n",
    "\\tilde{\\boldsymbol{\\mathcal{H}}}_{i,j}^{0}\\left(\\mathbf{k}\\right) = \\sum_{\\xi}{\\boldsymbol{\\mathcal{H}}_{0i,\\xi j}^{0} ~e^{i\\mathbf{k}\\cdot \\left(\\mathbf{R}_\\xi^{} + \\boldsymbol{\\tau}_{j}^{} - \\boldsymbol{\\tau}_{i}^{}\\right)} }.\n",
    "$$"
   ]
  },
  {
   "cell_type": "markdown",
   "id": "48da6e3e-9b72-45b5-bdac-8773619786f2",
   "metadata": {
    "jp-MarkdownHeadingCollapsed": true
   },
   "source": [
    "### Computational Adaptation"
   ]
  },
  {
   "cell_type": "markdown",
   "id": "5d2113dc-9b9c-43d7-8131-1d0861ace83f",
   "metadata": {},
   "source": [
    "In the following code, the BdG equations are solved in reciprocal space. The $4N_b^{}$-component spinor\n",
    "\n",
    "$$\n",
    "\\boldsymbol{\\Phi}_{}^n\\left(\\mathbf{k}\\right) = \\Big( \\boldsymbol{u}_{\\uparrow}^{n}\\left(\\mathbf{k}\\right) ~ \\boldsymbol{u}_{\\downarrow}^{n}\\left(\\mathbf{k}\\right) ~ \\boldsymbol{v}_{\\uparrow}^{n}\\left(\\mathbf{k}\\right) ~ \\boldsymbol{v}_{\\downarrow}^{n}\\left(\\mathbf{k}\\right) \\Big)^{\\rm T},\n",
    "$$\n",
    "\n",
    "where\n",
    "\n",
    "$$\n",
    "\\boldsymbol{u}_{\\sigma}^{n}\\left(\\mathbf{k}\\right) = \\Big(u_{1\\sigma}^{n}\\left(\\mathbf{k}\\right)~u_{2\\sigma}^{n}\\left(\\mathbf{k}\\right)~\\cdots~u_{N_b^{}\\sigma}^{n}\\left(\\mathbf{k}\\right)\\Big)^{\\rm T}\n",
    "$$\n",
    "\n",
    "and\n",
    "\n",
    "$$ \\boldsymbol{v}_{\\sigma}^{n}\\left(\\mathbf{k}\\right) = \\Big(v_{1\\sigma}^{n}\\left(\\mathbf{k}\\right)~v_{2\\sigma}^{n}\\left(\\mathbf{k}\\right)~\\cdots~v_{N_b^{}\\sigma}^{n}\\left(\\mathbf{k}\\right)\\Big)^{\\rm T},\n",
    "$$\n",
    "\n",
    "incorporates the four-component spinors of all atoms in the unit cell. The BdG Hamiltonian per $\\mathbf{k}$ is a $4 N_b^{} \\times 4 N_b^{}$ matrix which is constructed as\n",
    "\n",
    "$$\n",
    "\\tilde{\\boldsymbol{\\mathcal{H}}}_{}^{0}\\left(\\mathbf{k}\\right) = \\left(  {\\begin{array}{cccc}\n",
    "\t\t\\boldsymbol{h}_{\\uparrow \\uparrow}^{}\\left(\\mathbf{k}\\right) & \\boldsymbol{h}_{\\uparrow \\downarrow}^{}\\left(\\mathbf{k}\\right) & 0 & \\boldsymbol{\\Delta}_{}^{}\\\\\n",
    "\t\t\\boldsymbol{h}_{\\downarrow \\uparrow}^{}\\left(\\mathbf{k}\\right) & \\boldsymbol{h}_{ \\downarrow \\downarrow}^{}\\left(\\mathbf{k}\\right) & \\boldsymbol{\\Delta}_{}^{} & 0 \\\\\n",
    "\t\t0 & \\boldsymbol{\\Delta}_{}^* & -\\boldsymbol{h}_{\\uparrow \\uparrow}^{*}\\left(\\mathbf{k}\\right) & \\boldsymbol{h}_{\\uparrow \\downarrow}^{*}\\left(\\mathbf{k}\\right) \\\\\n",
    "\t\t\\boldsymbol{\\Delta}_{}^{*} & 0 & \\boldsymbol{h}_{\\downarrow \\uparrow}^{*}\\left(\\mathbf{k}\\right) & -\\boldsymbol{h}_{\\downarrow \\downarrow}^{*}\\left(\\mathbf{k}\\right)\n",
    "\\end{array} } \\right),\n",
    "$$\n",
    "\n",
    "where\n",
    "\n",
    "$$\n",
    "\\boldsymbol{\\Delta}_{}^{} = {\\rm diag}\\left(\\Delta_1^{} ~ \\Delta_2^{} ~ \\cdots ~ \\Delta_{N_b^{}}^{}\\right)\n",
    "$$\n",
    "\n",
    "and\n",
    "\n",
    "$$\n",
    "\\boldsymbol{h}_{\\sigma \\sigma^\\prime}\\left(\\mathbf{k}\\right) = \\left(  {\\begin{array}{cccc}\n",
    "\t\th_{1 \\sigma, 1 \\sigma^\\prime}^{}\\left(\\mathbf{k}\\right) & h_{1 \\sigma, 2 \\sigma^\\prime}^{}\\left(\\mathbf{k}\\right) & \\dots & h_{1 \\sigma, N_b^{} \\sigma^\\prime}^{}\\left(\\mathbf{k}\\right)\\\\\n",
    "\t\th_{2 \\sigma, 1 \\sigma^\\prime}^{}\\left(\\mathbf{k}\\right) & h_{2 \\sigma, 2 \\sigma^\\prime}^{}\\left(\\mathbf{k}\\right) & \\dots & h_{2 \\sigma, N_b^{} \\sigma^\\prime}^{}\\left(\\mathbf{k}\\right) \\\\\n",
    "\t\t\\vdots & \\vdots & \\ddots & \\vdots \\\\\n",
    "\t\th_{N_b^{} \\sigma, 1 \\sigma^\\prime}^{}\\left(\\mathbf{k}\\right) & h_{N_b^{} \\sigma, 2 \\sigma^\\prime}^{}\\left(\\mathbf{k}\\right) & \\dots & h_{N_b^{} \\sigma, N_b^{} \\sigma^\\prime}^{}\\left(\\mathbf{k}\\right)\n",
    "\\end{array} } \\right).\n",
    "$$\n",
    "\n",
    "The matrix elements of $\\boldsymbol{h}_{\\sigma \\sigma^\\prime}\\left(\\mathbf{k}\\right)$ are calculated as indicated by the Fourier transform defined above. The BdG equations per $\\mathbf{k}$ are therefore written as\n",
    "\n",
    "$$\n",
    "\\tilde{\\boldsymbol{\\mathcal{H}}}_{}^{0}\\left(\\mathbf{k}\\right) \\cdot \\boldsymbol{\\Phi}_{}^n\\left(\\mathbf{k}\\right) = \\epsilon_n^{} \\boldsymbol{\\Phi}_{}^n\\left(\\mathbf{k}\\right)\n",
    "$$"
   ]
  },
  {
   "cell_type": "markdown",
   "id": "3c965e4c-11a2-4a53-b4b1-0c6f213895c8",
   "metadata": {},
   "source": [
    "### Observables"
   ]
  },
  {
   "cell_type": "markdown",
   "id": "fe8cc1d2-8d83-4b43-b88c-057c7833c7e9",
   "metadata": {},
   "source": [
    "The quantities that are measured by the solution of the BdG equations are the charges for each atom\n",
    "\n",
    "$$\n",
    "n_{i}^{} = \\frac{1}{N}\\sum_{\\mathbf{k}}{n_{i}\\left(\\mathbf{k}\\right)} = \\frac{1}{N}\\sum_{\\mathbf{k},n,\\sigma}{|u_{i\\sigma}^n\\left(\\mathbf{k}\\right)|^2 f\\left(\\epsilon_n^{}\\right)}\n",
    "$$\n",
    "\n",
    "and the order parameter per atom\n",
    "\n",
    "$$\n",
    "\\Delta_{i}^{} = \\frac{\\Lambda_i^{}}{N}\\sum_{\\mathbf{k}}{\\chi_{i}\\left(\\mathbf{k}\\right)} = -\\frac{\\Lambda_i}{N} \\sum_{\\mathbf{k},n}{u_{i\\downarrow}^{n}\\left(\\mathbf{k}\\right)v_{i\\uparrow}^{n*}\\left(\\mathbf{k}\\right) f\\left(\\epsilon_n\\right)}.\n",
    "$$\n",
    "\n",
    "These are measured self-consistently, i.e. an initial guess is made for their values and then the BdG Equations are solved until the difference for their values between two consecutive runs is smaller than a predefined threshold. The function that appears in the above equations is the Fermi function, defined as\n",
    "\n",
    "$$\n",
    "f\\left(\\epsilon_n\\right) = \\frac{1}{1+\\exp\\left(\\epsilon_n/k_BT\\right)} .\n",
    "$$\n",
    "\n",
    "Note, also, that the chemical potential, $\\mu$, is calculated self-consistently, based on the values of the charges. For the calculation of the chemical potential, the density of states at $\\mu$ is required. For the density of states, we use the Lorentzian approximation of the delta function:\n",
    "\n",
    "$$\n",
    "\\mathcal{D}_i\\left(E\\right) = \\frac{\\Gamma}{\\pi}\\frac{1}{N_k}\\sum_{\\mathbf{k},n,\\sigma}{\\frac{|u_{i\\sigma}^n\\left(\\mathbf{k}\\right)|^2}{\\Gamma^2 + \\left(E-\\varepsilon_n\\right)^2}}~,\n",
    "$$\n",
    "\n",
    "where $\\mathcal{D}_i\\left(E\\right)$ is the DOS at energy $E$ for atom $i$.\n",
    "\n",
    "TODO: FOR THE METAL IT DOES NOT NEED THE WAVEFUNCTIONS, IT DOES FOR THE SC"
   ]
  },
  {
   "cell_type": "markdown",
   "id": "88cd0126-ae12-4e4f-99a8-444d68afb586",
   "metadata": {},
   "source": [
    "### Impurities"
   ]
  },
  {
   "cell_type": "markdown",
   "id": "91e90614-9953-4e46-81ae-e1a106eaa1a0",
   "metadata": {},
   "source": [
    "TODO"
   ]
  },
  {
   "cell_type": "markdown",
   "id": "ad2bc765-0ba6-4e00-9dec-d9e1a983f0f3",
   "metadata": {},
   "source": [
    "## Basic Setup"
   ]
  },
  {
   "cell_type": "markdown",
   "id": "063eb12a-c351-499f-af54-939e2bc2c34d",
   "metadata": {
    "jp-MarkdownHeadingCollapsed": true
   },
   "source": [
    "### Environment Setup"
   ]
  },
  {
   "cell_type": "markdown",
   "id": "78bcdcb4-4fd4-4c7e-89db-2ccd09faa7a3",
   "metadata": {},
   "source": [
    "The code should preferably be executed in an isolated conda environment. To make one such environment, first run:\n",
    "\n",
    "```\n",
    "conda create --name TSC\n",
    "```\n",
    "\n",
    "This will create an environment, named TSC. Then, use `conda activate TSC` to activate the newly created environment and run\n",
    "\n",
    "```\n",
    "conda install -c conda-forge jupyterlab\n",
    "```\n",
    "\n",
    "to install Jupyter Lab (which is the suggested runtime for the project). Once Jupyter Lab is installed, run\n",
    "\n",
    "```\n",
    "conda install -c conda-forge plotly matplotlib numpy scipy numba\n",
    "```\n",
    "\n",
    "to install the additional dependencies (NumPy, SciPy for optimized code, Plotly for plotting, etc.)."
   ]
  },
  {
   "cell_type": "markdown",
   "id": "cedb8d62-7e68-4641-b81d-40197e2478cf",
   "metadata": {},
   "source": [
    "### Code"
   ]
  },
  {
   "cell_type": "markdown",
   "id": "897bcfe5-7cde-487d-a284-360ee659383c",
   "metadata": {},
   "source": [
    "Let's start by importing all necessary libraries."
   ]
  },
  {
   "cell_type": "code",
   "execution_count": 33,
   "id": "690de3d2-a79b-4336-8acb-e43a6f1f520b",
   "metadata": {},
   "outputs": [],
   "source": [
    "import numpy as np\n",
    "import scipy as sp\n",
    "import numba\n",
    "\n",
    "import copy"
   ]
  },
  {
   "cell_type": "markdown",
   "id": "2ef0cd5a-5c5f-47d1-9cc8-df5f9ab84c04",
   "metadata": {},
   "source": [
    "First, we import the config object, so that we can pass its contents as global variables. One of the main parameters is the type of lattice, with choices between Simple Cubic (SC), Body-Centered Cubic (BCC) and Face-Centered Cubic (FCC). The `config.py` file located in the `tsc` folder contains thorough documentation for each of the configuration variables."
   ]
  },
  {
   "cell_type": "code",
   "execution_count": 34,
   "id": "d1760d48-2862-4e98-8a6c-d05fe7e007e5",
   "metadata": {},
   "outputs": [],
   "source": [
    "from tsc import config\n",
    "\n",
    "# Get config variables\n",
    "globals().update({k: v for k, v in vars(config.Config).items() if not k.startswith(\"__\")})"
   ]
  },
  {
   "cell_type": "markdown",
   "id": "1a169f65-83dd-4567-a236-b7f6c7647088",
   "metadata": {},
   "source": [
    "The next cell essentially constructs the real-space lattice, by creating $(2N_\\textrm{CELLS}+1)^3$ lattice vectors. The cell after it performs a simple visualization for $N_\\textrm{CELLS}=1$."
   ]
  },
  {
   "cell_type": "code",
   "execution_count": 35,
   "id": "48bd7e70-26f7-4a6e-909e-29438728af22",
   "metadata": {},
   "outputs": [],
   "source": [
    "from tsc.utilities import get_RPTS\n",
    "\n",
    "# Construct the lattice sites matrix\n",
    "RPTS = get_RPTS(a_1, a_2, a_3, NCELLS)"
   ]
  },
  {
   "cell_type": "code",
   "execution_count": 36,
   "id": "1f69d7d5-6f5f-4e4d-aea7-95c5bef98404",
   "metadata": {},
   "outputs": [
    {
     "data": {
      "application/vnd.plotly.v1+json": {
       "config": {
        "plotlyServerURL": "https://plot.ly"
       },
       "data": [
        {
         "marker": {
          "color": "blue",
          "size": 5,
          "symbol": "cross"
         },
         "mode": "markers",
         "type": "scatter3d",
         "x": [
          -1,
          -1,
          -1,
          -1,
          -1,
          -1,
          -1,
          -1,
          -1,
          0,
          0,
          0,
          0,
          0,
          0,
          0,
          0,
          0,
          1,
          1,
          1,
          1,
          1,
          1,
          1,
          1,
          1
         ],
         "y": [
          -1,
          -1,
          -1,
          0,
          0,
          0,
          1,
          1,
          1,
          -1,
          -1,
          -1,
          0,
          0,
          0,
          1,
          1,
          1,
          -1,
          -1,
          -1,
          0,
          0,
          0,
          1,
          1,
          1
         ],
         "z": [
          -1,
          0,
          1,
          -1,
          0,
          1,
          -1,
          0,
          1,
          -1,
          0,
          1,
          -1,
          0,
          1,
          -1,
          0,
          1,
          -1,
          0,
          1,
          -1,
          0,
          1,
          -1,
          0,
          1
         ]
        }
       ],
       "layout": {
        "autosize": true,
        "margin": {
         "b": 0,
         "l": 0,
         "r": 0,
         "t": 0
        },
        "scene": {
         "aspectmode": "auto",
         "aspectratio": {
          "x": 1,
          "y": 1,
          "z": 1
         },
         "camera": {
          "center": {
           "x": 0,
           "y": 0,
           "z": 0
          },
          "eye": {
           "x": 1.4848775432464352,
           "y": 1.4848775432464347,
           "z": 1.4848775432464352
          },
          "projection": {
           "type": "perspective"
          },
          "up": {
           "x": 0,
           "y": 0,
           "z": 1
          }
         }
        },
        "template": {
         "data": {
          "bar": [
           {
            "error_x": {
             "color": "#2a3f5f"
            },
            "error_y": {
             "color": "#2a3f5f"
            },
            "marker": {
             "line": {
              "color": "#E5ECF6",
              "width": 0.5
             },
             "pattern": {
              "fillmode": "overlay",
              "size": 10,
              "solidity": 0.2
             }
            },
            "type": "bar"
           }
          ],
          "barpolar": [
           {
            "marker": {
             "line": {
              "color": "#E5ECF6",
              "width": 0.5
             },
             "pattern": {
              "fillmode": "overlay",
              "size": 10,
              "solidity": 0.2
             }
            },
            "type": "barpolar"
           }
          ],
          "carpet": [
           {
            "aaxis": {
             "endlinecolor": "#2a3f5f",
             "gridcolor": "white",
             "linecolor": "white",
             "minorgridcolor": "white",
             "startlinecolor": "#2a3f5f"
            },
            "baxis": {
             "endlinecolor": "#2a3f5f",
             "gridcolor": "white",
             "linecolor": "white",
             "minorgridcolor": "white",
             "startlinecolor": "#2a3f5f"
            },
            "type": "carpet"
           }
          ],
          "choropleth": [
           {
            "colorbar": {
             "outlinewidth": 0,
             "ticks": ""
            },
            "type": "choropleth"
           }
          ],
          "contour": [
           {
            "colorbar": {
             "outlinewidth": 0,
             "ticks": ""
            },
            "colorscale": [
             [
              0,
              "#0d0887"
             ],
             [
              0.1111111111111111,
              "#46039f"
             ],
             [
              0.2222222222222222,
              "#7201a8"
             ],
             [
              0.3333333333333333,
              "#9c179e"
             ],
             [
              0.4444444444444444,
              "#bd3786"
             ],
             [
              0.5555555555555556,
              "#d8576b"
             ],
             [
              0.6666666666666666,
              "#ed7953"
             ],
             [
              0.7777777777777778,
              "#fb9f3a"
             ],
             [
              0.8888888888888888,
              "#fdca26"
             ],
             [
              1,
              "#f0f921"
             ]
            ],
            "type": "contour"
           }
          ],
          "contourcarpet": [
           {
            "colorbar": {
             "outlinewidth": 0,
             "ticks": ""
            },
            "type": "contourcarpet"
           }
          ],
          "heatmap": [
           {
            "colorbar": {
             "outlinewidth": 0,
             "ticks": ""
            },
            "colorscale": [
             [
              0,
              "#0d0887"
             ],
             [
              0.1111111111111111,
              "#46039f"
             ],
             [
              0.2222222222222222,
              "#7201a8"
             ],
             [
              0.3333333333333333,
              "#9c179e"
             ],
             [
              0.4444444444444444,
              "#bd3786"
             ],
             [
              0.5555555555555556,
              "#d8576b"
             ],
             [
              0.6666666666666666,
              "#ed7953"
             ],
             [
              0.7777777777777778,
              "#fb9f3a"
             ],
             [
              0.8888888888888888,
              "#fdca26"
             ],
             [
              1,
              "#f0f921"
             ]
            ],
            "type": "heatmap"
           }
          ],
          "heatmapgl": [
           {
            "colorbar": {
             "outlinewidth": 0,
             "ticks": ""
            },
            "colorscale": [
             [
              0,
              "#0d0887"
             ],
             [
              0.1111111111111111,
              "#46039f"
             ],
             [
              0.2222222222222222,
              "#7201a8"
             ],
             [
              0.3333333333333333,
              "#9c179e"
             ],
             [
              0.4444444444444444,
              "#bd3786"
             ],
             [
              0.5555555555555556,
              "#d8576b"
             ],
             [
              0.6666666666666666,
              "#ed7953"
             ],
             [
              0.7777777777777778,
              "#fb9f3a"
             ],
             [
              0.8888888888888888,
              "#fdca26"
             ],
             [
              1,
              "#f0f921"
             ]
            ],
            "type": "heatmapgl"
           }
          ],
          "histogram": [
           {
            "marker": {
             "pattern": {
              "fillmode": "overlay",
              "size": 10,
              "solidity": 0.2
             }
            },
            "type": "histogram"
           }
          ],
          "histogram2d": [
           {
            "colorbar": {
             "outlinewidth": 0,
             "ticks": ""
            },
            "colorscale": [
             [
              0,
              "#0d0887"
             ],
             [
              0.1111111111111111,
              "#46039f"
             ],
             [
              0.2222222222222222,
              "#7201a8"
             ],
             [
              0.3333333333333333,
              "#9c179e"
             ],
             [
              0.4444444444444444,
              "#bd3786"
             ],
             [
              0.5555555555555556,
              "#d8576b"
             ],
             [
              0.6666666666666666,
              "#ed7953"
             ],
             [
              0.7777777777777778,
              "#fb9f3a"
             ],
             [
              0.8888888888888888,
              "#fdca26"
             ],
             [
              1,
              "#f0f921"
             ]
            ],
            "type": "histogram2d"
           }
          ],
          "histogram2dcontour": [
           {
            "colorbar": {
             "outlinewidth": 0,
             "ticks": ""
            },
            "colorscale": [
             [
              0,
              "#0d0887"
             ],
             [
              0.1111111111111111,
              "#46039f"
             ],
             [
              0.2222222222222222,
              "#7201a8"
             ],
             [
              0.3333333333333333,
              "#9c179e"
             ],
             [
              0.4444444444444444,
              "#bd3786"
             ],
             [
              0.5555555555555556,
              "#d8576b"
             ],
             [
              0.6666666666666666,
              "#ed7953"
             ],
             [
              0.7777777777777778,
              "#fb9f3a"
             ],
             [
              0.8888888888888888,
              "#fdca26"
             ],
             [
              1,
              "#f0f921"
             ]
            ],
            "type": "histogram2dcontour"
           }
          ],
          "mesh3d": [
           {
            "colorbar": {
             "outlinewidth": 0,
             "ticks": ""
            },
            "type": "mesh3d"
           }
          ],
          "parcoords": [
           {
            "line": {
             "colorbar": {
              "outlinewidth": 0,
              "ticks": ""
             }
            },
            "type": "parcoords"
           }
          ],
          "pie": [
           {
            "automargin": true,
            "type": "pie"
           }
          ],
          "scatter": [
           {
            "fillpattern": {
             "fillmode": "overlay",
             "size": 10,
             "solidity": 0.2
            },
            "type": "scatter"
           }
          ],
          "scatter3d": [
           {
            "line": {
             "colorbar": {
              "outlinewidth": 0,
              "ticks": ""
             }
            },
            "marker": {
             "colorbar": {
              "outlinewidth": 0,
              "ticks": ""
             }
            },
            "type": "scatter3d"
           }
          ],
          "scattercarpet": [
           {
            "marker": {
             "colorbar": {
              "outlinewidth": 0,
              "ticks": ""
             }
            },
            "type": "scattercarpet"
           }
          ],
          "scattergeo": [
           {
            "marker": {
             "colorbar": {
              "outlinewidth": 0,
              "ticks": ""
             }
            },
            "type": "scattergeo"
           }
          ],
          "scattergl": [
           {
            "marker": {
             "colorbar": {
              "outlinewidth": 0,
              "ticks": ""
             }
            },
            "type": "scattergl"
           }
          ],
          "scattermapbox": [
           {
            "marker": {
             "colorbar": {
              "outlinewidth": 0,
              "ticks": ""
             }
            },
            "type": "scattermapbox"
           }
          ],
          "scatterpolar": [
           {
            "marker": {
             "colorbar": {
              "outlinewidth": 0,
              "ticks": ""
             }
            },
            "type": "scatterpolar"
           }
          ],
          "scatterpolargl": [
           {
            "marker": {
             "colorbar": {
              "outlinewidth": 0,
              "ticks": ""
             }
            },
            "type": "scatterpolargl"
           }
          ],
          "scatterternary": [
           {
            "marker": {
             "colorbar": {
              "outlinewidth": 0,
              "ticks": ""
             }
            },
            "type": "scatterternary"
           }
          ],
          "surface": [
           {
            "colorbar": {
             "outlinewidth": 0,
             "ticks": ""
            },
            "colorscale": [
             [
              0,
              "#0d0887"
             ],
             [
              0.1111111111111111,
              "#46039f"
             ],
             [
              0.2222222222222222,
              "#7201a8"
             ],
             [
              0.3333333333333333,
              "#9c179e"
             ],
             [
              0.4444444444444444,
              "#bd3786"
             ],
             [
              0.5555555555555556,
              "#d8576b"
             ],
             [
              0.6666666666666666,
              "#ed7953"
             ],
             [
              0.7777777777777778,
              "#fb9f3a"
             ],
             [
              0.8888888888888888,
              "#fdca26"
             ],
             [
              1,
              "#f0f921"
             ]
            ],
            "type": "surface"
           }
          ],
          "table": [
           {
            "cells": {
             "fill": {
              "color": "#EBF0F8"
             },
             "line": {
              "color": "white"
             }
            },
            "header": {
             "fill": {
              "color": "#C8D4E3"
             },
             "line": {
              "color": "white"
             }
            },
            "type": "table"
           }
          ]
         },
         "layout": {
          "annotationdefaults": {
           "arrowcolor": "#2a3f5f",
           "arrowhead": 0,
           "arrowwidth": 1
          },
          "autotypenumbers": "strict",
          "coloraxis": {
           "colorbar": {
            "outlinewidth": 0,
            "ticks": ""
           }
          },
          "colorscale": {
           "diverging": [
            [
             0,
             "#8e0152"
            ],
            [
             0.1,
             "#c51b7d"
            ],
            [
             0.2,
             "#de77ae"
            ],
            [
             0.3,
             "#f1b6da"
            ],
            [
             0.4,
             "#fde0ef"
            ],
            [
             0.5,
             "#f7f7f7"
            ],
            [
             0.6,
             "#e6f5d0"
            ],
            [
             0.7,
             "#b8e186"
            ],
            [
             0.8,
             "#7fbc41"
            ],
            [
             0.9,
             "#4d9221"
            ],
            [
             1,
             "#276419"
            ]
           ],
           "sequential": [
            [
             0,
             "#0d0887"
            ],
            [
             0.1111111111111111,
             "#46039f"
            ],
            [
             0.2222222222222222,
             "#7201a8"
            ],
            [
             0.3333333333333333,
             "#9c179e"
            ],
            [
             0.4444444444444444,
             "#bd3786"
            ],
            [
             0.5555555555555556,
             "#d8576b"
            ],
            [
             0.6666666666666666,
             "#ed7953"
            ],
            [
             0.7777777777777778,
             "#fb9f3a"
            ],
            [
             0.8888888888888888,
             "#fdca26"
            ],
            [
             1,
             "#f0f921"
            ]
           ],
           "sequentialminus": [
            [
             0,
             "#0d0887"
            ],
            [
             0.1111111111111111,
             "#46039f"
            ],
            [
             0.2222222222222222,
             "#7201a8"
            ],
            [
             0.3333333333333333,
             "#9c179e"
            ],
            [
             0.4444444444444444,
             "#bd3786"
            ],
            [
             0.5555555555555556,
             "#d8576b"
            ],
            [
             0.6666666666666666,
             "#ed7953"
            ],
            [
             0.7777777777777778,
             "#fb9f3a"
            ],
            [
             0.8888888888888888,
             "#fdca26"
            ],
            [
             1,
             "#f0f921"
            ]
           ]
          },
          "colorway": [
           "#636efa",
           "#EF553B",
           "#00cc96",
           "#ab63fa",
           "#FFA15A",
           "#19d3f3",
           "#FF6692",
           "#B6E880",
           "#FF97FF",
           "#FECB52"
          ],
          "font": {
           "color": "#2a3f5f"
          },
          "geo": {
           "bgcolor": "white",
           "lakecolor": "white",
           "landcolor": "#E5ECF6",
           "showlakes": true,
           "showland": true,
           "subunitcolor": "white"
          },
          "hoverlabel": {
           "align": "left"
          },
          "hovermode": "closest",
          "mapbox": {
           "style": "light"
          },
          "paper_bgcolor": "white",
          "plot_bgcolor": "#E5ECF6",
          "polar": {
           "angularaxis": {
            "gridcolor": "white",
            "linecolor": "white",
            "ticks": ""
           },
           "bgcolor": "#E5ECF6",
           "radialaxis": {
            "gridcolor": "white",
            "linecolor": "white",
            "ticks": ""
           }
          },
          "scene": {
           "xaxis": {
            "backgroundcolor": "#E5ECF6",
            "gridcolor": "white",
            "gridwidth": 2,
            "linecolor": "white",
            "showbackground": true,
            "ticks": "",
            "zerolinecolor": "white"
           },
           "yaxis": {
            "backgroundcolor": "#E5ECF6",
            "gridcolor": "white",
            "gridwidth": 2,
            "linecolor": "white",
            "showbackground": true,
            "ticks": "",
            "zerolinecolor": "white"
           },
           "zaxis": {
            "backgroundcolor": "#E5ECF6",
            "gridcolor": "white",
            "gridwidth": 2,
            "linecolor": "white",
            "showbackground": true,
            "ticks": "",
            "zerolinecolor": "white"
           }
          },
          "shapedefaults": {
           "line": {
            "color": "#2a3f5f"
           }
          },
          "ternary": {
           "aaxis": {
            "gridcolor": "white",
            "linecolor": "white",
            "ticks": ""
           },
           "baxis": {
            "gridcolor": "white",
            "linecolor": "white",
            "ticks": ""
           },
           "bgcolor": "#E5ECF6",
           "caxis": {
            "gridcolor": "white",
            "linecolor": "white",
            "ticks": ""
           }
          },
          "title": {
           "x": 0.05
          },
          "xaxis": {
           "automargin": true,
           "gridcolor": "white",
           "linecolor": "white",
           "ticks": "",
           "title": {
            "standoff": 15
           },
           "zerolinecolor": "white",
           "zerolinewidth": 2
          },
          "yaxis": {
           "automargin": true,
           "gridcolor": "white",
           "linecolor": "white",
           "ticks": "",
           "title": {
            "standoff": 15
           },
           "zerolinecolor": "white",
           "zerolinewidth": 2
          }
         }
        }
       }
      },
      "text/html": [
       "<div>                            <div id=\"723dc018-28dc-49af-acc9-34e89aa0d2f2\" class=\"plotly-graph-div\" style=\"height:525px; width:100%;\"></div>            <script type=\"text/javascript\">                require([\"plotly\"], function(Plotly) {                    window.PLOTLYENV=window.PLOTLYENV || {};                                    if (document.getElementById(\"723dc018-28dc-49af-acc9-34e89aa0d2f2\")) {                    Plotly.newPlot(                        \"723dc018-28dc-49af-acc9-34e89aa0d2f2\",                        [{\"marker\":{\"color\":\"blue\",\"size\":5,\"symbol\":\"cross\"},\"mode\":\"markers\",\"x\":[-1.0,-1.0,-1.0,-1.0,-1.0,-1.0,-1.0,-1.0,-1.0,0.0,0.0,0.0,0.0,0.0,0.0,0.0,0.0,0.0,1.0,1.0,1.0,1.0,1.0,1.0,1.0,1.0,1.0],\"y\":[-1.0,-1.0,-1.0,0.0,0.0,0.0,1.0,1.0,1.0,-1.0,-1.0,-1.0,0.0,0.0,0.0,1.0,1.0,1.0,-1.0,-1.0,-1.0,0.0,0.0,0.0,1.0,1.0,1.0],\"z\":[-1.0,0.0,1.0,-1.0,0.0,1.0,-1.0,0.0,1.0,-1.0,0.0,1.0,-1.0,0.0,1.0,-1.0,0.0,1.0,-1.0,0.0,1.0,-1.0,0.0,1.0,-1.0,0.0,1.0],\"type\":\"scatter3d\"}],                        {\"template\":{\"data\":{\"histogram2dcontour\":[{\"type\":\"histogram2dcontour\",\"colorbar\":{\"outlinewidth\":0,\"ticks\":\"\"},\"colorscale\":[[0.0,\"#0d0887\"],[0.1111111111111111,\"#46039f\"],[0.2222222222222222,\"#7201a8\"],[0.3333333333333333,\"#9c179e\"],[0.4444444444444444,\"#bd3786\"],[0.5555555555555556,\"#d8576b\"],[0.6666666666666666,\"#ed7953\"],[0.7777777777777778,\"#fb9f3a\"],[0.8888888888888888,\"#fdca26\"],[1.0,\"#f0f921\"]]}],\"choropleth\":[{\"type\":\"choropleth\",\"colorbar\":{\"outlinewidth\":0,\"ticks\":\"\"}}],\"histogram2d\":[{\"type\":\"histogram2d\",\"colorbar\":{\"outlinewidth\":0,\"ticks\":\"\"},\"colorscale\":[[0.0,\"#0d0887\"],[0.1111111111111111,\"#46039f\"],[0.2222222222222222,\"#7201a8\"],[0.3333333333333333,\"#9c179e\"],[0.4444444444444444,\"#bd3786\"],[0.5555555555555556,\"#d8576b\"],[0.6666666666666666,\"#ed7953\"],[0.7777777777777778,\"#fb9f3a\"],[0.8888888888888888,\"#fdca26\"],[1.0,\"#f0f921\"]]}],\"heatmap\":[{\"type\":\"heatmap\",\"colorbar\":{\"outlinewidth\":0,\"ticks\":\"\"},\"colorscale\":[[0.0,\"#0d0887\"],[0.1111111111111111,\"#46039f\"],[0.2222222222222222,\"#7201a8\"],[0.3333333333333333,\"#9c179e\"],[0.4444444444444444,\"#bd3786\"],[0.5555555555555556,\"#d8576b\"],[0.6666666666666666,\"#ed7953\"],[0.7777777777777778,\"#fb9f3a\"],[0.8888888888888888,\"#fdca26\"],[1.0,\"#f0f921\"]]}],\"heatmapgl\":[{\"type\":\"heatmapgl\",\"colorbar\":{\"outlinewidth\":0,\"ticks\":\"\"},\"colorscale\":[[0.0,\"#0d0887\"],[0.1111111111111111,\"#46039f\"],[0.2222222222222222,\"#7201a8\"],[0.3333333333333333,\"#9c179e\"],[0.4444444444444444,\"#bd3786\"],[0.5555555555555556,\"#d8576b\"],[0.6666666666666666,\"#ed7953\"],[0.7777777777777778,\"#fb9f3a\"],[0.8888888888888888,\"#fdca26\"],[1.0,\"#f0f921\"]]}],\"contourcarpet\":[{\"type\":\"contourcarpet\",\"colorbar\":{\"outlinewidth\":0,\"ticks\":\"\"}}],\"contour\":[{\"type\":\"contour\",\"colorbar\":{\"outlinewidth\":0,\"ticks\":\"\"},\"colorscale\":[[0.0,\"#0d0887\"],[0.1111111111111111,\"#46039f\"],[0.2222222222222222,\"#7201a8\"],[0.3333333333333333,\"#9c179e\"],[0.4444444444444444,\"#bd3786\"],[0.5555555555555556,\"#d8576b\"],[0.6666666666666666,\"#ed7953\"],[0.7777777777777778,\"#fb9f3a\"],[0.8888888888888888,\"#fdca26\"],[1.0,\"#f0f921\"]]}],\"surface\":[{\"type\":\"surface\",\"colorbar\":{\"outlinewidth\":0,\"ticks\":\"\"},\"colorscale\":[[0.0,\"#0d0887\"],[0.1111111111111111,\"#46039f\"],[0.2222222222222222,\"#7201a8\"],[0.3333333333333333,\"#9c179e\"],[0.4444444444444444,\"#bd3786\"],[0.5555555555555556,\"#d8576b\"],[0.6666666666666666,\"#ed7953\"],[0.7777777777777778,\"#fb9f3a\"],[0.8888888888888888,\"#fdca26\"],[1.0,\"#f0f921\"]]}],\"mesh3d\":[{\"type\":\"mesh3d\",\"colorbar\":{\"outlinewidth\":0,\"ticks\":\"\"}}],\"scatter\":[{\"fillpattern\":{\"fillmode\":\"overlay\",\"size\":10,\"solidity\":0.2},\"type\":\"scatter\"}],\"parcoords\":[{\"type\":\"parcoords\",\"line\":{\"colorbar\":{\"outlinewidth\":0,\"ticks\":\"\"}}}],\"scatterpolargl\":[{\"type\":\"scatterpolargl\",\"marker\":{\"colorbar\":{\"outlinewidth\":0,\"ticks\":\"\"}}}],\"bar\":[{\"error_x\":{\"color\":\"#2a3f5f\"},\"error_y\":{\"color\":\"#2a3f5f\"},\"marker\":{\"line\":{\"color\":\"#E5ECF6\",\"width\":0.5},\"pattern\":{\"fillmode\":\"overlay\",\"size\":10,\"solidity\":0.2}},\"type\":\"bar\"}],\"scattergeo\":[{\"type\":\"scattergeo\",\"marker\":{\"colorbar\":{\"outlinewidth\":0,\"ticks\":\"\"}}}],\"scatterpolar\":[{\"type\":\"scatterpolar\",\"marker\":{\"colorbar\":{\"outlinewidth\":0,\"ticks\":\"\"}}}],\"histogram\":[{\"marker\":{\"pattern\":{\"fillmode\":\"overlay\",\"size\":10,\"solidity\":0.2}},\"type\":\"histogram\"}],\"scattergl\":[{\"type\":\"scattergl\",\"marker\":{\"colorbar\":{\"outlinewidth\":0,\"ticks\":\"\"}}}],\"scatter3d\":[{\"type\":\"scatter3d\",\"line\":{\"colorbar\":{\"outlinewidth\":0,\"ticks\":\"\"}},\"marker\":{\"colorbar\":{\"outlinewidth\":0,\"ticks\":\"\"}}}],\"scattermapbox\":[{\"type\":\"scattermapbox\",\"marker\":{\"colorbar\":{\"outlinewidth\":0,\"ticks\":\"\"}}}],\"scatterternary\":[{\"type\":\"scatterternary\",\"marker\":{\"colorbar\":{\"outlinewidth\":0,\"ticks\":\"\"}}}],\"scattercarpet\":[{\"type\":\"scattercarpet\",\"marker\":{\"colorbar\":{\"outlinewidth\":0,\"ticks\":\"\"}}}],\"carpet\":[{\"aaxis\":{\"endlinecolor\":\"#2a3f5f\",\"gridcolor\":\"white\",\"linecolor\":\"white\",\"minorgridcolor\":\"white\",\"startlinecolor\":\"#2a3f5f\"},\"baxis\":{\"endlinecolor\":\"#2a3f5f\",\"gridcolor\":\"white\",\"linecolor\":\"white\",\"minorgridcolor\":\"white\",\"startlinecolor\":\"#2a3f5f\"},\"type\":\"carpet\"}],\"table\":[{\"cells\":{\"fill\":{\"color\":\"#EBF0F8\"},\"line\":{\"color\":\"white\"}},\"header\":{\"fill\":{\"color\":\"#C8D4E3\"},\"line\":{\"color\":\"white\"}},\"type\":\"table\"}],\"barpolar\":[{\"marker\":{\"line\":{\"color\":\"#E5ECF6\",\"width\":0.5},\"pattern\":{\"fillmode\":\"overlay\",\"size\":10,\"solidity\":0.2}},\"type\":\"barpolar\"}],\"pie\":[{\"automargin\":true,\"type\":\"pie\"}]},\"layout\":{\"autotypenumbers\":\"strict\",\"colorway\":[\"#636efa\",\"#EF553B\",\"#00cc96\",\"#ab63fa\",\"#FFA15A\",\"#19d3f3\",\"#FF6692\",\"#B6E880\",\"#FF97FF\",\"#FECB52\"],\"font\":{\"color\":\"#2a3f5f\"},\"hovermode\":\"closest\",\"hoverlabel\":{\"align\":\"left\"},\"paper_bgcolor\":\"white\",\"plot_bgcolor\":\"#E5ECF6\",\"polar\":{\"bgcolor\":\"#E5ECF6\",\"angularaxis\":{\"gridcolor\":\"white\",\"linecolor\":\"white\",\"ticks\":\"\"},\"radialaxis\":{\"gridcolor\":\"white\",\"linecolor\":\"white\",\"ticks\":\"\"}},\"ternary\":{\"bgcolor\":\"#E5ECF6\",\"aaxis\":{\"gridcolor\":\"white\",\"linecolor\":\"white\",\"ticks\":\"\"},\"baxis\":{\"gridcolor\":\"white\",\"linecolor\":\"white\",\"ticks\":\"\"},\"caxis\":{\"gridcolor\":\"white\",\"linecolor\":\"white\",\"ticks\":\"\"}},\"coloraxis\":{\"colorbar\":{\"outlinewidth\":0,\"ticks\":\"\"}},\"colorscale\":{\"sequential\":[[0.0,\"#0d0887\"],[0.1111111111111111,\"#46039f\"],[0.2222222222222222,\"#7201a8\"],[0.3333333333333333,\"#9c179e\"],[0.4444444444444444,\"#bd3786\"],[0.5555555555555556,\"#d8576b\"],[0.6666666666666666,\"#ed7953\"],[0.7777777777777778,\"#fb9f3a\"],[0.8888888888888888,\"#fdca26\"],[1.0,\"#f0f921\"]],\"sequentialminus\":[[0.0,\"#0d0887\"],[0.1111111111111111,\"#46039f\"],[0.2222222222222222,\"#7201a8\"],[0.3333333333333333,\"#9c179e\"],[0.4444444444444444,\"#bd3786\"],[0.5555555555555556,\"#d8576b\"],[0.6666666666666666,\"#ed7953\"],[0.7777777777777778,\"#fb9f3a\"],[0.8888888888888888,\"#fdca26\"],[1.0,\"#f0f921\"]],\"diverging\":[[0,\"#8e0152\"],[0.1,\"#c51b7d\"],[0.2,\"#de77ae\"],[0.3,\"#f1b6da\"],[0.4,\"#fde0ef\"],[0.5,\"#f7f7f7\"],[0.6,\"#e6f5d0\"],[0.7,\"#b8e186\"],[0.8,\"#7fbc41\"],[0.9,\"#4d9221\"],[1,\"#276419\"]]},\"xaxis\":{\"gridcolor\":\"white\",\"linecolor\":\"white\",\"ticks\":\"\",\"title\":{\"standoff\":15},\"zerolinecolor\":\"white\",\"automargin\":true,\"zerolinewidth\":2},\"yaxis\":{\"gridcolor\":\"white\",\"linecolor\":\"white\",\"ticks\":\"\",\"title\":{\"standoff\":15},\"zerolinecolor\":\"white\",\"automargin\":true,\"zerolinewidth\":2},\"scene\":{\"xaxis\":{\"backgroundcolor\":\"#E5ECF6\",\"gridcolor\":\"white\",\"linecolor\":\"white\",\"showbackground\":true,\"ticks\":\"\",\"zerolinecolor\":\"white\",\"gridwidth\":2},\"yaxis\":{\"backgroundcolor\":\"#E5ECF6\",\"gridcolor\":\"white\",\"linecolor\":\"white\",\"showbackground\":true,\"ticks\":\"\",\"zerolinecolor\":\"white\",\"gridwidth\":2},\"zaxis\":{\"backgroundcolor\":\"#E5ECF6\",\"gridcolor\":\"white\",\"linecolor\":\"white\",\"showbackground\":true,\"ticks\":\"\",\"zerolinecolor\":\"white\",\"gridwidth\":2}},\"shapedefaults\":{\"line\":{\"color\":\"#2a3f5f\"}},\"annotationdefaults\":{\"arrowcolor\":\"#2a3f5f\",\"arrowhead\":0,\"arrowwidth\":1},\"geo\":{\"bgcolor\":\"white\",\"landcolor\":\"#E5ECF6\",\"subunitcolor\":\"white\",\"showland\":true,\"showlakes\":true,\"lakecolor\":\"white\"},\"title\":{\"x\":0.05},\"mapbox\":{\"style\":\"light\"}}},\"margin\":{\"l\":0,\"r\":0,\"b\":0,\"t\":0}},                        {\"responsive\": true}                    ).then(function(){\n",
       "                            \n",
       "var gd = document.getElementById('723dc018-28dc-49af-acc9-34e89aa0d2f2');\n",
       "var x = new MutationObserver(function (mutations, observer) {{\n",
       "        var display = window.getComputedStyle(gd).display;\n",
       "        if (!display || display === 'none') {{\n",
       "            console.log([gd, 'removed!']);\n",
       "            Plotly.purge(gd);\n",
       "            observer.disconnect();\n",
       "        }}\n",
       "}});\n",
       "\n",
       "// Listen for the removal of the full notebook cells\n",
       "var notebookContainer = gd.closest('#notebook-container');\n",
       "if (notebookContainer) {{\n",
       "    x.observe(notebookContainer, {childList: true});\n",
       "}}\n",
       "\n",
       "// Listen for the clearing of the current output cell\n",
       "var outputEl = gd.closest('.output');\n",
       "if (outputEl) {{\n",
       "    x.observe(outputEl, {childList: true});\n",
       "}}\n",
       "\n",
       "                        })                };                });            </script>        </div>"
      ]
     },
     "metadata": {},
     "output_type": "display_data"
    }
   ],
   "source": [
    "from tests.doc_plots import plot_lattice\n",
    "\n",
    "plot_lattice(RPTS)"
   ]
  },
  {
   "cell_type": "markdown",
   "id": "26a846c7-df57-423b-b3b2-d43b3d2863dd",
   "metadata": {},
   "source": [
    "The blue points in the figure above correspond to lattice sites, but the lattice has not yet been populated. To populate the lattice, we must also include basis atoms. These are generated from functions inside the `basis_atoms.py` file. The example below uses two types of basis atoms: one of type 1 and one of type 2. In general, types correspond to different elements."
   ]
  },
  {
   "cell_type": "code",
   "execution_count": 62,
   "id": "5296318b-8832-47b7-a87c-6587f00dfbe0",
   "metadata": {},
   "outputs": [],
   "source": [
    "from tsc.basis_atoms import single_atom, extract_atom_vectors\n",
    "\n",
    "# Call functions from basis_atoms.py to get atoms\n",
    "atom_1 = single_atom(x = 0.0, y = 0.0, z = 0.0, atom_type = 1, E_0 = 0.0, U = 0.0, \n",
    "                     n_bar = 0.4, B_x = 0.0, B_y = 0.0, B_z = 0.5, Λ = 0.0)\n",
    "atom_2 = single_atom(x = 0.2, y = 0.2, z = 0.2, atom_type = 2, E_0 = 0.4, U = 0.5, \n",
    "                     n_bar = 1.0, B_x = 0.5, B_y = 0.2, B_z = 0.5, Λ = 0.0)\n",
    "\n",
    "# Stack the results to get the basis atoms array\n",
    "atoms = np.vstack((atom_1,atom_2))\n",
    "#atoms = atom_1\n",
    "\n",
    "# Extract the vectors from the called function\n",
    "TPTS, atom_types, E_0, U, n_bar, B, Λ = extract_atom_vectors(atoms)\n",
    "\n",
    "# Write down the number of basis atoms\n",
    "N_b: int = TPTS.shape[0]"
   ]
  },
  {
   "cell_type": "markdown",
   "id": "e8269e1a-2ea6-4514-84ac-7b25e58aa4e2",
   "metadata": {},
   "source": [
    "The parameters here correspond to the basis atom's position on the lattice ($x$,$y$,$z$), its type, its on-site energy ($\\varepsilon_i$ in theory), its local charge neutrality constant ($U_i$ in theory), its desired charge ($\\bar{n}_i$ in theory), its local Zeeman field ($\\mathbf{B}_i$ in theory) and its effective coupling constant ($\\Lambda_i$ in theory)."
   ]
  },
  {
   "cell_type": "markdown",
   "id": "ab343bec-a41b-4fd1-8a23-dfe5f8684def",
   "metadata": {},
   "source": [
    "The following graph depicts the basis atoms populating the lattice that we previously set up."
   ]
  },
  {
   "cell_type": "code",
   "execution_count": 63,
   "id": "bcb8ebba-9cf7-49c5-a539-af3d1b52a0f3",
   "metadata": {},
   "outputs": [],
   "source": [
    "from tests.doc_plots import plot_atoms\n",
    "\n",
    "#plot_atoms(RPTS,TPTS)"
   ]
  },
  {
   "cell_type": "code",
   "execution_count": null,
   "id": "fe09c0cd-1756-41a6-afbc-fb0b2f7a16b4",
   "metadata": {},
   "outputs": [],
   "source": []
  },
  {
   "cell_type": "markdown",
   "id": "863d101d-d664-4cd9-9090-3f698d41d78e",
   "metadata": {},
   "source": [
    "## Optimization Intermission"
   ]
  },
  {
   "cell_type": "markdown",
   "id": "9cf04fa1-1d02-4ace-a2ad-4039b2efd2ca",
   "metadata": {},
   "source": [
    "With the basic setup complete, and before we move on with the setup of the Hamiltonian, we will compute some matrices that will come in handy further down the road. The tight-binding approximation works for a number of neighbours that are within a sphere of radius $R_\\textrm{max}$; all other hoppings are considered impossible. However, there are many places throughout the codebase where distances need to be taken into account by looping over `RPTS` and `TPTS`. To avoid calculating all distances for every atom, every time we need to, we spare some time to calculate only the absolutely necessary distances (as well as atom-type connections)."
   ]
  },
  {
   "cell_type": "markdown",
   "id": "f80be92e-1a55-4b7d-a32d-7be6511b188b",
   "metadata": {},
   "source": [
    "The fist step for this is to calculate the exact number of neighbours for each atom. Note that the functions used here are by no means optimized. However, the thing we are trying to optimize in terms of runtime is the self-consistency cycles, which include the diagonalization of a matrix - this is the most time-costly process in the code. Things that are not really optimized (for example using vectorization) but run only once are okay (especially if we njit them for cases when we need to run many different scripts and configurations)."
   ]
  },
  {
   "cell_type": "code",
   "execution_count": 64,
   "id": "e7128966-eaa2-480a-8d05-fe825ba09a8b",
   "metadata": {},
   "outputs": [],
   "source": [
    "from tsc.utilities import get_nndists\n",
    "\n",
    "# Get an array with the number of neighbours per atom\n",
    "num_neighbs = get_nndists(RPTS, TPTS, R_max)"
   ]
  },
  {
   "cell_type": "markdown",
   "id": "23d7a4f1-de4e-49a8-a3da-b3547931124a",
   "metadata": {},
   "source": [
    "Now that we have the number of each atom's neighbours, we proceed to calculate all the allowed (i.e. smaller than $R_\\textrm{max}$) distances for each of them. Additionally, we get a list of all neighbouring combinations I, J when it comes to atom types."
   ]
  },
  {
   "cell_type": "code",
   "execution_count": 65,
   "id": "64e8bf86-deb1-4576-ba13-ef76176d8836",
   "metadata": {},
   "outputs": [],
   "source": [
    "from tsc.utilities import get_connections\n",
    "\n",
    "# Get the maximum number of neighbours\n",
    "max_neighb = num_neighbs.max()\n",
    "\n",
    "# Get the type_IJ and Rvec_ij matrices\n",
    "type_IJ, Rvec_ij = get_connections(max_neighb, RPTS, TPTS, R_max)"
   ]
  },
  {
   "cell_type": "markdown",
   "id": "ed1cf9c6-589f-419f-bbfd-9b4cf01b37ff",
   "metadata": {},
   "source": [
    "Essentially, `type_IJ[i,:]` corresponds to the types of neighbours of atom `i`. For example,"
   ]
  },
  {
   "cell_type": "code",
   "execution_count": 66,
   "id": "73caeca2-b676-4795-b6e0-9ee84022a3eb",
   "metadata": {},
   "outputs": [
    {
     "name": "stdout",
     "output_type": "stream",
     "text": [
      "[0 0 0 0 0 0 1 1 1 1]\n"
     ]
    }
   ],
   "source": [
    "print(type_IJ[0,:])"
   ]
  },
  {
   "cell_type": "markdown",
   "id": "417de877-0470-499d-b588-2a8ad7cef33b",
   "metadata": {},
   "source": [
    "Similarly, `Rvec_ij[i,:,:]` is a 2D array that corresponds to basis atom `i`. Each row in it represents the relative position vector from itom `i` to one of its neighbours. For example, "
   ]
  },
  {
   "cell_type": "code",
   "execution_count": 67,
   "id": "c49acda2-b0ac-4ad9-a48c-64c882c91647",
   "metadata": {},
   "outputs": [
    {
     "name": "stdout",
     "output_type": "stream",
     "text": [
      "[[-1.   0.   0. ]\n",
      " [ 0.  -1.   0. ]\n",
      " [ 0.   0.  -1. ]\n",
      " [ 0.   0.   1. ]\n",
      " [ 0.   1.   0. ]\n",
      " [ 1.   0.   0. ]\n",
      " [-0.8  0.2  0.2]\n",
      " [ 0.2 -0.8  0.2]\n",
      " [ 0.2  0.2 -0.8]\n",
      " [ 0.2  0.2  0.2]]\n"
     ]
    }
   ],
   "source": [
    "print(Rvec_ij[0,:,:])"
   ]
  },
  {
   "cell_type": "markdown",
   "id": "f33ab571-30f0-4aa4-be74-8a656de47ceb",
   "metadata": {},
   "source": [
    "The reader may have noticed that, instead of calculating each atom's number of neighbours and then calculating these connections, we could have done it simultaneously and then padded the connections with zeros to get the same results. Again, code readability is more important in this case, since the optimization of less than a few seconds is not a good tradeoff."
   ]
  },
  {
   "cell_type": "markdown",
   "id": "ce542488-6b60-4ab8-b443-abfb5f1cf3b1",
   "metadata": {},
   "source": [
    "Closing this section, we remark that the `type_IJ` and `Rvec_ij` arrays have been created within the same loop (the `num_neighbs` array as well), so from now on we do not need to loop over TPTS and RPTS anymore, as we have everything we need in these connection arrays. This was the optimization we were looking for, even though it might seem counter-intuitive that we achieved it using very not-optimized functions."
   ]
  },
  {
   "cell_type": "code",
   "execution_count": null,
   "id": "a96487e2-ee1a-4793-86ec-89a2f2d854d0",
   "metadata": {},
   "outputs": [],
   "source": []
  },
  {
   "cell_type": "markdown",
   "id": "f7869ef1-22df-4260-898b-24a029130cac",
   "metadata": {},
   "source": [
    "## Hamiltonian Preparations"
   ]
  },
  {
   "cell_type": "markdown",
   "id": "82b42337-cff7-4d29-bb4c-9ead0afcff9b",
   "metadata": {},
   "source": [
    "Okay, we lied. As you will see, we will loop over RPTS and TPTS for one final time (we will explain why). Our goal now is to setup the things necessary to define our Hamiltonian."
   ]
  },
  {
   "cell_type": "markdown",
   "id": "c1c87ff0-edf2-48e8-b6e4-3c3ebe25dbdc",
   "metadata": {},
   "source": [
    "### Hopping Element Constants"
   ]
  },
  {
   "cell_type": "markdown",
   "id": "81a2dca3-5123-4391-bbbc-a1c3ca1fca94",
   "metadata": {},
   "source": [
    "Our purpose is first to calculate the atom-dependent constants of the hopping elements. To do this, we first count the number of unique atoms, `N_unique`, and also re-encode the atom types (for instance, if a user submits atom types using random numbers, we must re-type them using indices starting from 0 and increasing for each new atom type)."
   ]
  },
  {
   "cell_type": "code",
   "execution_count": 68,
   "id": "a31d05ff-0f57-4e5a-874f-4c0dfc39efa5",
   "metadata": {},
   "outputs": [],
   "source": [
    "# Get the number of different atom types based on the basis_atoms configuration\n",
    "# Also re-encode the atom_types as 0, 1, 2, etc.\n",
    "unique_atoms, atom_types = np.unique(atom_types, return_inverse=True)\n",
    "N_unique: int = unique_atoms.shape[0]"
   ]
  },
  {
   "cell_type": "markdown",
   "id": "43ca3dbd-c493-4be8-8c3b-bac4f1f4014a",
   "metadata": {},
   "source": [
    "We then proceed to execute the `hopping_terms` function, which calculates the $t_0$ constants for each type of basis atom. One of its inputs is the `hop_mat` array, which corresponds to the hand-inserted $t_\\textrm{IJ}$ elements (see Theory). Our choice for the following example is the completely symmetrical case."
   ]
  },
  {
   "cell_type": "code",
   "execution_count": 69,
   "id": "08632dd4-021f-4577-aa6c-1337439806fc",
   "metadata": {},
   "outputs": [],
   "source": [
    "# Construct a completely symmetrical case\n",
    "hop_mat = np.ones((N_unique, N_unique))"
   ]
  },
  {
   "cell_type": "code",
   "execution_count": 70,
   "id": "d0f3655b-361a-4b5e-adea-e5f77319d86a",
   "metadata": {},
   "outputs": [],
   "source": [
    "from tsc.hamiltonian import hopping_consts\n",
    "\n",
    "# Get the hopping terms\n",
    "t_0 = hopping_consts(hop_mat, atom_types, TPTS, RPTS, R_0)"
   ]
  },
  {
   "cell_type": "markdown",
   "id": "b9f4d4c7-b4cc-47ab-b20d-86a4c24dbe1f",
   "metadata": {},
   "source": [
    "For those who may be wondering why we followed the **highly** non-optimized approach of 5 for-loops to calculate the hopping constants, the answer is that we could have done it using the `type_IJ` and `Rvec_ij` arrays. Nonetheless, the `Rvec_ij` array is usually padded with zeros, since not all atoms have the same number of neighbours, and this padding needs very delicate handling to avoid getting unphysical results. So, for one last time, we gave in to using the \"non-optimal\" approach. But this was truly the last time you'll ever hear (or read) about the TPTS and RPTS arrays. As a matter of fact, we can now calculate the actual hopping elements, as follows:"
   ]
  },
  {
   "cell_type": "code",
   "execution_count": 71,
   "id": "13bef7dc-5a34-46ab-bed9-875ddd74bd7b",
   "metadata": {},
   "outputs": [],
   "source": [
    "from tsc.hamiltonian import hopping_elements\n",
    "\n",
    "# Get the hopping elements\n",
    "t = hopping_elements(type_IJ, num_neighbs, Rvec_ij, atom_types, t_0, R_0)"
   ]
  },
  {
   "cell_type": "markdown",
   "id": "0b26adba-aad4-47c2-bae0-b114914853a1",
   "metadata": {},
   "source": [
    "### Momentum space"
   ]
  },
  {
   "cell_type": "markdown",
   "id": "3f6c719a-3f06-400d-aa73-86d977f0454e",
   "metadata": {},
   "source": [
    "The building blocks to start constructing the Hamiltonian are ready. However, for computational reasons, the Hamiltonian must be constructed in $k$-space, as explained in Theory. So, we first define the $k$-mesh."
   ]
  },
  {
   "cell_type": "code",
   "execution_count": 72,
   "id": "cb323aad-273b-4d79-91c4-e6920047681f",
   "metadata": {},
   "outputs": [],
   "source": [
    "from tsc.utilities import get_KPTS\n",
    "\n",
    "# Get a k-mesh with resolution that depends on N_x, N_y, N_z\n",
    "KPTS = get_KPTS(a_1, a_2, a_3, N_x, N_y, N_z)"
   ]
  },
  {
   "cell_type": "markdown",
   "id": "5301a567-018d-48e4-88d6-649b3f7436af",
   "metadata": {},
   "source": [
    "Then, using the $k$-mesh, we may calculate the Fourier exponentials, as we don't need to calculate them anew every time we setup the Hamiltonian."
   ]
  },
  {
   "cell_type": "code",
   "execution_count": 73,
   "id": "45c1dc6b-0c31-4221-be2b-a5ca993f8ddb",
   "metadata": {},
   "outputs": [],
   "source": [
    "from tsc.hamiltonian import get_exponentials\n",
    "\n",
    "# Get the exponentials\n",
    "fourier = get_exponentials(Rvec_ij, KPTS)"
   ]
  },
  {
   "cell_type": "markdown",
   "id": "c5dfad79-6abf-426b-b0f1-d61990521956",
   "metadata": {},
   "source": [
    "Finally, we have all the ingredients to start building the Hamiltonian during self-consistency cycles. Note that during them the $k$-space Hamiltonian will be diagonalized once per $k$ value. However, we don't have to setup the whole Hamiltonian from scratch for every $k$ value. For this reason, we split the construction of the Hamiltonian into two functions. First, comes the `prep_hamiltonian()` function, which builds the $4N_b\\times 4N_b$ Hamiltonian (see Theory) without the hopping elements. With the \"prepared\" Hamiltonian, we may then move on to the actual $k$-space Hamiltonian, for every value of $k$, where we also incorporate the hopping element accordingly, by calling the `get_hamiltonian()` function. These are performed in the next section, as part of the self-consistency routine."
   ]
  },
  {
   "cell_type": "code",
   "execution_count": null,
   "id": "df7d0c4d-4c6f-4790-bce6-87f74652275f",
   "metadata": {},
   "outputs": [],
   "source": []
  },
  {
   "cell_type": "markdown",
   "id": "e4c431ea-2fbd-4d44-afb5-581cb795ab10",
   "metadata": {},
   "source": [
    "## Self-consistency"
   ]
  },
  {
   "cell_type": "markdown",
   "id": "9521a5d5-aa8e-4802-9a0f-491a123f4ca0",
   "metadata": {},
   "source": [
    "TODO: Add description"
   ]
  },
  {
   "cell_type": "code",
   "execution_count": null,
   "id": "e2b124da-1ff1-4487-b6a7-6322ddf2fed2",
   "metadata": {},
   "outputs": [],
   "source": []
  },
  {
   "cell_type": "code",
   "execution_count": 74,
   "id": "cf2ff5ec-1c49-4c29-9d68-ce26a1316a4f",
   "metadata": {},
   "outputs": [],
   "source": [
    "from tsc.hamiltonian import prep_N_hamiltonian, get_N_hamiltonian\n",
    "from tsc.utilities import fermi"
   ]
  },
  {
   "cell_type": "code",
   "execution_count": null,
   "id": "037a0671-c579-4347-b49c-cdb207bb0a44",
   "metadata": {},
   "outputs": [],
   "source": []
  },
  {
   "cell_type": "code",
   "execution_count": null,
   "id": "28d1bdf1-f10b-445b-91d9-50fa6fb9c8dd",
   "metadata": {},
   "outputs": [],
   "source": []
  },
  {
   "cell_type": "code",
   "execution_count": 75,
   "id": "8ecf8fd8-5f46-4804-a39f-01236fc9fdf8",
   "metadata": {},
   "outputs": [
    {
     "name": "stdout",
     "output_type": "stream",
     "text": [
      "Initializing self-consistency procedure (Normal case) for a maximum of 50 cycles.\n",
      "Finished run No. 1.\n",
      "The current value for μ is -0.028. The total charge is 0.407, while the total magnetization is 0.151.\n",
      "Finished run No. 11.\n",
      "The current value for μ is -0.652. The total charge is 0.640, while the total magnetization is 0.125.\n",
      "Finished run No. 21.\n",
      "The current value for μ is -0.699. The total charge is 0.681, while the total magnetization is 0.124.\n",
      "Finished run No. 31.\n",
      "The current value for μ is -0.700. The total charge is 0.694, while the total magnetization is 0.124.\n",
      "Finished run No. 41.\n",
      "The current value for μ is -0.699. The total charge is 0.698, while the total magnetization is 0.124.\n",
      "Self-consistency procedure (Normal case) finished.\n"
     ]
    }
   ],
   "source": [
    "# First, initialize the values of μ and n based on their config values\n",
    "μ = μ_0\n",
    "n = np.ones((N_b))*n_0\n",
    "\n",
    "# Submit the maximum number of self-consistency cycles\n",
    "maxreps = 50\n",
    "\n",
    "print(f\"Initializing self-consistency procedure (Normal case) for a maximum of {maxreps} cycles.\")\n",
    "for rep in range(maxreps):\n",
    "    \n",
    "    # Create placeholder arrays for the eigenvalues and eigenvectors\n",
    "    E_vals, E_vecs = np.zeros((2*N_b*N_k)), np.zeros((2*N_b, 2*N_b*N_k), dtype=np.complex128)\n",
    "\n",
    "    # prepare the Hamiltonian\n",
    "    H_prep = prep_N_hamiltonian(E_0, μ, U, n, n_bar, B, s_0, s_1, s_2, s_3)\n",
    "    \n",
    "    for k in range(N_k):\n",
    "        # Get a deepcopy of H_prep so that we don't have to re-generate it\n",
    "        H_copied = copy.deepcopy(H_prep)\n",
    "        # Get a new H(k) for every k\n",
    "        H = get_N_hamiltonian(k, H_copied, type_IJ, num_neighbs, fourier, t)\n",
    "\n",
    "        # Diagonalize H(k)\n",
    "        w, v = sp.linalg.eigh(H)\n",
    "\n",
    "        # Store results\n",
    "        ini: int = k*2*N_b\n",
    "        fin: int = (k+1)*2*N_b\n",
    "        E_vals[ini:fin] = w\n",
    "        E_vecs[:, ini:fin] = v\n",
    "\n",
    "    # ---------------------------------------------------------\n",
    "    # At this point the diagonalization has finished\n",
    "    # so we move forward to calculations based on results\n",
    "    # ---------------------------------------------------------\n",
    "    \n",
    "    # Some splitting for easier reading\n",
    "    u_ups, u_downs = E_vecs[:N_b, :], E_vecs[N_b:, :]\n",
    "\n",
    "    # Helper calculations\n",
    "    ferm_e = fermi(E_vals, T, k_B)\n",
    "    u_up_squared = np.abs(u_ups)**2\n",
    "    u_down_squared = np.abs(u_downs)**2\n",
    "\n",
    "    # Calculations for charges and chemical potential\n",
    "    n_up = (ferm_e * u_up_squared).sum(axis=1) / N_k\n",
    "    n_down = (ferm_e * u_down_squared).sum(axis=1) / N_k\n",
    "    DOS_at_μ = (Γ/np.pi)*(1.0/N_k)*((u_up_squared+u_down_squared)/(Γ**2 + (E_vals-μ)**2)).sum()\n",
    "\n",
    "    n_new = n_up + n_down\n",
    "    μ_new = μ - 0.2*np.arctan((n_new-n_bar).sum()/DOS_at_μ)\n",
    "    \n",
    "    # We can also calculate the magnetization for completeness\n",
    "    m = n_up-n_down\n",
    "\n",
    "    # Set conditions to see if loop breaks (before updating the values)\n",
    "    cond_n = (np.abs(n_new - n) > e_metal).any()\n",
    "    cond_μ = np.abs(μ_new - μ) > e_metal\n",
    "    \n",
    "    # Update n and μ\n",
    "    n = (1.0-mix_n)*n + mix_n*n_new\n",
    "    μ = μ_new\n",
    "\n",
    "    # Some statistics\n",
    "    if rep % 10 == 0:\n",
    "        print(f\"Finished run No. {rep+1}.\")\n",
    "        N, M = n.sum()/N_b, m.sum()/N_b\n",
    "        print(f\"The current value for μ is {μ:.3f}. The total charge is {N:.3f}, while the total magnetization is {M:.3f}.\")\n",
    "\n",
    "    # Check if the loop should be broken (convergence achieved)\n",
    "    if not (cond_n or cond_μ):\n",
    "        break\n",
    "\n",
    "print(f\"Self-consistency procedure (Normal case) finished.\")"
   ]
  },
  {
   "cell_type": "code",
   "execution_count": null,
   "id": "a4623573-28d2-4427-b6a0-a2d04b06acac",
   "metadata": {},
   "outputs": [],
   "source": []
  },
  {
   "cell_type": "code",
   "execution_count": null,
   "id": "8fd66f10-0922-4f97-99df-daed712de368",
   "metadata": {},
   "outputs": [],
   "source": []
  },
  {
   "cell_type": "code",
   "execution_count": 83,
   "id": "e555c588-de1d-4bdd-8ecc-6b35e5139b9f",
   "metadata": {},
   "outputs": [],
   "source": [
    "def get_dos(E_vecs: np.ndarray, E_vals: np.ndarray, intervals: int, N_b: int) -> Tuple[np.ndarray, np.ndarray]:\n",
    "    # Get the energies and make an energy grid\n",
    "    Es = np.linspace(E_vals.min(),E_vals.max(),intervals)\n",
    "    # Setup an array to hold the DoS values\n",
    "    DOS = np.zeros((N_b,intervals))\n",
    "\n",
    "    # Extract wavefunctions for electrons\n",
    "    u_ups, u_downs = E_vecs[:N_b, :], E_vecs[N_b:2*N_b, :]\n",
    "    u_up_squared = np.abs(u_ups)**2\n",
    "    u_down_squared = np.abs(u_downs)**2\n",
    "    \n",
    "    for idx, E in enumerate(Es):\n",
    "        DOS[:,idx] = (Γ/np.pi)*(1.0/N_k)*((u_up_squared+u_down_squared)/(Γ**2 + (E_vals-E)**2)).sum(axis=1)\n",
    "\n",
    "    return Es, DOS"
   ]
  },
  {
   "cell_type": "code",
   "execution_count": null,
   "id": "3fe2e85f-000f-47f7-8c32-c5ec72186772",
   "metadata": {},
   "outputs": [],
   "source": []
  },
  {
   "cell_type": "code",
   "execution_count": null,
   "id": "9c41eab7-77e0-4f83-b4dd-b6c19c36ea15",
   "metadata": {},
   "outputs": [],
   "source": []
  },
  {
   "cell_type": "code",
   "execution_count": null,
   "id": "28174d3f-056e-4504-a056-a3b9e09a911a",
   "metadata": {},
   "outputs": [],
   "source": []
  },
  {
   "cell_type": "code",
   "execution_count": null,
   "id": "74082d76-447d-4820-a0f5-6e8a33d37ee1",
   "metadata": {},
   "outputs": [],
   "source": []
  },
  {
   "cell_type": "code",
   "execution_count": 49,
   "id": "00aefce5-96fd-4492-ba3b-0d52897ef120",
   "metadata": {},
   "outputs": [],
   "source": [
    "from tsc.hamiltonian import prep_SC_hamiltonian, get_SC_hamiltonian"
   ]
  },
  {
   "cell_type": "code",
   "execution_count": 53,
   "id": "3a84a9ca-a2b4-416c-9bf4-add216ee4b07",
   "metadata": {},
   "outputs": [
    {
     "name": "stdout",
     "output_type": "stream",
     "text": [
      "Initializing self-consistency procedure (SC case) for a maximum of 50 cycles.\n",
      "16000\n",
      "Finished run No. 1.\n",
      "The current value for μ is -0.129. The total charge is 0.417, while the total magnetization is 0.132.\n",
      "16000\n",
      "16000\n",
      "16000\n",
      "16000\n",
      "16000\n",
      "16000\n",
      "16000\n"
     ]
    },
    {
     "ename": "KeyboardInterrupt",
     "evalue": "",
     "output_type": "error",
     "traceback": [
      "\u001b[1;31m---------------------------------------------------------------------------\u001b[0m",
      "\u001b[1;31mKeyboardInterrupt\u001b[0m                         Traceback (most recent call last)",
      "File \u001b[1;32m<timed exec>:31\u001b[0m\n",
      "\u001b[1;31mKeyboardInterrupt\u001b[0m: "
     ]
    }
   ],
   "source": [
    "# First, initialize the values of μ, n and Δ based on their config values\n",
    "μ = μ_0\n",
    "n = np.ones((N_b))*n_0\n",
    "Δ = np.ones((N_b), dtype=np.complex128)*Δ_0\n",
    "\n",
    "# Submit the maximum number of self-consistency cycles\n",
    "maxreps = 50\n",
    "\n",
    "print(f\"Initializing self-consistency procedure (SC case) for a maximum of {maxreps} cycles.\")\n",
    "for rep in range(maxreps):\n",
    "    \n",
    "    # Create placeholder arrays for the eigenvalues and eigenvectors\n",
    "    E_vals, E_vecs = np.zeros((4*N_b*N_k)), np.zeros((4*N_b, 4*N_b*N_k), dtype=np.complex128)\n",
    "\n",
    "    # prepare the Hamiltonian\n",
    "    H_prep = prep_SC_hamiltonian(E_0, μ, U, n, n_bar, B, Δ, s_0, s_1, s_2, s_3)\n",
    "    \n",
    "    for k in range(N_k):\n",
    "        # Get a deepcopy of H_prep so that we don't have to re-generate it\n",
    "        H_copied = copy.deepcopy(H_prep)\n",
    "        # Get a new H(k) for every k\n",
    "        H = get_SC_hamiltonian(k, H_copied, type_IJ, num_neighbs, fourier, t)\n",
    "\n",
    "        # Diagonalize H(k)\n",
    "        w, v = sp.linalg.eigh(H)\n",
    "\n",
    "        # Store results\n",
    "        ini: int = k*4*N_b\n",
    "        fin: int = (k+1)*4*N_b\n",
    "        E_vals[ini:fin] = w\n",
    "        E_vecs[:, ini:fin] = v\n",
    "\n",
    "    # ---------------------------------------------------------\n",
    "    # At this point the diagonalization has finished\n",
    "    # so we move forward to calculations based on results\n",
    "    # ---------------------------------------------------------\n",
    "    \n",
    "    # Some splitting for easier reading\n",
    "    u_ups, u_downs, v_ups, v_downs = E_vecs[:N_b,:], E_vecs[N_b:2*N_b,:], E_vecs[2*N_b:3*N_b,:], E_vecs[3*N_b:,:]\n",
    "\n",
    "    # Helper calculations\n",
    "    ferm_e = fermi(E_vals, T, k_B)\n",
    "    u_up_squared = np.abs(u_ups)**2\n",
    "    u_down_squared = np.abs(u_downs)**2\n",
    "\n",
    "    # Calculations for charges and chemical potential\n",
    "    n_up = (ferm_e * u_up_squared).sum(axis=1) / N_k\n",
    "    n_down = (ferm_e * u_down_squared).sum(axis=1) / N_k\n",
    "    DOS_at_μ = (Γ/np.pi)*(1.0/N_k)*((u_up_squared+u_down_squared)/(Γ**2 + (E_vals-μ)**2)).sum()\n",
    "\n",
    "    n_new = n_up + n_down\n",
    "    μ_new = μ - 0.2*np.arctan((n_new-n_bar).sum()/DOS_at_μ)\n",
    "    \n",
    "    # We can also add magnetization here\n",
    "    m = n_up-n_down\n",
    "\n",
    "    # Set conditions to see if loop breaks (before updating the values)\n",
    "    cond_n = (np.abs(n_new - n) > e_metal).any()\n",
    "    cond_μ = np.abs(μ_new - μ) > e_metal\n",
    "    \n",
    "    # Update n, μ and Δ\n",
    "    n = (1.0-mix_n)*n + mix_n*n_new\n",
    "    μ = μ_new\n",
    "\n",
    "    # Some statistics\n",
    "    if rep % 10 == 0:\n",
    "        print(f\"Finished run No. {rep+1}.\")\n",
    "        N, M = n.sum()/N_b, m.sum()/N_b\n",
    "        print(f\"The current value for μ is {μ:.3f}. The total charge is {N:.3f}, while the total magnetization is {M:.3f}.\")\n",
    "\n",
    "    # Check if the loop should be broken (convergence achieved)\n",
    "    if not (cond_n or cond_μ):\n",
    "        break\n",
    "\n",
    "print(f\"Self-consistency procedure (SC case) finished.\")"
   ]
  },
  {
   "cell_type": "code",
   "execution_count": null,
   "id": "ab94b84c-7572-4e98-99e2-2bd5b10c143a",
   "metadata": {},
   "outputs": [],
   "source": []
  },
  {
   "cell_type": "code",
   "execution_count": null,
   "id": "aa98fd35-ab27-44a7-97a0-ab56f3c45a96",
   "metadata": {},
   "outputs": [],
   "source": []
  }
 ],
 "metadata": {
  "kernelspec": {
   "display_name": "Python 3 (ipykernel)",
   "language": "python",
   "name": "python3"
  },
  "language_info": {
   "codemirror_mode": {
    "name": "ipython",
    "version": 3
   },
   "file_extension": ".py",
   "mimetype": "text/x-python",
   "name": "python",
   "nbconvert_exporter": "python",
   "pygments_lexer": "ipython3",
   "version": "3.10.13"
  }
 },
 "nbformat": 4,
 "nbformat_minor": 5
}
