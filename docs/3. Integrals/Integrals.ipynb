{
 "cells": [
  {
   "cell_type": "markdown",
   "id": "fba2f093-c124-42f9-9cc4-ba0a34a03480",
   "metadata": {},
   "source": [
    "# Integrals"
   ]
  },
  {
   "cell_type": "markdown",
   "id": "e241d213-6659-417f-af1d-10155c29c4e5",
   "metadata": {},
   "source": [
    "This is a notebook that focuses on some additional documentation for the computational integration performed to obtain observables through the Green's function. Thankfully, we do not need to run the full BdG code (e.g. self-consistency), so we may dive right in."
   ]
  },
  {
   "cell_type": "code",
   "execution_count": 1,
   "id": "f899dd61-3de9-4087-aa85-198328f72b35",
   "metadata": {},
   "outputs": [],
   "source": [
    "import numpy as np\n",
    "\n",
    "# To have access to tsc module\n",
    "import sys\n",
    "import os\n",
    "\n",
    "# Get the grandparent directory of the current working directory\n",
    "gparent_dir = os.path.dirname(os.path.dirname(os.getcwd()))\n",
    "# Append the parent directory to the PYTHONPATH\n",
    "sys.path.append(gparent_dir)\n",
    "\n",
    "from tsc.utilities import get_int_mesh"
   ]
  },
  {
   "cell_type": "markdown",
   "id": "ba72fc7f-4cec-4962-a67f-78bd29d5ac32",
   "metadata": {},
   "source": [
    "## T = 0 case"
   ]
  },
  {
   "cell_type": "markdown",
   "id": "18bfb1a1-db77-4653-881a-f8923e35baca",
   "metadata": {},
   "source": [
    "The function that creates the energy mesh for the integrations depends on the temperature. More specifically, it is different for $T = 0$ and $T > 0$. Let's first see the $T = 0$ case, i.e. when the Fermi-Dirac function corresponds to a step-function."
   ]
  },
  {
   "cell_type": "code",
   "execution_count": 2,
   "id": "0baad023-5488-4efc-8294-a70d0e8fd6c0",
   "metadata": {},
   "outputs": [],
   "source": [
    "Es, Ws = get_int_mesh(T=0.0, N_1=10, N_2=50, N_3=10, J=6, E_min = -5.0, E_max = 0.0, k_B=1.0)"
   ]
  },
  {
   "cell_type": "markdown",
   "id": "a1f383d1-7345-4691-bf48-b35cc1930690",
   "metadata": {},
   "source": [
    "First of all, note that the function above does not only return energy values, but also integration weights. This is because we are using a Gaussian quadrature procedure to calculate the desired integrals. In general, we approximate the desired integral as\n",
    "\n",
    "$$\n",
    "\\int_{-1}^{1}{f\\left(x\\right)dx} \\approx \\sum_{i=1}^{n}{w_if\\left(x_i\\right)},\n",
    "$$\n",
    "\n",
    "where the nodes, $x_i$, and weights, $w_i$, depend on the type of chosen quadrature."
   ]
  },
  {
   "cell_type": "markdown",
   "id": "0ffbe684-e740-41b6-99f0-f47873286c87",
   "metadata": {},
   "source": [
    "The function above for $T = 0$ explicitly uses Gauss-Legendre quadrature, where the $i$-th node corresponds to the $i$-th root of $P_n$, where $P_n$ is the $n$-th Legendre polynomial normalized to give $P_n(1) = 1$. The corresponding weights are given by the formula\n",
    "\n",
    "$$\n",
    "w_i = \\frac{2}{\\left(1-x_i^2\\right)\\left[P_n^\\prime\\left(x_i\\right)\\right]^2}.\n",
    "$$\n",
    "\n",
    "Note that the integral above is calculated from $-1$ to $1$. To change the interval to $\\left[a,b\\right]$ we must perform the change of variable\n",
    "\n",
    "$$\n",
    "x = \\frac{b-a}{2}t + \\frac{a+b}{2},\n",
    "$$\n",
    "\n",
    "which yields the following approximation:\n",
    "\n",
    "$$\n",
    "\\int_{a}^{b}{f\\left(x\\right)dx} \\approx \\frac{b-a}{2}\\sum_{i=1}^{n}{w_i f\\left(\\frac{b-a}{2}t_i + \\frac{a+b}{2}\\right)}.\n",
    "$$\n",
    "\n",
    "For the implementation of Gauss-Legendre quadrature we use the `numpy.polynomial.legendre.leggauss` function which we import as `GAULEG`, to remind us of the corresponding juKKR codebase's naming conventions."
   ]
  },
  {
   "cell_type": "markdown",
   "id": "a519613f-37c4-4118-aef5-169e75013198",
   "metadata": {},
   "source": [
    "Let us now focus on the energy mesh alone. If we depict it via a scatter plot, we get the following figure."
   ]
  },
  {
   "cell_type": "code",
   "execution_count": 3,
   "id": "303fa2f0-35db-44cb-a75b-f4aeb27e3431",
   "metadata": {},
   "outputs": [
    {
     "data": {
      "image/png": "[encoded data removed]",
      "text/plain": [
       "<Figure size 800x400 with 1 Axes>"
      ]
     },
     "metadata": {},
     "output_type": "display_data"
    }
   ],
   "source": [
    "from plotting import plot_contour\n",
    "\n",
    "plot_contour(Es)"
   ]
  },
  {
   "cell_type": "markdown",
   "id": "70962e3c-35eb-4993-819e-d5cf0d633e13",
   "metadata": {},
   "source": [
    "It appears that the energy mesh corresponds to a path that consists of three lines: \n",
    "\n",
    "- A line from $E_\\textrm{min} + \\textrm{i}\\eta$ to $E_\\textrm{min} + 2\\textrm{i}J\\eta$ (up line) where $N_1$ points are chosen.\n",
    "- A line from $E_\\textrm{min} + 2\\textrm{i}J\\eta$ to $E_\\textrm{max} + 2\\textrm{i}J\\eta$ (right line) where $N_2$ points are chosen.\n",
    "- A line from $E_\\textrm{max} + 2\\textrm{i}J\\eta$ to $E_\\textrm{max} + \\textrm{i}\\eta$ (down line) where $N_3$ points are chosen."
   ]
  },
  {
   "cell_type": "markdown",
   "id": "1e868ced-ae12-4809-a3b3-25040a2b9c83",
   "metadata": {},
   "source": [
    "The total number of integration points is $N_1 + N_2 + N_3$. Let's make a few comments before moving on. First of all, $\\eta$ corresponds to a \"small\" value, which is taken here to be equal to $\\pi*k_B*T_\\textrm{eff}$, where we choose $T_\\textrm{eff} = 5\\cdot 10^{-4}$. Secondly, $J$ is an integer which has no physical significance in the case $T = 0$, other than deciding \"how much upwards from the horizontal axis we must go\". Finally, in theory we should have $E_\\textrm{min} = -\\infty$ and $E_\\textrm{max} = \\infty$, but we practically care about energies where the Green's function is not effectively zero (e.g. above the valence band and below the Fermi level)."
   ]
  },
  {
   "cell_type": "markdown",
   "id": "781881a2-36df-4cbd-a24d-1ba11ef19822",
   "metadata": {},
   "source": [
    "Why a contour in the first place? Well, the real axis contains all of the Green's function's poles, therefore they should be avoided by a small imaginary displacement as follows:\n",
    "\n",
    "$$\n",
    "\\int_{-\\infty}^{\\infty}{H\\left(\\epsilon\\right)G\\left(\\epsilon\\right)d\\epsilon} = \\lim_{\\eta \\to 0}\\int_{-\\infty + \\textrm{i}\\eta}^{\\infty + \\textrm{i}\\eta}{H\\left(z\\right)G\\left(z\\right)dz},\n",
    "$$\n",
    "\n",
    "where $H\\left(\\epsilon\\right)$ is a simple step-function in place of the Fermi-Dirac function and $z = \\epsilon + \\textrm{i}\\eta$. Even in this case, calculating this integral would require a rather dense mesh, because of the heavy spikes of the Green's function near its poles. As a result, for purely computational reasons, we may turn to Cauchy's Residue Theorem to help us calculate the integrals faster (i.e. by selecting fewer integration points) without compromising on accuracy."
   ]
  },
  {
   "cell_type": "markdown",
   "id": "1cca4cca-c560-4495-87a0-445a804888e1",
   "metadata": {},
   "source": [
    "Now, if we denote our selected path by $\\mathcal{P}$, then $\\mathcal{P}$ along with the line from $\\infty + \\textrm{i}\\eta$ to $-\\infty + \\textrm{i}\\eta$ (pay attention to the signs) closes the path, transforming it into a contour that wraps no poles (since the step function has no poles and all of the poles of the Green's function lie on the real axis). This implies that the closed contour integral is equal to zero and we may therefore schematically write\n",
    "\n",
    "$$\n",
    "\\oint{\\dots} = \\int_{\\mathcal{P}}{\\dots} + \\int_{\\infty + \\textrm{i}\\eta}^{-\\infty + \\textrm{i}\\eta}{\\dots} = \\int_{\\mathcal{P}}{\\dots} - \\int_{-\\infty + \\textrm{i}\\eta}^{\\infty + \\textrm{i}\\eta}{\\dots} = 0,\n",
    "$$\n",
    "\n",
    "which means that the previous equation can now be written as\n",
    "\n",
    "$$\n",
    "\\int_{-\\infty}^{\\infty}{H\\left(\\epsilon\\right)G\\left(\\epsilon\\right)d\\epsilon} = \\lim_{\\eta \\to 0}\\int_{\\mathcal{P}}{H\\left(z\\right)G\\left(z\\right)dz}.\n",
    "$$"
   ]
  },
  {
   "cell_type": "markdown",
   "id": "f9e07d8f-d4d1-4547-92da-65c3977e29bf",
   "metadata": {},
   "source": [
    "## T > 0 case"
   ]
  },
  {
   "cell_type": "markdown",
   "id": "405efa4f-14eb-4233-9679-31d27212fb86",
   "metadata": {},
   "source": [
    "What about the case when $T > 0$ and therefore the Fermi-Dirac function does not correspond to a step function? Well, in this case we must make a few changes regarding both our mesh and our choice of quadrature."
   ]
  },
  {
   "cell_type": "code",
   "execution_count": 15,
   "id": "20fbbca3-b7a2-4a91-8a63-20f89b9ce9c3",
   "metadata": {},
   "outputs": [
    {
     "data": {
      "image/png": "[encoded data removed]",
      "text/plain": [
       "<Figure size 800x400 with 1 Axes>"
      ]
     },
     "metadata": {},
     "output_type": "display_data"
    }
   ],
   "source": [
    "Es, Ws = get_int_mesh(T=5e-4, N_1=10, N_2=50, N_3=10, J=6, E_min = -5.0, E_max = 0.0, k_B=1.0)\n",
    "\n",
    "plot_contour(Es[:-6]) # 6 corresponds to the value of J"
   ]
  },
  {
   "cell_type": "markdown",
   "id": "953130b3-50d6-40f3-880e-6401c26dc26a",
   "metadata": {},
   "source": [
    "In this case, we have:\n",
    "\n",
    "- A line from $E_\\textrm{min} + \\textrm{i}\\eta$ to $E_\\textrm{min} + 2\\textrm{i}J\\eta$ (up line) where $N_1$ points are chosen.\n",
    "- A line from $E_\\textrm{min} + 2\\textrm{i}J\\eta$ to $E_\\textrm{max} - 30k_BT + 2\\textrm{i}J\\eta$ (first right line) where $N_2$ points are chosen.\n",
    "- A line from $E_\\textrm{max} + 2\\textrm{i}J\\eta$ to $E_\\textrm{max} + 30k_BT + 2\\textrm{i}J\\eta$ (second right line) where $N_3$ points are chosen.\n",
    "\n",
    "First of all, why is there no \"down\" line in this case? Well, there actually is one down line, however it is far away, near $\\infty$ and its contribution is practically equal to zero. Of course, the horizontal line does not extend all the way to actual infinity, but stops near $E_\\textrm{max} + 30k_BT$. However, adding a fourth line that goes down from this point would lead to wrong results, because of how near this vertical line would be to the line that contains the Matsubara frequencies "
   ]
  },
  {
   "cell_type": "code",
   "execution_count": 18,
   "id": "8c5fe801-40ae-4140-b810-7c4a09d85eb7",
   "metadata": {},
   "outputs": [],
   "source": [
    "# say what J is now"
   ]
  },
  {
   "cell_type": "markdown",
   "id": "8c9f7c77-5222-44c2-b1e7-687666cb6670",
   "metadata": {},
   "source": [
    "# TODO: CONTINUE"
   ]
  },
  {
   "cell_type": "markdown",
   "id": "269b41a3-8a7c-4833-912f-cbc5324b8ef4",
   "metadata": {},
   "source": [
    "As we can see, the mesh corresponds to lines that try to avoid the horizontal axis because of the poles that exist on the energy axis for the Green's function. If we denote this arc by $\\mathcal{C}$, the reasoning behind using it is the following. First of all, the horizontal axis integral can be \"avoided\" by a small imaginary displacement as follows:\n",
    "\n",
    "\n",
    "\n",
    "\n",
    "Additionally, the contour integral that consists of $\\mathcal{C}$ and the horizontal line (supposing a clockwise direction) is equal to the residues by the poles of the Fermi-Dirac function, i.e. the fermionic Matsubara frequencies, according to Cauchy's Residue Theorem:\n",
    "\n",
    "$$\n",
    "\\oint{f\\left(z\\right)G\\left(z\\right)dz} = 2\\textrm{i}\\pi k_BT\\sum_{n}{G\\left(\\textrm{i}\\Omega_n\\right)},\n",
    "$$\n",
    "\n",
    "where $\\Omega_n = \\left(2n+1\\right)\\pi k_BT$.\n",
    "\n",
    "Finally, we may schematically write\n",
    "\n",
    "$$\n",
    "\\oint{\\dots} = \\int_{\\mathcal{C}}{\\dots} - \\int_{-\\infty + \\textrm{i}\\eta}^{\\infty + \\textrm{i}\\eta}{\\dots} \n",
    "$$\n",
    "\n",
    "Combining all of these, we have\n",
    "\n",
    "$$\n",
    "\\int_{-\\infty}^{\\infty}{f\\left(\\epsilon\\right)G\\left(\\epsilon\\right)d\\epsilon} = \\lim_{\\eta \\to 0}\\int_{\\mathcal{C}}{f\\left(z\\right)G\\left(z\\right)dz} - 2\\textrm{i}\\pi k_BT\\sum_{n}{G\\left(\\textrm{i}\\Omega_n\\right)}\n",
    "$$"
   ]
  },
  {
   "cell_type": "code",
   "execution_count": null,
   "id": "97b738fa-8d57-47c9-b096-148c5b13750b",
   "metadata": {},
   "outputs": [],
   "source": []
  },
  {
   "cell_type": "markdown",
   "id": "67e02caf-3ba6-416b-8d21-eb38fb4a5d80",
   "metadata": {},
   "source": [
    "# TODO: SPEAK ABOUT HOW MATSUBARA POLES ARE CALCULATED AS ES AND WEIGHTS"
   ]
  },
  {
   "cell_type": "code",
   "execution_count": null,
   "id": "bba7249e-4b69-4d8a-935e-d16f6f005fbc",
   "metadata": {},
   "outputs": [],
   "source": []
  },
  {
   "cell_type": "markdown",
   "id": "5da74327-9bf0-457c-b264-08413cc331ee",
   "metadata": {},
   "source": [
    "# Maybe add stuff for DoS?"
   ]
  },
  {
   "cell_type": "code",
   "execution_count": null,
   "id": "09fdd303-c59f-42bd-8560-5e19be0d6468",
   "metadata": {},
   "outputs": [],
   "source": []
  }
 ],
 "metadata": {
  "kernelspec": {
   "display_name": "Python 3 (ipykernel)",
   "language": "python",
   "name": "python3"
  },
  "language_info": {
   "codemirror_mode": {
    "name": "ipython",
    "version": 3
   },
   "file_extension": ".py",
   "mimetype": "text/x-python",
   "name": "python",
   "nbconvert_exporter": "python",
   "pygments_lexer": "ipython3",
   "version": "3.10.13"
  }
 },
 "nbformat": 4,
 "nbformat_minor": 5
}
