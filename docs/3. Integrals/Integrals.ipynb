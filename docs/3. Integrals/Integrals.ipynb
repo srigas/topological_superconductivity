{
 "cells": [
  {
   "cell_type": "markdown",
   "id": "fba2f093-c124-42f9-9cc4-ba0a34a03480",
   "metadata": {},
   "source": [
    "# Integrals"
   ]
  },
  {
   "cell_type": "markdown",
   "id": "e241d213-6659-417f-af1d-10155c29c4e5",
   "metadata": {},
   "source": [
    "This is a notebook that focuses on some additional documentation for the computational integration performed to obtain observables through the Green's function. Thankfully, we do not need to run the full BdG code (e.g. self-consistency), so we may dive right in."
   ]
  },
  {
   "cell_type": "code",
   "execution_count": 1,
   "id": "f899dd61-3de9-4087-aa85-198328f72b35",
   "metadata": {},
   "outputs": [],
   "source": [
    "import numpy as np\n",
    "\n",
    "# import stuff here"
   ]
  },
  {
   "cell_type": "markdown",
   "id": "18bfb1a1-db77-4653-881a-f8923e35baca",
   "metadata": {},
   "source": [
    "The function that creates the energy mesh for the integrations is the following."
   ]
  },
  {
   "cell_type": "code",
   "execution_count": null,
   "id": "0baad023-5488-4efc-8294-a70d0e8fd6c0",
   "metadata": {},
   "outputs": [],
   "source": [
    "# call function here"
   ]
  },
  {
   "cell_type": "markdown",
   "id": "a1f383d1-7345-4691-bf48-b35cc1930690",
   "metadata": {},
   "source": [
    "It is worth noting that the function above does not only return energy values, but also integration weights. This is because we are using a Gaussian quadrature procedure to calculate the desired integrals. In general, we approximate the desired integral as\n",
    "\n",
    "$$\n",
    "\\int_{-1}^{1}{f\\left(x\\right)dx} \\approx \\sum_{i=1}^{n}{w_if\\left(x_i\\right)},\n",
    "$$\n",
    "\n",
    "where the nodes, $x_i$, and weights, $w_i$, depend on the type of chosen quadrature. For instance, in the case of Gauss-Legendre quadrature (which is used in the above function), the $i$-th node corresponds to the $i$-th root of $P_n$, where $P_n$ is the $n$-th Legendre polynomial normalized to give $P_n(1) = 1$. The corresponding weights are given by the formula\n",
    "\n",
    "$$\n",
    "w_i = \\frac{2}{\\left(1-x_i^2\\right)\\left[P_n^\\prime\\left(x_i\\right)\\right]^2}.\n",
    "$$\n",
    "\n",
    "Note that the integral above is calculated from $-1$ to $1$. To change the interval to $\\left[a,b\\right]$ we must perform the change of variable\n",
    "\n",
    "$$\n",
    "x = \\frac{b-a}{2}t + \\frac{a+b}{2},\n",
    "$$\n",
    "\n",
    "which yields the following approximation:\n",
    "\n",
    "$$\n",
    "\\int_{a}^{b}{f\\left(x\\right)dx} \\approx \\frac{b-a}{2}\\sum_{i=1}^{n}{w_i f\\left(\\frac{b-a}{2}t_i + \\frac{a+b}{2}\\right)}.\n",
    "$$"
   ]
  },
  {
   "cell_type": "markdown",
   "id": "a519613f-37c4-4118-aef5-169e75013198",
   "metadata": {},
   "source": [
    "Let us now focus on the energy mesh alone. If we depict it via a scatter plot, we can see the contour that is being used for the purposes of all subsequent integrations."
   ]
  },
  {
   "cell_type": "code",
   "execution_count": null,
   "id": "303fa2f0-35db-44cb-a75b-f4aeb27e3431",
   "metadata": {},
   "outputs": [],
   "source": [
    "# plot here"
   ]
  },
  {
   "cell_type": "markdown",
   "id": "a6b5b4e3-1612-48c3-b2ab-e5144314f251",
   "metadata": {},
   "source": [
    "# Why contour?"
   ]
  },
  {
   "cell_type": "code",
   "execution_count": null,
   "id": "bde4e57f-9aae-4af4-bf7f-51338531fbf4",
   "metadata": {},
   "outputs": [],
   "source": []
  },
  {
   "cell_type": "markdown",
   "id": "480f435d-4359-42bb-8ee1-4a88c3e9620f",
   "metadata": {},
   "source": [
    "# Why this contour?"
   ]
  },
  {
   "cell_type": "markdown",
   "id": "269b41a3-8a7c-4833-912f-cbc5324b8ef4",
   "metadata": {},
   "source": [
    "As we can see, the mesh corresponds to lines that try to avoid the horizontal axis because of the poles that exist on the energy axis for the Green's function. If we denote this arc by $\\mathcal{C}$, the reasoning behind using it is the following. First of all, the horizontal axis integral can be \"avoided\" by a small imaginary displacement as follows:\n",
    "\n",
    "$$\n",
    "\\int_{-\\infty}^{\\infty}{f\\left(\\epsilon\\right)G\\left(\\epsilon\\right)d\\epsilon} = \\lim_{\\eta \\to 0}\\int_{-\\infty + \\textrm{i}\\eta}^{\\infty + \\textrm{i}\\eta}{f\\left(z\\right)G\\left(z\\right)dz},\n",
    "$$\n",
    "\n",
    "where $z = \\epsilon + \\textrm{i}\\eta$, with $\\eta > 0$ being a small number, and $f\\left(\\epsilon\\right)$ being the Fermi-Dirac function for $\\mu = 0$ (since we are studying Bogoliubov quasiparticles).\n",
    "\n",
    "Additionally, the contour integral that consists of $\\mathcal{C}$ and the horizontal line (supposing a clockwise direction) is equal to the residues by the poles of the Fermi-Dirac function, i.e. the fermionic Matsubara frequencies, according to Cauchy's Residue Theorem:\n",
    "\n",
    "$$\n",
    "\\oint{f\\left(z\\right)G\\left(z\\right)dz} = 2\\textrm{i}\\pi k_BT\\sum_{n}{G\\left(\\textrm{i}\\Omega_n\\right)},\n",
    "$$\n",
    "\n",
    "where $\\Omega_n = \\left(2n+1\\right)\\pi k_BT$.\n",
    "\n",
    "Finally, we may schematically write\n",
    "\n",
    "$$\n",
    "\\oint{\\dots} = \\int_{\\mathcal{C}}{\\dots} - \\int_{-\\infty + \\textrm{i}\\eta}^{\\infty + \\textrm{i}\\eta}{\\dots} \n",
    "$$\n",
    "\n",
    "Combining all of these, we have\n",
    "\n",
    "$$\n",
    "\\int_{-\\infty}^{\\infty}{f\\left(\\epsilon\\right)G\\left(\\epsilon\\right)d\\epsilon} = \\lim_{\\eta \\to 0}\\int_{\\mathcal{C}}{f\\left(z\\right)G\\left(z\\right)dz} - 2\\textrm{i}\\pi k_BT\\sum_{n}{G\\left(\\textrm{i}\\Omega_n\\right)}\n",
    "$$"
   ]
  },
  {
   "cell_type": "code",
   "execution_count": null,
   "id": "97b738fa-8d57-47c9-b096-148c5b13750b",
   "metadata": {},
   "outputs": [],
   "source": []
  },
  {
   "cell_type": "markdown",
   "id": "36e31b66-625e-48bf-9869-c17b6f6ef1ef",
   "metadata": {},
   "source": [
    "Before closing this supplementary notebook, it is worth giving some details about the `get_int_mesh()` function itself."
   ]
  },
  {
   "cell_type": "code",
   "execution_count": null,
   "id": "2858240e-087d-4b60-a54e-368e782c355d",
   "metadata": {},
   "outputs": [],
   "source": []
  }
 ],
 "metadata": {
  "kernelspec": {
   "display_name": "Python 3 (ipykernel)",
   "language": "python",
   "name": "python3"
  },
  "language_info": {
   "codemirror_mode": {
    "name": "ipython",
    "version": 3
   },
   "file_extension": ".py",
   "mimetype": "text/x-python",
   "name": "python",
   "nbconvert_exporter": "python",
   "pygments_lexer": "ipython3",
   "version": "3.8.11"
  }
 },
 "nbformat": 4,
 "nbformat_minor": 5
}
