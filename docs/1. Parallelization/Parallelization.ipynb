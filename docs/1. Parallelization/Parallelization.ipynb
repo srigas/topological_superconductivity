{
 "cells": [
  {
   "cell_type": "markdown",
   "id": "2ca7543a-94fc-4c66-95c6-5905cf48a167",
   "metadata": {},
   "source": [
    "# Parallelization"
   ]
  },
  {
   "cell_type": "markdown",
   "id": "a5cea2da-3d89-4c64-ac01-35db8f2e311a",
   "metadata": {},
   "source": [
    "This is a notebook that showcases the effects of parallelization when performing the self-consistency cycle. For brevity, we will define the pre-processing steps as a single function and re-call it with different atom configurations whenever necessary. For the config we choose 40x40x40 $k$-points for the single atom and 40x40 $k$-points for the slab. In all cases, we will do 5 reps without caring for convergence. We will count two types of times: [1] CPU time (i.e. processing time) and [2] Real time (i.e. wall time). At the end of the day, what we care about is wall time, however processing time is also valuable to understand the effects of parallelization."
   ]
  },
  {
   "cell_type": "code",
   "execution_count": 1,
   "id": "d33bf79c-1089-4b1e-9efc-7cb7f93fdbc3",
   "metadata": {},
   "outputs": [],
   "source": [
    "import numpy as np\n",
    "import scipy as sp\n",
    "\n",
    "# To have access to tsc module\n",
    "import sys\n",
    "import os\n",
    "\n",
    "# Get the parent directory of the current working directory\n",
    "gparent_dir = os.path.dirname(os.path.dirname(os.getcwd()))\n",
    "# Append the parent directory to the PYTHONPATH\n",
    "sys.path.append(gparent_dir)\n",
    "\n",
    "# ---------------------------------------------------------------------------------\n",
    "\n",
    "import config\n",
    "\n",
    "from tsc.utilities import get_RPTS, get_nndists, get_connections, fermi, get_KPTS\n",
    "from tsc.basis_atoms import single_atom, extract_atom_vectors, slab\n",
    "from tsc.hamiltonian import hopping_consts, hopping_elements, get_exponentials\n",
    "from tsc.hamiltonian import prep_N_hamiltonian, get_N_hamiltonian, prep_SC_hamiltonian, get_SC_hamiltonian\n",
    "\n",
    "import time\n",
    "\n",
    "# Get config variables\n",
    "globals().update({k: v for k, v in vars(config.Config).items() if not k.startswith(\"__\")})"
   ]
  },
  {
   "cell_type": "code",
   "execution_count": 2,
   "id": "39e6da70-381e-4970-91c7-d9970577d34d",
   "metadata": {},
   "outputs": [],
   "source": [
    "def do_stuff(atoms, a, Nkz):\n",
    "    \n",
    "    # Construct the lattice sites matrix\n",
    "    RPTS = get_RPTS(a_1, a_2, a, NCELLS)\n",
    "\n",
    "    N_k = Nkz*N_x*N_y\n",
    "\n",
    "    # Extract the vectors from the called function\n",
    "    TPTS, atom_types, E_0, U, n_bar, B, Λ = extract_atom_vectors(atoms)\n",
    "    \n",
    "    # Write down the number of basis atoms\n",
    "    N_b: int = TPTS.shape[0]\n",
    "    \n",
    "    num_neighbs = get_nndists(RPTS, TPTS, R_max)\n",
    "    \n",
    "    # Get the maximum number of neighbours\n",
    "    max_neighb = num_neighbs.max()\n",
    "    \n",
    "    # Get the atom_IJ and Rvec_ij matrices\n",
    "    atom_IJ, Rvec_ij = get_connections(max_neighb, RPTS, TPTS, R_max)\n",
    "    \n",
    "    # Get the number of different atom types based on the basis_atoms configuration\n",
    "    # Also re-encode the atom_types as 0, 1, 2, etc.\n",
    "    unique_atoms, atom_types = np.unique(atom_types, return_inverse=True)\n",
    "    N_unique: int = unique_atoms.shape[0]\n",
    "    \n",
    "    # Construct a completely symmetrical case\n",
    "    hop_mat = np.ones((N_unique, N_unique))\n",
    "    \n",
    "    # Get the hopping terms\n",
    "    t_0 = hopping_consts(hop_mat, atom_types, TPTS, RPTS, R_0)\n",
    "    \n",
    "    # Get the hopping elements\n",
    "    t = hopping_elements(atom_IJ, num_neighbs, Rvec_ij, atom_types, t_0, R_0)\n",
    "\n",
    "    # Get a k-mesh with resolution that depends on N_x, N_y, N_z\n",
    "    KPTS = get_KPTS(a_1, a_2, a, N_x, N_y, Nkz)\n",
    "\n",
    "    # Get the exponentials\n",
    "    fourier = get_exponentials(Rvec_ij, KPTS)\n",
    "\n",
    "    μ = μ_0\n",
    "    n = np.ones((N_b))*n_0\n",
    "\n",
    "    return N_b, E_0, μ, U, n, n_bar, B, atom_IJ, num_neighbs, fourier, t, KPTS, N_k"
   ]
  },
  {
   "cell_type": "markdown",
   "id": "0792fad6-4332-4122-8366-fc0e2968a517",
   "metadata": {},
   "source": [
    "## Case 1: Single Atom - No Optimization"
   ]
  },
  {
   "cell_type": "code",
   "execution_count": 3,
   "id": "f389c109-58e3-4dab-a3c7-fefaaab47660",
   "metadata": {},
   "outputs": [],
   "source": [
    "atoms = single_atom()\n",
    "\n",
    "a = np.array([0.0,0.0,1.0])\n",
    "Nkz = 40\n",
    "\n",
    "N_b, E_0, μ, U, n, n_bar, B, atom_IJ, num_neighbs, fourier, t, KPTS, N_k = do_stuff(atoms, a, Nkz)"
   ]
  },
  {
   "cell_type": "code",
   "execution_count": 4,
   "id": "98894803-a45f-4718-b051-d613d3e0cf20",
   "metadata": {},
   "outputs": [
    {
     "name": "stdout",
     "output_type": "stream",
     "text": [
      "Processing time = 1.8125.\t Real time = 1.8520\n",
      "Processing time = 1.6719.\t Real time = 1.6591\n",
      "Processing time = 1.6875.\t Real time = 1.6969\n",
      "Processing time = 1.7031.\t Real time = 1.7004\n",
      "Processing time = 1.7031.\t Real time = 1.7085\n"
     ]
    }
   ],
   "source": [
    "for rep in range(5):\n",
    "    \n",
    "    # Create placeholder arrays for the eigenvalues and eigenvectors\n",
    "    E_vals, E_vecs = np.zeros((N_k, 2*N_b)), np.zeros((N_k, 2*N_b, 2*N_b), dtype=np.complex128)\n",
    "\n",
    "    # prepare the Hamiltonian\n",
    "    H_prep = prep_N_hamiltonian(E_0, μ, U, n, n_bar, B, s_0, s_1, s_2, s_3)\n",
    "\n",
    "    start1 = time.process_time()\n",
    "    start2 = time.time()\n",
    "    for k in range(N_k):\n",
    "        # Get a deepcopy of H_prep so that we don't have to re-generate it\n",
    "        H_copied = np.copy(H_prep)\n",
    "        # Get a new H(k) for every k\n",
    "        H = get_N_hamiltonian(k, H_copied, atom_IJ, num_neighbs, fourier, t)\n",
    "\n",
    "        # Diagonalize H(k)\n",
    "        w, v = sp.linalg.eigh(H, driver=\"ev\")\n",
    "\n",
    "        # Store results\n",
    "        E_vals[k, :] = w\n",
    "        E_vecs[k, :, :] = v\n",
    "    end1 = time.process_time()\n",
    "    end2 = time.time()\n",
    "    \n",
    "    print(f\"Processing time = {end1-start1:.4f}.\\t Real time = {end2-start2:.4f}\")\n",
    "\n",
    "    # ---------------------------------------------------------\n",
    "    # We do not care about the rest stuff\n",
    "    # ---------------------------------------------------------"
   ]
  },
  {
   "cell_type": "markdown",
   "id": "1e358e4e-8378-4b5b-987f-3152e9331dbb",
   "metadata": {},
   "source": [
    "## Case 2: Single Atom - Optimized"
   ]
  },
  {
   "cell_type": "code",
   "execution_count": 5,
   "id": "086c011c-eecd-4328-9c8d-a5dea56f7f47",
   "metadata": {},
   "outputs": [],
   "source": [
    "from joblib import Parallel, delayed\n",
    "import functools\n",
    "\n",
    "def k_loop(k, H_prep, atom_IJ, num_neighbs, fourier, t, N_b):\n",
    "    H_copied = np.copy(H_prep)\n",
    "    H = get_N_hamiltonian(k, H_copied, atom_IJ, num_neighbs, fourier, t)\n",
    "    w, v = sp.linalg.eigh(H, driver=\"ev\")\n",
    "    return w, v, k"
   ]
  },
  {
   "cell_type": "code",
   "execution_count": 6,
   "id": "613cfc44-e961-4591-9b74-7e213587a46f",
   "metadata": {},
   "outputs": [
    {
     "name": "stdout",
     "output_type": "stream",
     "text": [
      "Processing time = 2.2500.\t Real time = 3.9560\n",
      "Processing time = 2.0156.\t Real time = 2.0526\n",
      "Processing time = 1.8750.\t Real time = 1.9435\n",
      "Processing time = 1.9531.\t Real time = 1.9965\n",
      "Processing time = 1.8750.\t Real time = 1.9714\n"
     ]
    }
   ],
   "source": [
    "for rep in range(5):\n",
    "    \n",
    "    # Create placeholder arrays for the eigenvalues and eigenvectors\n",
    "    E_vals, E_vecs = np.zeros((N_k, 2*N_b)), np.zeros((N_k, 2*N_b, 2*N_b), dtype=np.complex128)\n",
    "\n",
    "    # prepare the Hamiltonian\n",
    "    H_prep = prep_N_hamiltonian(E_0, μ, U, n, n_bar, B, s_0, s_1, s_2, s_3)\n",
    "\n",
    "    start1 = time.process_time()\n",
    "    start2 = time.time()\n",
    "    \n",
    "    partial_compute_for_k = functools.partial(k_loop, H_prep=H_prep, atom_IJ=atom_IJ, num_neighbs=num_neighbs, fourier=fourier, t=t, N_b=N_b)\n",
    "    results = Parallel(n_jobs=-1)(delayed(partial_compute_for_k)(k) for k in range(N_k))\n",
    "\n",
    "    for w, v, k in results:\n",
    "        E_vals[k, :] = w\n",
    "        E_vecs[k, :, :] = v\n",
    "    \n",
    "    end1 = time.process_time()\n",
    "    end2 = time.time()\n",
    "    print(f\"Processing time = {end1-start1:.4f}.\\t Real time = {end2-start2:.4f}\")\n",
    "\n",
    "    # ---------------------------------------------------------\n",
    "    # We do not care about the rest stuff\n",
    "    # ---------------------------------------------------------"
   ]
  },
  {
   "cell_type": "markdown",
   "id": "3552c619-466f-4b87-b7ca-004e05ab3261",
   "metadata": {},
   "source": [
    "While the processing time is slightly better than in the non-optimized case, it appears that all times are pretty much comparable. The reason for this is that the parallelized task is the diagonalization of a 2x2 matrix, which is somewhat trivial."
   ]
  },
  {
   "cell_type": "markdown",
   "id": "f7e13d2d-8766-42af-946f-c0a17d7317d2",
   "metadata": {},
   "source": [
    "## Case 3: Single Atom - Batch Optimized"
   ]
  },
  {
   "cell_type": "code",
   "execution_count": 7,
   "id": "fede4ca0-e14e-4fb8-94bc-7d46f448f3b4",
   "metadata": {},
   "outputs": [],
   "source": [
    "def k_batch_loop(start, end, H_prep, atom_IJ, num_neighbs, fourier, t, N_b):\n",
    "    \n",
    "    batch_w = np.zeros((end - start, 2*N_b))\n",
    "    batch_v = np.zeros((end - start, 2*N_b, 2*N_b), dtype=np.complex128)\n",
    "    for i, k in enumerate(range(start, end)):\n",
    "        H_copied = np.copy(H_prep)\n",
    "        H = get_N_hamiltonian(k, H_copied, atom_IJ, num_neighbs, fourier, t)\n",
    "        w, v = sp.linalg.eigh(H, driver=\"ev\")\n",
    "        batch_w[i, :] = w\n",
    "        batch_v[i, :, :] = v\n",
    "        \n",
    "    return batch_w, batch_v, start, end"
   ]
  },
  {
   "cell_type": "code",
   "execution_count": 8,
   "id": "e09000f5-1a6b-4112-aae7-1687bfe87be2",
   "metadata": {},
   "outputs": [
    {
     "name": "stdout",
     "output_type": "stream",
     "text": [
      "Processing time = 0.1250.\t Real time = 0.4491\n",
      "Processing time = 0.0625.\t Real time = 0.3796\n",
      "Processing time = 0.0156.\t Real time = 0.3730\n",
      "Processing time = 0.0469.\t Real time = 0.3981\n",
      "Processing time = 0.0625.\t Real time = 0.4171\n"
     ]
    }
   ],
   "source": [
    "from joblib import cpu_count\n",
    "\n",
    "# Batch the parallelism\n",
    "n_cores = cpu_count()\n",
    "batch_size = N_k // n_cores\n",
    "\n",
    "for rep in range(5):\n",
    "    \n",
    "    # Create placeholder arrays for the eigenvalues and eigenvectors\n",
    "    E_vals, E_vecs = np.zeros((N_k, 2*N_b)), np.zeros((N_k, 2*N_b, 2*N_b), dtype=np.complex128)\n",
    "\n",
    "    # prepare the Hamiltonian\n",
    "    H_prep = prep_N_hamiltonian(E_0, μ, U, n, n_bar, B, s_0, s_1, s_2, s_3)\n",
    "\n",
    "    start1 = time.process_time()\n",
    "    start2 = time.time()\n",
    "    \n",
    "    partial_compute_for_k = functools.partial(k_batch_loop, H_prep=H_prep, atom_IJ=atom_IJ, num_neighbs=num_neighbs, fourier=fourier, t=t, N_b=N_b)\n",
    "    results = Parallel(n_jobs=-1)(delayed(partial_compute_for_k)(k, min(k+batch_size, N_k)) for k in range(0, N_k, batch_size))\n",
    "\n",
    "    for batch_w, batch_v, start, end in results:\n",
    "        E_vals[start:end, :] = batch_w\n",
    "        E_vecs[start:end, :, :] = batch_v\n",
    "    \n",
    "    end1 = time.process_time()\n",
    "    end2 = time.time()\n",
    "    print(f\"Processing time = {end1-start1:.4f}.\\t Real time = {end2-start2:.4f}\")\n",
    "\n",
    "    # ---------------------------------------------------------\n",
    "    # We do not care about the rest stuff\n",
    "    # ---------------------------------------------------------\n"
   ]
  },
  {
   "cell_type": "markdown",
   "id": "29847e6e-7f4d-4bf3-8807-03d44c1b7bc7",
   "metadata": {},
   "source": [
    "This is where things get really interesting. Since the diagonalization of a 2x2 matrix is a rather trivial proceedure, we evenly distributed the job to multiple cores, so that each core has many such diagonalizations to perform, in batches. Let's see what happens when we move on to another type of problem, i.e. the slab, where the matrix to be diagonalized is higher dimensional (e.g. 200x200)."
   ]
  },
  {
   "cell_type": "code",
   "execution_count": null,
   "id": "0e62c47f-56eb-421a-a15b-d946804bdbb9",
   "metadata": {},
   "outputs": [],
   "source": []
  },
  {
   "cell_type": "markdown",
   "id": "4ad5e1d4-896e-4a28-a5c2-c699bde062e0",
   "metadata": {},
   "source": [
    "## Case 4: Slab - No Optimization"
   ]
  },
  {
   "cell_type": "code",
   "execution_count": 9,
   "id": "4a997c8d-5813-488b-88c8-177ed563e6fe",
   "metadata": {},
   "outputs": [],
   "source": [
    "atoms = slab(slab_length=100)\n",
    "\n",
    "a = np.array([0.0,0.0,200.0])\n",
    "Nkz = 1\n",
    "\n",
    "N_b, E_0, μ, U, n, n_bar, B, atom_IJ, num_neighbs, fourier, t, KPTS, N_k = do_stuff(atoms, a, Nkz)"
   ]
  },
  {
   "cell_type": "code",
   "execution_count": 10,
   "id": "d7bec8db-a827-434f-a467-2cd432f5acc2",
   "metadata": {},
   "outputs": [
    {
     "name": "stdout",
     "output_type": "stream",
     "text": [
      "Processing time = 51.3438.\t Real time = 6.4231\n",
      "Processing time = 51.9844.\t Real time = 6.4899\n",
      "Processing time = 51.7031.\t Real time = 6.4637\n",
      "Processing time = 51.8594.\t Real time = 6.4791\n",
      "Processing time = 50.4844.\t Real time = 6.3108\n"
     ]
    }
   ],
   "source": [
    "for rep in range(5):\n",
    "    \n",
    "    # Create placeholder arrays for the eigenvalues and eigenvectors\n",
    "    E_vals, E_vecs = np.zeros((2*N_b*N_k)), np.zeros((2*N_b, 2*N_b*N_k), dtype=np.complex128)\n",
    "\n",
    "    # prepare the Hamiltonian\n",
    "    H_prep = prep_N_hamiltonian(E_0, μ, U, n, n_bar, B, s_0, s_1, s_2, s_3)\n",
    "\n",
    "    start1 = time.process_time()\n",
    "    start2 = time.time()\n",
    "    for k in range(N_k):\n",
    "        # Get a deepcopy of H_prep so that we don't have to re-generate it\n",
    "        H_copied = np.copy(H_prep)\n",
    "        # Get a new H(k) for every k\n",
    "        H = get_N_hamiltonian(k, H_copied, atom_IJ, num_neighbs, fourier, t)\n",
    "\n",
    "        # Diagonalize H(k)\n",
    "        w, v = sp.linalg.eigh(H, driver=\"ev\")\n",
    "\n",
    "        # Store results\n",
    "        ini: int = k*2*N_b\n",
    "        fin: int = (k+1)*2*N_b\n",
    "        E_vals[ini:fin] = w\n",
    "        E_vecs[:, ini:fin] = v\n",
    "    end1 = time.process_time()\n",
    "    end2 = time.time()\n",
    "    \n",
    "    print(f\"Processing time = {end1-start1:.4f}.\\t Real time = {end2-start2:.4f}\")\n",
    "\n",
    "    # ---------------------------------------------------------\n",
    "    # We do not care about the rest stuff\n",
    "    # ---------------------------------------------------------"
   ]
  },
  {
   "cell_type": "code",
   "execution_count": null,
   "id": "dd0cac24-6f50-4bd1-8641-a57485ab0f18",
   "metadata": {},
   "outputs": [],
   "source": []
  },
  {
   "cell_type": "markdown",
   "id": "1c0c4d96-efff-4170-a9ab-232083d38698",
   "metadata": {},
   "source": [
    "## Case 5: Slab - Optimized"
   ]
  },
  {
   "cell_type": "code",
   "execution_count": 11,
   "id": "d26cce6c-0c9a-47ff-8b80-ad988dd12066",
   "metadata": {},
   "outputs": [
    {
     "name": "stdout",
     "output_type": "stream",
     "text": [
      "Processing time = 3.3125.\t Real time = 2.5771\n",
      "Processing time = 2.5156.\t Real time = 2.5711\n",
      "Processing time = 2.5312.\t Real time = 2.6189\n",
      "Processing time = 2.5938.\t Real time = 2.5932\n",
      "Processing time = 2.4531.\t Real time = 2.6107\n"
     ]
    }
   ],
   "source": [
    "for rep in range(5):\n",
    "    \n",
    "    # Create placeholder arrays for the eigenvalues and eigenvectors\n",
    "    E_vals, E_vecs = np.zeros((N_k, 2*N_b)), np.zeros((N_k, 2*N_b, 2*N_b), dtype=np.complex128)\n",
    "\n",
    "    # prepare the Hamiltonian\n",
    "    H_prep = prep_N_hamiltonian(E_0, μ, U, n, n_bar, B, s_0, s_1, s_2, s_3)\n",
    "\n",
    "    start1 = time.process_time()\n",
    "    start2 = time.time()\n",
    "    \n",
    "    partial_compute_for_k = functools.partial(k_loop, H_prep=H_prep, atom_IJ=atom_IJ, num_neighbs=num_neighbs, fourier=fourier, t=t, N_b=N_b)\n",
    "    results = Parallel(n_jobs=-1)(delayed(partial_compute_for_k)(k) for k in range(N_k))\n",
    "\n",
    "    for w, v, k in results:\n",
    "        E_vals[k, :] = w\n",
    "        E_vecs[k, :, :] = v\n",
    "    \n",
    "    end1 = time.process_time()\n",
    "    end2 = time.time()\n",
    "    print(f\"Processing time = {end1-start1:.4f}.\\t Real time = {end2-start2:.4f}\")\n",
    "\n",
    "    # ---------------------------------------------------------\n",
    "    # We do not care about the rest stuff\n",
    "    # ---------------------------------------------------------"
   ]
  },
  {
   "cell_type": "markdown",
   "id": "c60b846b-991a-46e1-a9a6-49735e4ab128",
   "metadata": {},
   "source": [
    "It is evident that in this case parallelization does wonders even without batching, as the processing time is reduced by more than 20 times, while the real time is also reduced by more than 2.5 times."
   ]
  },
  {
   "cell_type": "code",
   "execution_count": null,
   "id": "262512c8-bcb5-422b-a5bd-af947e6a8eb3",
   "metadata": {},
   "outputs": [],
   "source": []
  },
  {
   "cell_type": "markdown",
   "id": "c906a32c-cfe1-4ef9-9653-b25ee6899f7d",
   "metadata": {},
   "source": [
    "## Case 6: Slab - Batch Optimized"
   ]
  },
  {
   "cell_type": "code",
   "execution_count": 12,
   "id": "35dab9e8-a429-4c44-8d9d-367523fccdbf",
   "metadata": {},
   "outputs": [
    {
     "name": "stdout",
     "output_type": "stream",
     "text": [
      "Processing time = 1.1406.\t Real time = 9.8378\n",
      "Processing time = 1.0938.\t Real time = 9.8712\n",
      "Processing time = 1.0781.\t Real time = 9.9357\n",
      "Processing time = 1.1250.\t Real time = 9.8473\n",
      "Processing time = 1.1406.\t Real time = 9.8721\n"
     ]
    }
   ],
   "source": [
    "for rep in range(5):\n",
    "    \n",
    "    # Create placeholder arrays for the eigenvalues and eigenvectors\n",
    "    E_vals, E_vecs = np.zeros((N_k, 2*N_b)), np.zeros((N_k, 2*N_b, 2*N_b), dtype=np.complex128)\n",
    "\n",
    "    # prepare the Hamiltonian\n",
    "    H_prep = prep_N_hamiltonian(E_0, μ, U, n, n_bar, B, s_0, s_1, s_2, s_3)\n",
    "\n",
    "    start1 = time.process_time()\n",
    "    start2 = time.time()\n",
    "    \n",
    "    partial_compute_for_k = functools.partial(k_batch_loop, H_prep=H_prep, atom_IJ=atom_IJ, num_neighbs=num_neighbs, fourier=fourier, t=t, N_b=N_b)\n",
    "    results = Parallel(n_jobs=-1)(delayed(partial_compute_for_k)(k, min(k+batch_size, N_k)) for k in range(0, N_k, batch_size))\n",
    "\n",
    "    for batch_w, batch_v, start, end in results:\n",
    "        E_vals[start:end, :] = batch_w\n",
    "        E_vecs[start:end, :, :] = batch_v\n",
    "    \n",
    "    end1 = time.process_time()\n",
    "    end2 = time.time()\n",
    "    print(f\"Processing time = {end1-start1:.4f}.\\t Real time = {end2-start2:.4f}\")\n",
    "\n",
    "    # ---------------------------------------------------------\n",
    "    # We do not care about the rest stuff\n",
    "    # ---------------------------------------------------------\n"
   ]
  },
  {
   "cell_type": "markdown",
   "id": "fbe023cd-18d2-46e5-9e02-fa041709d119",
   "metadata": {},
   "source": [
    "It appears that now where the problem is not as trivial as this of the 2x2 matrix, batch parallelization induces overheard that leads to higher wall times even when compared to the non-parallelized case."
   ]
  },
  {
   "cell_type": "markdown",
   "id": "40b1e2c8-b959-4f3c-812b-0895d0f18041",
   "metadata": {},
   "source": [
    "Let's see what happens if we experiment with the batch size manually."
   ]
  },
  {
   "cell_type": "code",
   "execution_count": 13,
   "id": "561fe0f6-7eac-43b7-8c7d-7e8506df0939",
   "metadata": {},
   "outputs": [
    {
     "name": "stdout",
     "output_type": "stream",
     "text": [
      "Processing time = 1.6406.\t Real time = 1.9756\n",
      "Processing time = 1.7500.\t Real time = 2.0373\n",
      "Processing time = 1.7188.\t Real time = 2.0025\n",
      "Processing time = 1.6562.\t Real time = 2.0023\n",
      "Processing time = 1.7344.\t Real time = 2.0418\n"
     ]
    }
   ],
   "source": [
    "batch_size = 20\n",
    "\n",
    "for rep in range(5):\n",
    "    \n",
    "    # Create placeholder arrays for the eigenvalues and eigenvectors\n",
    "    E_vals, E_vecs = np.zeros((N_k, 2*N_b)), np.zeros((N_k, 2*N_b, 2*N_b), dtype=np.complex128)\n",
    "\n",
    "    # prepare the Hamiltonian\n",
    "    H_prep = prep_N_hamiltonian(E_0, μ, U, n, n_bar, B, s_0, s_1, s_2, s_3)\n",
    "\n",
    "    start1 = time.process_time()\n",
    "    start2 = time.time()\n",
    "    \n",
    "    partial_compute_for_k = functools.partial(k_batch_loop, H_prep=H_prep, atom_IJ=atom_IJ, num_neighbs=num_neighbs, fourier=fourier, t=t, N_b=N_b)\n",
    "    results = Parallel(n_jobs=-1)(delayed(partial_compute_for_k)(k, min(k+batch_size, N_k)) for k in range(0, N_k, batch_size))\n",
    "\n",
    "    for batch_w, batch_v, start, end in results:\n",
    "        E_vals[start:end, :] = batch_w\n",
    "        E_vecs[start:end, :, :] = batch_v\n",
    "    \n",
    "    end1 = time.process_time()\n",
    "    end2 = time.time()\n",
    "    print(f\"Processing time = {end1-start1:.4f}.\\t Real time = {end2-start2:.4f}\")\n",
    "\n",
    "    # ---------------------------------------------------------\n",
    "    # We do not care about the rest stuff\n",
    "    # ---------------------------------------------------------\n"
   ]
  },
  {
   "cell_type": "markdown",
   "id": "57070642-87b9-4125-8d31-3916498f6e9c",
   "metadata": {},
   "source": [
    "It becomes evident that choosing smaller batch sizes allows us to achieve better than non-batched/non-parallel times.\n",
    "\n",
    "Note that if we set the batch size equal to 1, we get a situation which is equivalent to this of the non-batched parallelization."
   ]
  },
  {
   "cell_type": "code",
   "execution_count": 14,
   "id": "b5bf31f3-9072-4514-bc48-5fb7a14c9759",
   "metadata": {},
   "outputs": [
    {
     "name": "stdout",
     "output_type": "stream",
     "text": [
      "Processing time = 2.5938.\t Real time = 2.5626\n",
      "Processing time = 2.8281.\t Real time = 2.6959\n",
      "Processing time = 2.5469.\t Real time = 2.5512\n",
      "Processing time = 2.5781.\t Real time = 2.6360\n",
      "Processing time = 2.4844.\t Real time = 2.5064\n"
     ]
    }
   ],
   "source": [
    "batch_size = 1\n",
    "\n",
    "for rep in range(5):\n",
    "    \n",
    "    # Create placeholder arrays for the eigenvalues and eigenvectors\n",
    "    E_vals, E_vecs = np.zeros((N_k, 2*N_b)), np.zeros((N_k, 2*N_b, 2*N_b), dtype=np.complex128)\n",
    "\n",
    "    # prepare the Hamiltonian\n",
    "    H_prep = prep_N_hamiltonian(E_0, μ, U, n, n_bar, B, s_0, s_1, s_2, s_3)\n",
    "\n",
    "    start1 = time.process_time()\n",
    "    start2 = time.time()\n",
    "    \n",
    "    partial_compute_for_k = functools.partial(k_batch_loop, H_prep=H_prep, atom_IJ=atom_IJ, num_neighbs=num_neighbs, fourier=fourier, t=t, N_b=N_b)\n",
    "    results = Parallel(n_jobs=-1)(delayed(partial_compute_for_k)(k, min(k+batch_size, N_k)) for k in range(0, N_k, batch_size))\n",
    "\n",
    "    for batch_w, batch_v, start, end in results:\n",
    "        E_vals[start:end, :] = batch_w\n",
    "        E_vecs[start:end, :, :] = batch_v\n",
    "    \n",
    "    end1 = time.process_time()\n",
    "    end2 = time.time()\n",
    "    print(f\"Processing time = {end1-start1:.4f}.\\t Real time = {end2-start2:.4f}\")\n",
    "\n",
    "    # ---------------------------------------------------------\n",
    "    # We do not care about the rest stuff\n",
    "    # ---------------------------------------------------------\n"
   ]
  },
  {
   "cell_type": "code",
   "execution_count": null,
   "id": "e21e6bb3-f682-492b-8ffd-6401670abd5a",
   "metadata": {},
   "outputs": [],
   "source": []
  }
 ],
 "metadata": {
  "kernelspec": {
   "display_name": "Python 3 (ipykernel)",
   "language": "python",
   "name": "python3"
  },
  "language_info": {
   "codemirror_mode": {
    "name": "ipython",
    "version": 3
   },
   "file_extension": ".py",
   "mimetype": "text/x-python",
   "name": "python",
   "nbconvert_exporter": "python",
   "pygments_lexer": "ipython3",
   "version": "3.10.13"
  }
 },
 "nbformat": 4,
 "nbformat_minor": 5
}
