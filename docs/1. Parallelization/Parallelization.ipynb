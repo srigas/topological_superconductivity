{
 "cells": [
  {
   "cell_type": "markdown",
   "id": "2ca7543a-94fc-4c66-95c6-5905cf48a167",
   "metadata": {},
   "source": [
    "# Parallelization"
   ]
  },
  {
   "cell_type": "markdown",
   "id": "a5cea2da-3d89-4c64-ac01-35db8f2e311a",
   "metadata": {},
   "source": [
    "This is a notebook that showcases the effects of parallelization when performing the BdG self-consistency cycle. We work with two physical systems: a single atom and a slab of 100 layers, which correspond to small and large Hamiltonian matrices, respectively. For the config we choose 80x80x80 $k$-points for the single atom and 40x40x1 $k$-points for the slab. In all cases, we will do 5 reps without caring for convergence. We will count two types of times: [1] CPU time (i.e. processing time) and [2] Real time (i.e. wall time). At the end of the day, what we care about is wall time, however processing time is also valuable to understand the effects of parallelization. Note that our study will be split into two broad categories: CPU parallelization and GPU parallelization."
   ]
  },
  {
   "cell_type": "markdown",
   "id": "f2413b8c-4067-4bdd-8c96-329360e4c2f8",
   "metadata": {},
   "source": [
    "## Imports & Setup"
   ]
  },
  {
   "cell_type": "code",
   "execution_count": 1,
   "id": "d33bf79c-1089-4b1e-9efc-7cb7f93fdbc3",
   "metadata": {},
   "outputs": [],
   "source": [
    "import numpy as np\n",
    "import scipy as sp\n",
    "\n",
    "# To have access to tsc module\n",
    "import sys\n",
    "import os\n",
    "\n",
    "# Get the parent directory of the current working directory\n",
    "gparent_dir = os.path.dirname(os.path.dirname(os.getcwd()))\n",
    "# Append the parent directory to the PYTHONPATH\n",
    "sys.path.append(gparent_dir)\n",
    "\n",
    "# ---------------------------------------------------------------------------------\n",
    "\n",
    "import config\n",
    "\n",
    "from tsc.utilities import get_RPTS, get_nndists, get_connections, fermi, get_KPTS\n",
    "from tsc.basis_atoms import single_atom, extract_atom_vectors, slab\n",
    "from tsc.hamiltonian import hopping_elements, get_exponentials\n",
    "from tsc.hamiltonian import prep_N_hamiltonian, get_N_hamiltonian\n",
    "\n",
    "# Import stuff for vectorized full-k Hamiltonian \n",
    "from tsc.hamiltonian import prep_N_hamiltonian_vectorized, get_N_hamiltonian_vectorized\n",
    "\n",
    "# Import stuff for parallelization\n",
    "from joblib import Parallel, delayed, cpu_count\n",
    "import functools\n",
    "\n",
    "# Import cupy for GPU operations\n",
    "import cupy as cp\n",
    "\n",
    "import time\n",
    "\n",
    "# Get config variables\n",
    "globals().update({k: v for k, v in vars(config.Config).items() if not k.startswith(\"__\")})"
   ]
  },
  {
   "cell_type": "code",
   "execution_count": 2,
   "id": "39e6da70-381e-4970-91c7-d9970577d34d",
   "metadata": {},
   "outputs": [],
   "source": [
    "def do_stuff(atoms, a, Nkx, Nky, Nkz):\n",
    "    \n",
    "    # Construct the lattice sites matrix\n",
    "    RPTS = get_RPTS(a_1, a_2, a, NCELLS)\n",
    "\n",
    "    N_k = Nkx*Nky*Nkz\n",
    "\n",
    "    # Extract the vectors from the called function\n",
    "    TPTS, atom_types, E_0, U, n_bar, B, Λ = extract_atom_vectors(atoms)\n",
    "    \n",
    "    # Write down the number of basis atoms\n",
    "    N_b: int = TPTS.shape[0]\n",
    "    \n",
    "    num_neighbs = get_nndists(RPTS, TPTS, R_max)\n",
    "    \n",
    "    # Get the maximum number of neighbours\n",
    "    max_neighb = num_neighbs.max()\n",
    "    \n",
    "    # Get the atom_IJ and Rvec_ij matrices\n",
    "    atom_IJ, Rvec_ij = get_connections(max_neighb, RPTS, TPTS, R_max)\n",
    "    \n",
    "    # Get the number of different atom types based on the basis_atoms configuration\n",
    "    # Also re-encode the atom_types as 0, 1, 2, etc.\n",
    "    unique_atoms, atom_types = np.unique(atom_types, return_inverse=True)\n",
    "    N_unique: int = unique_atoms.shape[0]\n",
    "    \n",
    "    # Construct a completely symmetrical case\n",
    "    t_0 = np.ones((N_unique, N_unique))\n",
    "    \n",
    "    # Get the hopping elements\n",
    "    t = hopping_elements(atom_IJ, num_neighbs, Rvec_ij, atom_types, t_0, R_0)\n",
    "\n",
    "    # Get a k-mesh with resolution that depends on N_x, N_y, N_z\n",
    "    KPTS = get_KPTS(a_1, a_2, a, Nkx, Nky, Nkz)\n",
    "\n",
    "    # Get the exponentials\n",
    "    fourier = get_exponentials(Rvec_ij, KPTS)\n",
    "\n",
    "    μ = μ_0\n",
    "    n = np.ones((N_b))*n_0\n",
    "\n",
    "    return N_b, E_0, μ, U, n, n_bar, B, atom_IJ, num_neighbs, fourier, t, KPTS, N_k"
   ]
  },
  {
   "cell_type": "code",
   "execution_count": 3,
   "id": "07ba2dc5-4243-4233-9b73-eb5269a02db8",
   "metadata": {},
   "outputs": [],
   "source": [
    "# Setup config stuff\n",
    "a_atom = np.array([0.0,0.0,1.0])\n",
    "a_slab = np.array([0.0,0.0,200.0])\n",
    "\n",
    "Nkx_a, Nky_a, Nkz_a = 80, 80, 80\n",
    "Nkx_s, Nky_s, Nkz_s = 40, 40, 1"
   ]
  },
  {
   "cell_type": "markdown",
   "id": "445657fa-7bd4-4ab5-943c-b4f09bb9d338",
   "metadata": {},
   "source": [
    "## CPU Operations"
   ]
  },
  {
   "cell_type": "markdown",
   "id": "13ecc254-49ab-49f5-a865-623aefcb5e36",
   "metadata": {},
   "source": [
    "For the CPU Operations we contrust the Hamiltonian matrix separately per $k$-point, using a numba jitted function."
   ]
  },
  {
   "cell_type": "markdown",
   "id": "0792fad6-4332-4122-8366-fc0e2968a517",
   "metadata": {},
   "source": [
    "### 1.1.1: Single Atom - No Optimization"
   ]
  },
  {
   "cell_type": "code",
   "execution_count": 4,
   "id": "f389c109-58e3-4dab-a3c7-fefaaab47660",
   "metadata": {},
   "outputs": [],
   "source": [
    "atoms = single_atom()\n",
    "\n",
    "N_b, E_0, μ, U, n, n_bar, B, atom_IJ, num_neighbs, fourier, t, KPTS, N_k = do_stuff(atoms, a_atom, Nkx_a, Nky_a, Nkz_a)"
   ]
  },
  {
   "cell_type": "code",
   "execution_count": 5,
   "id": "98894803-a45f-4718-b051-d613d3e0cf20",
   "metadata": {},
   "outputs": [
    {
     "name": "stdout",
     "output_type": "stream",
     "text": [
      "Processing time = 1.5781.\t Real time = 5.3000\n",
      "Processing time = 2.2344.\t Real time = 5.1540\n",
      "Processing time = 1.6094.\t Real time = 5.1560\n",
      "Processing time = 1.1719.\t Real time = 5.3059\n",
      "Processing time = 1.2500.\t Real time = 5.1521\n"
     ]
    }
   ],
   "source": [
    "for rep in range(5):\n",
    "    \n",
    "    # Create placeholder arrays for the eigenvalues and eigenvectors\n",
    "    E_vals, E_vecs = np.zeros((N_k, 2*N_b)), np.zeros((N_k, 2*N_b, 2*N_b), dtype=np.complex128)\n",
    "\n",
    "    # prepare the Hamiltonian\n",
    "    H_prep = prep_N_hamiltonian(E_0, μ, U, n, n_bar, B, s_0, s_1, s_2, s_3)\n",
    "\n",
    "    start1 = time.process_time()\n",
    "    start2 = time.time()\n",
    "    for k in range(N_k):\n",
    "        # Get a deepcopy of H_prep so that we don't have to re-generate it\n",
    "        H_copied = np.copy(H_prep)\n",
    "        # Get a new H(k) for every k\n",
    "        H = get_N_hamiltonian(k, H_copied, atom_IJ, num_neighbs, fourier, t)\n",
    "\n",
    "        # Diagonalize H(k)\n",
    "        w, v = sp.linalg.eigh(H, driver=\"ev\")\n",
    "\n",
    "        # Store results\n",
    "        E_vals[k, :] = w\n",
    "        E_vecs[k, :, :] = v\n",
    "    end1 = time.process_time()\n",
    "    end2 = time.time()\n",
    "    \n",
    "    print(f\"Processing time = {end1-start1:.4f}.\\t Real time = {end2-start2:.4f}\")\n",
    "\n",
    "    # ---------------------------------------------------------\n",
    "    # We do not care about the rest stuff\n",
    "    # ---------------------------------------------------------"
   ]
  },
  {
   "cell_type": "markdown",
   "id": "1e358e4e-8378-4b5b-987f-3152e9331dbb",
   "metadata": {},
   "source": [
    "### 1.1.2: Single Atom - Parallel, No Batching"
   ]
  },
  {
   "cell_type": "code",
   "execution_count": 6,
   "id": "086c011c-eecd-4328-9c8d-a5dea56f7f47",
   "metadata": {},
   "outputs": [],
   "source": [
    "def k_loop(k, H_prep, atom_IJ, num_neighbs, fourier, t, N_b):\n",
    "    H_copied = np.copy(H_prep)\n",
    "    H = get_N_hamiltonian(k, H_copied, atom_IJ, num_neighbs, fourier, t)\n",
    "    w, v = sp.linalg.eigh(H, driver=\"ev\")\n",
    "    return w, v, k"
   ]
  },
  {
   "cell_type": "code",
   "execution_count": 7,
   "id": "613cfc44-e961-4591-9b74-7e213587a46f",
   "metadata": {},
   "outputs": [
    {
     "name": "stdout",
     "output_type": "stream",
     "text": [
      "Processing time = 2.1406.\t Real time = 9.6579\n",
      "Processing time = 0.4688.\t Real time = 7.7289\n",
      "Processing time = 1.1406.\t Real time = 7.1671\n",
      "Processing time = 1.5469.\t Real time = 7.5790\n",
      "Processing time = 1.2969.\t Real time = 7.4680\n"
     ]
    }
   ],
   "source": [
    "for rep in range(5):\n",
    "    \n",
    "    # Create placeholder arrays for the eigenvalues and eigenvectors\n",
    "    E_vals, E_vecs = np.zeros((N_k, 2*N_b)), np.zeros((N_k, 2*N_b, 2*N_b), dtype=np.complex128)\n",
    "\n",
    "    # prepare the Hamiltonian\n",
    "    H_prep = prep_N_hamiltonian(E_0, μ, U, n, n_bar, B, s_0, s_1, s_2, s_3)\n",
    "\n",
    "    start1 = time.process_time()\n",
    "    start2 = time.time()\n",
    "    \n",
    "    partial_compute_for_k = functools.partial(k_loop, H_prep=H_prep, atom_IJ=atom_IJ, num_neighbs=num_neighbs, fourier=fourier, t=t, N_b=N_b)\n",
    "    results = Parallel(n_jobs=-1)(delayed(partial_compute_for_k)(k) for k in range(N_k))\n",
    "\n",
    "    for w, v, k in results:\n",
    "        E_vals[k, :] = w\n",
    "        E_vecs[k, :, :] = v\n",
    "    \n",
    "    end1 = time.process_time()\n",
    "    end2 = time.time()\n",
    "    print(f\"Processing time = {end1-start1:.4f}.\\t Real time = {end2-start2:.4f}\")\n",
    "\n",
    "    # ---------------------------------------------------------\n",
    "    # We do not care about the rest stuff\n",
    "    # ---------------------------------------------------------"
   ]
  },
  {
   "cell_type": "markdown",
   "id": "f7e13d2d-8766-42af-946f-c0a17d7317d2",
   "metadata": {},
   "source": [
    "### 1.1.3: Single Atom - Parallel, Batched"
   ]
  },
  {
   "cell_type": "code",
   "execution_count": 8,
   "id": "fede4ca0-e14e-4fb8-94bc-7d46f448f3b4",
   "metadata": {},
   "outputs": [],
   "source": [
    "def k_batch_loop(start, end, H_prep, atom_IJ, num_neighbs, fourier, t, N_b):\n",
    "    \n",
    "    batch_w = np.zeros((end - start, 2*N_b))\n",
    "    batch_v = np.zeros((end - start, 2*N_b, 2*N_b), dtype=np.complex128)\n",
    "    for i, k in enumerate(range(start, end)):\n",
    "        H_copied = np.copy(H_prep)\n",
    "        H = get_N_hamiltonian(k, H_copied, atom_IJ, num_neighbs, fourier, t)\n",
    "        w, v = sp.linalg.eigh(H, driver=\"ev\")\n",
    "        batch_w[i, :] = w\n",
    "        batch_v[i, :, :] = v\n",
    "        \n",
    "    return batch_w, batch_v, start, end"
   ]
  },
  {
   "cell_type": "code",
   "execution_count": 9,
   "id": "e09000f5-1a6b-4112-aae7-1687bfe87be2",
   "metadata": {},
   "outputs": [
    {
     "name": "stdout",
     "output_type": "stream",
     "text": [
      "Processing time = 0.1250.\t Real time = 1.2390\n",
      "Processing time = 0.0156.\t Real time = 1.1528\n",
      "Processing time = 0.0156.\t Real time = 1.1040\n",
      "Processing time = 0.0156.\t Real time = 1.1051\n",
      "Processing time = 0.0000.\t Real time = 1.1330\n"
     ]
    }
   ],
   "source": [
    "# Batch the parallelism\n",
    "n_cores = cpu_count()\n",
    "batch_size = N_k // n_cores\n",
    "\n",
    "for rep in range(5):\n",
    "    \n",
    "    # Create placeholder arrays for the eigenvalues and eigenvectors\n",
    "    E_vals, E_vecs = np.zeros((N_k, 2*N_b)), np.zeros((N_k, 2*N_b, 2*N_b), dtype=np.complex128)\n",
    "\n",
    "    # prepare the Hamiltonian\n",
    "    H_prep = prep_N_hamiltonian(E_0, μ, U, n, n_bar, B, s_0, s_1, s_2, s_3)\n",
    "\n",
    "    start1 = time.process_time()\n",
    "    start2 = time.time()\n",
    "    \n",
    "    partial_compute_for_k = functools.partial(k_batch_loop, H_prep=H_prep, atom_IJ=atom_IJ, num_neighbs=num_neighbs, fourier=fourier, t=t, N_b=N_b)\n",
    "    results = Parallel(n_jobs=-1)(delayed(partial_compute_for_k)(k, min(k+batch_size, N_k)) for k in range(0, N_k, batch_size))\n",
    "\n",
    "    for batch_w, batch_v, start, end in results:\n",
    "        E_vals[start:end, :] = batch_w\n",
    "        E_vecs[start:end, :, :] = batch_v\n",
    "    \n",
    "    end1 = time.process_time()\n",
    "    end2 = time.time()\n",
    "    print(f\"Processing time = {end1-start1:.4f}.\\t Real time = {end2-start2:.4f}\")\n",
    "\n",
    "    # ---------------------------------------------------------\n",
    "    # We do not care about the rest stuff\n",
    "    # ---------------------------------------------------------\n"
   ]
  },
  {
   "cell_type": "code",
   "execution_count": null,
   "id": "0e62c47f-56eb-421a-a15b-d946804bdbb9",
   "metadata": {},
   "outputs": [],
   "source": []
  },
  {
   "cell_type": "markdown",
   "id": "4ad5e1d4-896e-4a28-a5c2-c699bde062e0",
   "metadata": {},
   "source": [
    "### 1.2.1: Slab - No Optimization"
   ]
  },
  {
   "cell_type": "code",
   "execution_count": 18,
   "id": "4a997c8d-5813-488b-88c8-177ed563e6fe",
   "metadata": {},
   "outputs": [],
   "source": [
    "atoms = slab(slab_length=100)\n",
    "\n",
    "N_b, E_0, μ, U, n, n_bar, B, atom_IJ, num_neighbs, fourier, t, KPTS, N_k = do_stuff(atoms, a_slab, Nkx_s, Nky_s, Nkz_s)"
   ]
  },
  {
   "cell_type": "code",
   "execution_count": 19,
   "id": "d7bec8db-a827-434f-a467-2cd432f5acc2",
   "metadata": {},
   "outputs": [
    {
     "name": "stdout",
     "output_type": "stream",
     "text": [
      "Processing time = 2.8594.\t Real time = 27.9318\n",
      "Processing time = 4.5156.\t Real time = 29.5529\n",
      "Processing time = 8.3594.\t Real time = 28.8752\n",
      "Processing time = 3.4062.\t Real time = 27.8049\n",
      "Processing time = 5.6562.\t Real time = 27.6250\n"
     ]
    }
   ],
   "source": [
    "for rep in range(5):\n",
    "    \n",
    "    # Create placeholder arrays for the eigenvalues and eigenvectors\n",
    "    E_vals, E_vecs = np.zeros((N_k, 2*N_b)), np.zeros((N_k, 2*N_b, 2*N_b), dtype=np.complex128)\n",
    "\n",
    "    # prepare the Hamiltonian\n",
    "    H_prep = prep_N_hamiltonian(E_0, μ, U, n, n_bar, B, s_0, s_1, s_2, s_3)\n",
    "\n",
    "    start1 = time.process_time()\n",
    "    start2 = time.time()\n",
    "    for k in range(N_k):\n",
    "        # Get a deepcopy of H_prep so that we don't have to re-generate it\n",
    "        H_copied = np.copy(H_prep)\n",
    "        # Get a new H(k) for every k\n",
    "        H = get_N_hamiltonian(k, H_copied, atom_IJ, num_neighbs, fourier, t)\n",
    "\n",
    "        # Diagonalize H(k)\n",
    "        w, v = sp.linalg.eigh(H, driver=\"ev\")\n",
    "\n",
    "        # Store results\n",
    "        E_vals[k, :] = w\n",
    "        E_vecs[k, :, :] = v\n",
    "    end1 = time.process_time()\n",
    "    end2 = time.time()\n",
    "    \n",
    "    print(f\"Processing time = {end1-start1:.4f}.\\t Real time = {end2-start2:.4f}\")\n",
    "\n",
    "    # ---------------------------------------------------------\n",
    "    # We do not care about the rest stuff\n",
    "    # ---------------------------------------------------------"
   ]
  },
  {
   "cell_type": "code",
   "execution_count": null,
   "id": "dd0cac24-6f50-4bd1-8641-a57485ab0f18",
   "metadata": {},
   "outputs": [],
   "source": []
  },
  {
   "cell_type": "markdown",
   "id": "1c0c4d96-efff-4170-a9ab-232083d38698",
   "metadata": {},
   "source": [
    "### 1.2.2: Slab - Parallel, No Batching"
   ]
  },
  {
   "cell_type": "code",
   "execution_count": 20,
   "id": "d26cce6c-0c9a-47ff-8b80-ad988dd12066",
   "metadata": {},
   "outputs": [
    {
     "name": "stdout",
     "output_type": "stream",
     "text": [
      "Processing time = 0.2188.\t Real time = 2.7961\n",
      "Processing time = 0.1250.\t Real time = 3.1583\n",
      "Processing time = 0.2812.\t Real time = 2.5751\n",
      "Processing time = 0.4844.\t Real time = 2.8556\n",
      "Processing time = 0.4375.\t Real time = 2.5173\n"
     ]
    }
   ],
   "source": [
    "for rep in range(5):\n",
    "    \n",
    "    # Create placeholder arrays for the eigenvalues and eigenvectors\n",
    "    E_vals, E_vecs = np.zeros((N_k, 2*N_b)), np.zeros((N_k, 2*N_b, 2*N_b), dtype=np.complex128)\n",
    "\n",
    "    # prepare the Hamiltonian\n",
    "    H_prep = prep_N_hamiltonian(E_0, μ, U, n, n_bar, B, s_0, s_1, s_2, s_3)\n",
    "\n",
    "    start1 = time.process_time()\n",
    "    start2 = time.time()\n",
    "    \n",
    "    partial_compute_for_k = functools.partial(k_loop, H_prep=H_prep, atom_IJ=atom_IJ, num_neighbs=num_neighbs, fourier=fourier, t=t, N_b=N_b)\n",
    "    results = Parallel(n_jobs=-1)(delayed(partial_compute_for_k)(k) for k in range(N_k))\n",
    "\n",
    "    for w, v, k in results:\n",
    "        E_vals[k, :] = w\n",
    "        E_vecs[k, :, :] = v\n",
    "    \n",
    "    end1 = time.process_time()\n",
    "    end2 = time.time()\n",
    "    print(f\"Processing time = {end1-start1:.4f}.\\t Real time = {end2-start2:.4f}\")\n",
    "\n",
    "    # ---------------------------------------------------------\n",
    "    # We do not care about the rest stuff\n",
    "    # ---------------------------------------------------------"
   ]
  },
  {
   "cell_type": "code",
   "execution_count": null,
   "id": "262512c8-bcb5-422b-a5bd-af947e6a8eb3",
   "metadata": {},
   "outputs": [],
   "source": []
  },
  {
   "cell_type": "markdown",
   "id": "c906a32c-cfe1-4ef9-9653-b25ee6899f7d",
   "metadata": {},
   "source": [
    "### 1.2.3: Slab - Parallel, Batched"
   ]
  },
  {
   "cell_type": "code",
   "execution_count": 21,
   "id": "35dab9e8-a429-4c44-8d9d-367523fccdbf",
   "metadata": {},
   "outputs": [
    {
     "name": "stdout",
     "output_type": "stream",
     "text": [
      "Processing time = 0.2656.\t Real time = 9.9057\n",
      "Processing time = 0.2656.\t Real time = 9.8019\n",
      "Processing time = 0.4531.\t Real time = 9.2620\n",
      "Processing time = 0.2344.\t Real time = 8.8081\n",
      "Processing time = 0.2969.\t Real time = 8.6928\n"
     ]
    }
   ],
   "source": [
    "for rep in range(5):\n",
    "    \n",
    "    # Create placeholder arrays for the eigenvalues and eigenvectors\n",
    "    E_vals, E_vecs = np.zeros((N_k, 2*N_b)), np.zeros((N_k, 2*N_b, 2*N_b), dtype=np.complex128)\n",
    "\n",
    "    # prepare the Hamiltonian\n",
    "    H_prep = prep_N_hamiltonian(E_0, μ, U, n, n_bar, B, s_0, s_1, s_2, s_3)\n",
    "\n",
    "    start1 = time.process_time()\n",
    "    start2 = time.time()\n",
    "    \n",
    "    partial_compute_for_k = functools.partial(k_batch_loop, H_prep=H_prep, atom_IJ=atom_IJ, num_neighbs=num_neighbs, fourier=fourier, t=t, N_b=N_b)\n",
    "    results = Parallel(n_jobs=-1)(delayed(partial_compute_for_k)(k, min(k+batch_size, N_k)) for k in range(0, N_k, batch_size))\n",
    "\n",
    "    for batch_w, batch_v, start, end in results:\n",
    "        E_vals[start:end, :] = batch_w\n",
    "        E_vecs[start:end, :, :] = batch_v\n",
    "    \n",
    "    end1 = time.process_time()\n",
    "    end2 = time.time()\n",
    "    print(f\"Processing time = {end1-start1:.4f}.\\t Real time = {end2-start2:.4f}\")\n",
    "\n",
    "    # ---------------------------------------------------------\n",
    "    # We do not care about the rest stuff\n",
    "    # ---------------------------------------------------------\n"
   ]
  },
  {
   "cell_type": "markdown",
   "id": "40b1e2c8-b959-4f3c-812b-0895d0f18041",
   "metadata": {},
   "source": [
    "Let's see what happens if we experiment with the batch size manually."
   ]
  },
  {
   "cell_type": "code",
   "execution_count": 22,
   "id": "561fe0f6-7eac-43b7-8c7d-7e8506df0939",
   "metadata": {},
   "outputs": [
    {
     "name": "stdout",
     "output_type": "stream",
     "text": [
      "Processing time = 0.4531.\t Real time = 1.9330\n",
      "Processing time = 0.3750.\t Real time = 1.7702\n",
      "Processing time = 0.1719.\t Real time = 1.7288\n",
      "Processing time = 0.3438.\t Real time = 1.7608\n",
      "Processing time = 0.3438.\t Real time = 1.8724\n"
     ]
    }
   ],
   "source": [
    "batch_size = 20\n",
    "\n",
    "for rep in range(5):\n",
    "    \n",
    "    # Create placeholder arrays for the eigenvalues and eigenvectors\n",
    "    E_vals, E_vecs = np.zeros((N_k, 2*N_b)), np.zeros((N_k, 2*N_b, 2*N_b), dtype=np.complex128)\n",
    "\n",
    "    # prepare the Hamiltonian\n",
    "    H_prep = prep_N_hamiltonian(E_0, μ, U, n, n_bar, B, s_0, s_1, s_2, s_3)\n",
    "\n",
    "    start1 = time.process_time()\n",
    "    start2 = time.time()\n",
    "    \n",
    "    partial_compute_for_k = functools.partial(k_batch_loop, H_prep=H_prep, atom_IJ=atom_IJ, num_neighbs=num_neighbs, fourier=fourier, t=t, N_b=N_b)\n",
    "    results = Parallel(n_jobs=-1)(delayed(partial_compute_for_k)(k, min(k+batch_size, N_k)) for k in range(0, N_k, batch_size))\n",
    "\n",
    "    for batch_w, batch_v, start, end in results:\n",
    "        E_vals[start:end, :] = batch_w\n",
    "        E_vecs[start:end, :, :] = batch_v\n",
    "    \n",
    "    end1 = time.process_time()\n",
    "    end2 = time.time()\n",
    "    print(f\"Processing time = {end1-start1:.4f}.\\t Real time = {end2-start2:.4f}\")\n",
    "\n",
    "    # ---------------------------------------------------------\n",
    "    # We do not care about the rest stuff\n",
    "    # ---------------------------------------------------------\n"
   ]
  },
  {
   "cell_type": "markdown",
   "id": "57070642-87b9-4125-8d31-3916498f6e9c",
   "metadata": {},
   "source": [
    "It becomes evident that choosing smaller batch sizes allows us to achieve better than non-batched/non-parallel times.\n",
    "\n",
    "Note that if we set the batch size equal to 1, we get a situation which is equivalent to this of the non-batched parallelization."
   ]
  },
  {
   "cell_type": "code",
   "execution_count": 23,
   "id": "b5bf31f3-9072-4514-bc48-5fb7a14c9759",
   "metadata": {},
   "outputs": [
    {
     "name": "stdout",
     "output_type": "stream",
     "text": [
      "Processing time = 0.1719.\t Real time = 2.9119\n",
      "Processing time = 0.2812.\t Real time = 3.4490\n",
      "Processing time = 0.2031.\t Real time = 2.8449\n",
      "Processing time = 0.1875.\t Real time = 2.7302\n",
      "Processing time = 0.3906.\t Real time = 2.5571\n"
     ]
    }
   ],
   "source": [
    "batch_size = 1\n",
    "\n",
    "for rep in range(5):\n",
    "    \n",
    "    # Create placeholder arrays for the eigenvalues and eigenvectors\n",
    "    E_vals, E_vecs = np.zeros((N_k, 2*N_b)), np.zeros((N_k, 2*N_b, 2*N_b), dtype=np.complex128)\n",
    "\n",
    "    # prepare the Hamiltonian\n",
    "    H_prep = prep_N_hamiltonian(E_0, μ, U, n, n_bar, B, s_0, s_1, s_2, s_3)\n",
    "\n",
    "    start1 = time.process_time()\n",
    "    start2 = time.time()\n",
    "    \n",
    "    partial_compute_for_k = functools.partial(k_batch_loop, H_prep=H_prep, atom_IJ=atom_IJ, num_neighbs=num_neighbs, fourier=fourier, t=t, N_b=N_b)\n",
    "    results = Parallel(n_jobs=-1)(delayed(partial_compute_for_k)(k, min(k+batch_size, N_k)) for k in range(0, N_k, batch_size))\n",
    "\n",
    "    for batch_w, batch_v, start, end in results:\n",
    "        E_vals[start:end, :] = batch_w\n",
    "        E_vecs[start:end, :, :] = batch_v\n",
    "    \n",
    "    end1 = time.process_time()\n",
    "    end2 = time.time()\n",
    "    print(f\"Processing time = {end1-start1:.4f}.\\t Real time = {end2-start2:.4f}\")\n",
    "\n",
    "    # ---------------------------------------------------------\n",
    "    # We do not care about the rest stuff\n",
    "    # ---------------------------------------------------------\n"
   ]
  },
  {
   "cell_type": "code",
   "execution_count": null,
   "id": "e21e6bb3-f682-492b-8ffd-6401670abd5a",
   "metadata": {},
   "outputs": [],
   "source": []
  },
  {
   "cell_type": "markdown",
   "id": "e138134d-8cb4-48d8-b4c2-44be7883b53b",
   "metadata": {},
   "source": [
    "## GPU Operations"
   ]
  },
  {
   "cell_type": "markdown",
   "id": "f51271b8-d7dc-42ed-a564-7f032df4878d",
   "metadata": {},
   "source": [
    "For the GPU Operations we construct the Hamiltonian matrix directly for all $k$-points, pass it to the GPU and then diagonalize it in parallel."
   ]
  },
  {
   "cell_type": "markdown",
   "id": "fc84512c-1b34-4c36-953f-dea9736078eb",
   "metadata": {},
   "source": [
    "### 2.1: Single Atom"
   ]
  },
  {
   "cell_type": "code",
   "execution_count": 4,
   "id": "77896c8a-7c2e-4a41-a904-9a0392002a3d",
   "metadata": {},
   "outputs": [],
   "source": [
    "atoms = single_atom()\n",
    "\n",
    "N_b, E_0, μ, U, n, n_bar, B, atom_IJ, num_neighbs, fourier, t, KPTS, N_k = do_stuff(atoms, a_atom, Nkx_a, Nky_a, Nkz_a)"
   ]
  },
  {
   "cell_type": "code",
   "execution_count": 9,
   "id": "0f8a61dc-0e2a-4686-9d01-6746f9b880d6",
   "metadata": {},
   "outputs": [
    {
     "name": "stdout",
     "output_type": "stream",
     "text": [
      "Processing time = 0.1406.\t Real time = 0.2740\n",
      "Processing time = 0.0000.\t Real time = 0.2653\n",
      "Processing time = 0.0469.\t Real time = 0.2574\n",
      "Processing time = 0.0000.\t Real time = 0.2589\n",
      "Processing time = 0.1562.\t Real time = 0.2742\n",
      "Processing time = 0.1562.\t Real time = 0.2581\n",
      "Processing time = 0.0469.\t Real time = 0.2529\n",
      "Processing time = 0.0312.\t Real time = 0.2563\n",
      "Processing time = 0.0156.\t Real time = 0.2671\n",
      "Processing time = 0.0625.\t Real time = 0.2574\n",
      "Processing time = 0.0312.\t Real time = 0.2589\n",
      "Processing time = 0.2031.\t Real time = 0.2587\n",
      "Processing time = 0.0000.\t Real time = 0.2634\n",
      "Processing time = 0.0469.\t Real time = 0.2670\n",
      "Processing time = 0.1562.\t Real time = 0.2591\n"
     ]
    }
   ],
   "source": [
    "for rep in range(5):\n",
    "\n",
    "    # Get the full-k prepared Hamiltonian\n",
    "    H = prep_N_hamiltonian_vectorized(E_0, μ, U, n, n_bar, B, s_0, s_1, s_2, s_3, N_k)\n",
    "\n",
    "    start1 = time.process_time()\n",
    "    start2 = time.time()\n",
    "\n",
    "    # Get the full-k actual Hamiltonian\n",
    "    H = get_N_hamiltonian_vectorized(H, atom_IJ, num_neighbs, fourier, t)\n",
    "\n",
    "    H_gpu = cp.asarray(H)\n",
    "\n",
    "    w, v = cp.linalg.eigh(H_gpu)\n",
    "    \n",
    "    end1 = time.process_time()\n",
    "    end2 = time.time()\n",
    "    print(f\"Processing time = {end1-start1:.4f}.\\t Real time = {end2-start2:.4f}\")\n",
    "\n",
    "    # Otherwise we may get memory errors\n",
    "    cp.get_default_memory_pool().free_all_blocks()\n",
    "\n",
    "    # ---------------------------------------------------------\n",
    "    # We do not care about the rest stuff\n",
    "    # ---------------------------------------------------------\n"
   ]
  },
  {
   "cell_type": "code",
   "execution_count": null,
   "id": "6aadb838-57fd-4ddf-b374-b575e27ef9b1",
   "metadata": {},
   "outputs": [],
   "source": []
  },
  {
   "cell_type": "markdown",
   "id": "83e3e59f-b6e5-4fbb-99a4-929d4c1667cc",
   "metadata": {},
   "source": [
    "### 2.2: Slab"
   ]
  },
  {
   "cell_type": "code",
   "execution_count": 11,
   "id": "506b53a4-329f-4813-875c-2a1dde907152",
   "metadata": {},
   "outputs": [],
   "source": [
    "atoms = slab(slab_length=100)\n",
    "\n",
    "N_b, E_0, μ, U, n, n_bar, B, atom_IJ, num_neighbs, fourier, t, KPTS, N_k = do_stuff(atoms, a_slab, Nkx_s, Nky_s, Nkz_s)"
   ]
  },
  {
   "cell_type": "code",
   "execution_count": 12,
   "id": "387b26c3-6802-490d-81ed-fd6659ee2f86",
   "metadata": {},
   "outputs": [
    {
     "name": "stdout",
     "output_type": "stream",
     "text": [
      "Processing time = 11.0469.\t Real time = 24.3263\n",
      "Processing time = 8.2188.\t Real time = 24.9634\n",
      "Processing time = 11.4219.\t Real time = 24.1042\n",
      "Processing time = 10.7500.\t Real time = 24.5035\n",
      "Processing time = 10.5469.\t Real time = 24.5470\n"
     ]
    }
   ],
   "source": [
    "for rep in range(5):\n",
    "\n",
    "    # Get the full-k prepared Hamiltonian\n",
    "    H = prep_N_hamiltonian_vectorized(E_0, μ, U, n, n_bar, B, s_0, s_1, s_2, s_3, N_k)\n",
    "\n",
    "    start1 = time.process_time()\n",
    "    start2 = time.time()\n",
    "\n",
    "    # Get the full-k actual Hamiltonian\n",
    "    H = get_N_hamiltonian_vectorized(H, atom_IJ, num_neighbs, fourier, t)\n",
    "\n",
    "    H_gpu = cp.asarray(H)\n",
    "\n",
    "    w, v = cp.linalg.eigh(H_gpu)\n",
    "    \n",
    "    end1 = time.process_time()\n",
    "    end2 = time.time()\n",
    "    print(f\"Processing time = {end1-start1:.4f}.\\t Real time = {end2-start2:.4f}\")\n",
    "\n",
    "    # Otherwise we may get memory errors\n",
    "    cp.get_default_memory_pool().free_all_blocks()\n",
    "\n",
    "    # ---------------------------------------------------------\n",
    "    # We do not care about the rest stuff\n",
    "    # ---------------------------------------------------------\n"
   ]
  },
  {
   "cell_type": "code",
   "execution_count": null,
   "id": "68e3f143-3a2a-49ce-ba47-4c0d3928e506",
   "metadata": {},
   "outputs": [],
   "source": []
  },
  {
   "cell_type": "markdown",
   "id": "9b9b2b68-2fab-4146-b5ec-2f1f30bfe39f",
   "metadata": {},
   "source": [
    "## Conclusions"
   ]
  },
  {
   "cell_type": "markdown",
   "id": "a037452f-42b8-4ff9-8e1a-cf151f1a869e",
   "metadata": {},
   "source": [
    "Obviously, parallelization does wonders when it comes to parallelizable tasks - this is no newsflash. By properly batching the data that are distributed we can achieve better than \"default\" times. When it comes to GPU vs CPU parallelization, it is evident that for relatively small matrices (e.g. a single atom, or just a few atoms), the GPU is ideal. However, when the matrix size increases (e.g. a slab), the diagonalization becomes more complex and requires the power of a CPU to run fast."
   ]
  },
  {
   "cell_type": "code",
   "execution_count": null,
   "id": "cd8bdeb1-bf50-4802-b607-54d9498d4aa9",
   "metadata": {},
   "outputs": [],
   "source": []
  }
 ],
 "metadata": {
  "kernelspec": {
   "display_name": "Python 3 (ipykernel)",
   "language": "python",
   "name": "python3"
  },
  "language_info": {
   "codemirror_mode": {
    "name": "ipython",
    "version": 3
   },
   "file_extension": ".py",
   "mimetype": "text/x-python",
   "name": "python",
   "nbconvert_exporter": "python",
   "pygments_lexer": "ipython3",
   "version": "3.8.11"
  }
 },
 "nbformat": 4,
 "nbformat_minor": 5
}
