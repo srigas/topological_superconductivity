{
 "cells": [
  {
   "cell_type": "markdown",
   "id": "2ca7543a-94fc-4c66-95c6-5905cf48a167",
   "metadata": {},
   "source": [
    "# Parallelization"
   ]
  },
  {
   "cell_type": "markdown",
   "id": "a5cea2da-3d89-4c64-ac01-35db8f2e311a",
   "metadata": {},
   "source": [
    "This is a notebook that showcases the effects of parallelization when performing the self-consistency cycle. For brevity, we will define the pre-processing steps as a single function and re-call it with different atom configurations whenever necessary. For the config we choose 40x40x40 $k$-points for the single atom and 40x40 $k$-points for the slab. In all cases, we will do 5 reps without caring for convergence. We will count two types of times: [1] CPU time (i.e. processing time) and [2] Real time (i.e. wall time). At the end of the day, what we care about is wall time, however processing time is also valuable to understand the effects of parallelization."
   ]
  },
  {
   "cell_type": "code",
   "execution_count": 1,
   "id": "d33bf79c-1089-4b1e-9efc-7cb7f93fdbc3",
   "metadata": {},
   "outputs": [],
   "source": [
    "import numpy as np\n",
    "import scipy as sp\n",
    "\n",
    "# To have access to tsc module\n",
    "import sys\n",
    "import os\n",
    "\n",
    "# Get the parent directory of the current working directory\n",
    "gparent_dir = os.path.dirname(os.path.dirname(os.getcwd()))\n",
    "# Append the parent directory to the PYTHONPATH\n",
    "sys.path.append(gparent_dir)\n",
    "\n",
    "# ---------------------------------------------------------------------------------\n",
    "\n",
    "import config\n",
    "\n",
    "from tsc.utilities import get_RPTS, get_nndists, get_connections, fermi, get_KPTS\n",
    "from tsc.basis_atoms import single_atom, extract_atom_vectors, slab\n",
    "from tsc.hamiltonian import hopping_consts, hopping_elements, get_exponentials\n",
    "from tsc.hamiltonian import prep_N_hamiltonian, get_N_hamiltonian\n",
    "\n",
    "import time\n",
    "\n",
    "# Get config variables\n",
    "globals().update({k: v for k, v in vars(config.Config).items() if not k.startswith(\"__\")})"
   ]
  },
  {
   "cell_type": "code",
   "execution_count": 2,
   "id": "39e6da70-381e-4970-91c7-d9970577d34d",
   "metadata": {},
   "outputs": [],
   "source": [
    "def do_stuff(atoms, a, Nkz):\n",
    "    \n",
    "    # Construct the lattice sites matrix\n",
    "    RPTS = get_RPTS(a_1, a_2, a, NCELLS)\n",
    "\n",
    "    N_k = Nkz*N_x*N_y\n",
    "\n",
    "    # Extract the vectors from the called function\n",
    "    TPTS, atom_types, E_0, U, n_bar, B, Λ = extract_atom_vectors(atoms)\n",
    "    \n",
    "    # Write down the number of basis atoms\n",
    "    N_b: int = TPTS.shape[0]\n",
    "    \n",
    "    num_neighbs = get_nndists(RPTS, TPTS, R_max)\n",
    "    \n",
    "    # Get the maximum number of neighbours\n",
    "    max_neighb = num_neighbs.max()\n",
    "    \n",
    "    # Get the atom_IJ and Rvec_ij matrices\n",
    "    atom_IJ, Rvec_ij = get_connections(max_neighb, RPTS, TPTS, R_max)\n",
    "    \n",
    "    # Get the number of different atom types based on the basis_atoms configuration\n",
    "    # Also re-encode the atom_types as 0, 1, 2, etc.\n",
    "    unique_atoms, atom_types = np.unique(atom_types, return_inverse=True)\n",
    "    N_unique: int = unique_atoms.shape[0]\n",
    "    \n",
    "    # Construct a completely symmetrical case\n",
    "    t_0 = np.ones((N_unique, N_unique))\n",
    "    \n",
    "    # Get the hopping elements\n",
    "    t = hopping_elements(atom_IJ, num_neighbs, Rvec_ij, atom_types, t_0, R_0)\n",
    "\n",
    "    # Get a k-mesh with resolution that depends on N_x, N_y, N_z\n",
    "    KPTS = get_KPTS(a_1, a_2, a, N_x, N_y, Nkz)\n",
    "\n",
    "    # Get the exponentials\n",
    "    fourier = get_exponentials(Rvec_ij, KPTS)\n",
    "\n",
    "    μ = μ_0\n",
    "    n = np.ones((N_b))*n_0\n",
    "\n",
    "    return N_b, E_0, μ, U, n, n_bar, B, atom_IJ, num_neighbs, fourier, t, KPTS, N_k"
   ]
  },
  {
   "cell_type": "markdown",
   "id": "0792fad6-4332-4122-8366-fc0e2968a517",
   "metadata": {},
   "source": [
    "## Case 1: Single Atom - No Optimization"
   ]
  },
  {
   "cell_type": "code",
   "execution_count": 3,
   "id": "f389c109-58e3-4dab-a3c7-fefaaab47660",
   "metadata": {},
   "outputs": [],
   "source": [
    "atoms = single_atom()\n",
    "\n",
    "a = np.array([0.0,0.0,1.0])\n",
    "Nkz = 40\n",
    "\n",
    "N_b, E_0, μ, U, n, n_bar, B, atom_IJ, num_neighbs, fourier, t, KPTS, N_k = do_stuff(atoms, a, Nkz)"
   ]
  },
  {
   "cell_type": "code",
   "execution_count": 4,
   "id": "98894803-a45f-4718-b051-d613d3e0cf20",
   "metadata": {},
   "outputs": [
    {
     "name": "stdout",
     "output_type": "stream",
     "text": [
      "Processing time = 1.8281.\t Real time = 1.8449\n",
      "Processing time = 1.6562.\t Real time = 1.6604\n",
      "Processing time = 1.8750.\t Real time = 1.8768\n",
      "Processing time = 1.6406.\t Real time = 1.6566\n",
      "Processing time = 2.6250.\t Real time = 2.7513\n"
     ]
    }
   ],
   "source": [
    "for rep in range(5):\n",
    "    \n",
    "    # Create placeholder arrays for the eigenvalues and eigenvectors\n",
    "    E_vals, E_vecs = np.zeros((N_k, 2*N_b)), np.zeros((N_k, 2*N_b, 2*N_b), dtype=np.complex128)\n",
    "\n",
    "    # prepare the Hamiltonian\n",
    "    H_prep = prep_N_hamiltonian(E_0, μ, U, n, n_bar, B, s_0, s_1, s_2, s_3)\n",
    "\n",
    "    start1 = time.process_time()\n",
    "    start2 = time.time()\n",
    "    for k in range(N_k):\n",
    "        # Get a deepcopy of H_prep so that we don't have to re-generate it\n",
    "        H_copied = np.copy(H_prep)\n",
    "        # Get a new H(k) for every k\n",
    "        H = get_N_hamiltonian(k, H_copied, atom_IJ, num_neighbs, fourier, t)\n",
    "\n",
    "        # Diagonalize H(k)\n",
    "        w, v = sp.linalg.eigh(H, driver=\"ev\")\n",
    "\n",
    "        # Store results\n",
    "        E_vals[k, :] = w\n",
    "        E_vecs[k, :, :] = v\n",
    "    end1 = time.process_time()\n",
    "    end2 = time.time()\n",
    "    \n",
    "    print(f\"Processing time = {end1-start1:.4f}.\\t Real time = {end2-start2:.4f}\")\n",
    "\n",
    "    # ---------------------------------------------------------\n",
    "    # We do not care about the rest stuff\n",
    "    # ---------------------------------------------------------"
   ]
  },
  {
   "cell_type": "markdown",
   "id": "1e358e4e-8378-4b5b-987f-3152e9331dbb",
   "metadata": {},
   "source": [
    "## Case 2: Single Atom - Optimized"
   ]
  },
  {
   "cell_type": "code",
   "execution_count": 5,
   "id": "086c011c-eecd-4328-9c8d-a5dea56f7f47",
   "metadata": {},
   "outputs": [],
   "source": [
    "from joblib import Parallel, delayed\n",
    "import functools\n",
    "\n",
    "def k_loop(k, H_prep, atom_IJ, num_neighbs, fourier, t, N_b):\n",
    "    H_copied = np.copy(H_prep)\n",
    "    H = get_N_hamiltonian(k, H_copied, atom_IJ, num_neighbs, fourier, t)\n",
    "    w, v = sp.linalg.eigh(H, driver=\"ev\")\n",
    "    return w, v, k"
   ]
  },
  {
   "cell_type": "code",
   "execution_count": 6,
   "id": "613cfc44-e961-4591-9b74-7e213587a46f",
   "metadata": {},
   "outputs": [
    {
     "name": "stdout",
     "output_type": "stream",
     "text": [
      "Processing time = 2.0625.\t Real time = 3.9224\n",
      "Processing time = 2.0312.\t Real time = 2.1145\n",
      "Processing time = 1.8594.\t Real time = 1.9604\n",
      "Processing time = 1.9062.\t Real time = 2.0379\n",
      "Processing time = 1.9219.\t Real time = 1.9734\n"
     ]
    }
   ],
   "source": [
    "for rep in range(5):\n",
    "    \n",
    "    # Create placeholder arrays for the eigenvalues and eigenvectors\n",
    "    E_vals, E_vecs = np.zeros((N_k, 2*N_b)), np.zeros((N_k, 2*N_b, 2*N_b), dtype=np.complex128)\n",
    "\n",
    "    # prepare the Hamiltonian\n",
    "    H_prep = prep_N_hamiltonian(E_0, μ, U, n, n_bar, B, s_0, s_1, s_2, s_3)\n",
    "\n",
    "    start1 = time.process_time()\n",
    "    start2 = time.time()\n",
    "    \n",
    "    partial_compute_for_k = functools.partial(k_loop, H_prep=H_prep, atom_IJ=atom_IJ, num_neighbs=num_neighbs, fourier=fourier, t=t, N_b=N_b)\n",
    "    results = Parallel(n_jobs=-1)(delayed(partial_compute_for_k)(k) for k in range(N_k))\n",
    "\n",
    "    for w, v, k in results:\n",
    "        E_vals[k, :] = w\n",
    "        E_vecs[k, :, :] = v\n",
    "    \n",
    "    end1 = time.process_time()\n",
    "    end2 = time.time()\n",
    "    print(f\"Processing time = {end1-start1:.4f}.\\t Real time = {end2-start2:.4f}\")\n",
    "\n",
    "    # ---------------------------------------------------------\n",
    "    # We do not care about the rest stuff\n",
    "    # ---------------------------------------------------------"
   ]
  },
  {
   "cell_type": "markdown",
   "id": "3552c619-466f-4b87-b7ca-004e05ab3261",
   "metadata": {},
   "source": [
    "While the processing time is slightly better than in the non-optimized case, it appears that all times are pretty much comparable. The reason for this is that the parallelized task is the diagonalization of a 2x2 matrix, which is somewhat trivial."
   ]
  },
  {
   "cell_type": "markdown",
   "id": "f7e13d2d-8766-42af-946f-c0a17d7317d2",
   "metadata": {},
   "source": [
    "## Case 3: Single Atom - Batch Optimized"
   ]
  },
  {
   "cell_type": "code",
   "execution_count": 7,
   "id": "fede4ca0-e14e-4fb8-94bc-7d46f448f3b4",
   "metadata": {},
   "outputs": [],
   "source": [
    "def k_batch_loop(start, end, H_prep, atom_IJ, num_neighbs, fourier, t, N_b):\n",
    "    \n",
    "    batch_w = np.zeros((end - start, 2*N_b))\n",
    "    batch_v = np.zeros((end - start, 2*N_b, 2*N_b), dtype=np.complex128)\n",
    "    for i, k in enumerate(range(start, end)):\n",
    "        H_copied = np.copy(H_prep)\n",
    "        H = get_N_hamiltonian(k, H_copied, atom_IJ, num_neighbs, fourier, t)\n",
    "        w, v = sp.linalg.eigh(H, driver=\"ev\")\n",
    "        batch_w[i, :] = w\n",
    "        batch_v[i, :, :] = v\n",
    "        \n",
    "    return batch_w, batch_v, start, end"
   ]
  },
  {
   "cell_type": "code",
   "execution_count": 8,
   "id": "e09000f5-1a6b-4112-aae7-1687bfe87be2",
   "metadata": {},
   "outputs": [
    {
     "name": "stdout",
     "output_type": "stream",
     "text": [
      "Processing time = 0.0938.\t Real time = 0.4586\n",
      "Processing time = 0.0625.\t Real time = 0.4987\n",
      "Processing time = 0.0156.\t Real time = 0.4540\n",
      "Processing time = 0.0312.\t Real time = 0.4599\n",
      "Processing time = 0.0625.\t Real time = 0.4412\n"
     ]
    }
   ],
   "source": [
    "from joblib import cpu_count\n",
    "\n",
    "# Batch the parallelism\n",
    "n_cores = cpu_count()\n",
    "batch_size = N_k // n_cores\n",
    "\n",
    "for rep in range(5):\n",
    "    \n",
    "    # Create placeholder arrays for the eigenvalues and eigenvectors\n",
    "    E_vals, E_vecs = np.zeros((N_k, 2*N_b)), np.zeros((N_k, 2*N_b, 2*N_b), dtype=np.complex128)\n",
    "\n",
    "    # prepare the Hamiltonian\n",
    "    H_prep = prep_N_hamiltonian(E_0, μ, U, n, n_bar, B, s_0, s_1, s_2, s_3)\n",
    "\n",
    "    start1 = time.process_time()\n",
    "    start2 = time.time()\n",
    "    \n",
    "    partial_compute_for_k = functools.partial(k_batch_loop, H_prep=H_prep, atom_IJ=atom_IJ, num_neighbs=num_neighbs, fourier=fourier, t=t, N_b=N_b)\n",
    "    results = Parallel(n_jobs=-1)(delayed(partial_compute_for_k)(k, min(k+batch_size, N_k)) for k in range(0, N_k, batch_size))\n",
    "\n",
    "    for batch_w, batch_v, start, end in results:\n",
    "        E_vals[start:end, :] = batch_w\n",
    "        E_vecs[start:end, :, :] = batch_v\n",
    "    \n",
    "    end1 = time.process_time()\n",
    "    end2 = time.time()\n",
    "    print(f\"Processing time = {end1-start1:.4f}.\\t Real time = {end2-start2:.4f}\")\n",
    "\n",
    "    # ---------------------------------------------------------\n",
    "    # We do not care about the rest stuff\n",
    "    # ---------------------------------------------------------\n"
   ]
  },
  {
   "cell_type": "markdown",
   "id": "29847e6e-7f4d-4bf3-8807-03d44c1b7bc7",
   "metadata": {},
   "source": [
    "This is where things get really interesting. Since the diagonalization of a 2x2 matrix is a rather trivial proceedure, we evenly distributed the job to multiple cores, so that each core has many such diagonalizations to perform, in batches. Let's see what happens when we move on to another type of problem, i.e. the slab, where the matrix to be diagonalized is higher dimensional (e.g. 200x200)."
   ]
  },
  {
   "cell_type": "code",
   "execution_count": null,
   "id": "0e62c47f-56eb-421a-a15b-d946804bdbb9",
   "metadata": {},
   "outputs": [],
   "source": []
  },
  {
   "cell_type": "markdown",
   "id": "4ad5e1d4-896e-4a28-a5c2-c699bde062e0",
   "metadata": {},
   "source": [
    "## Case 4: Slab - No Optimization"
   ]
  },
  {
   "cell_type": "code",
   "execution_count": 9,
   "id": "4a997c8d-5813-488b-88c8-177ed563e6fe",
   "metadata": {},
   "outputs": [],
   "source": [
    "atoms = slab(slab_length=100)\n",
    "\n",
    "a = np.array([0.0,0.0,200.0])\n",
    "Nkz = 1\n",
    "\n",
    "N_b, E_0, μ, U, n, n_bar, B, atom_IJ, num_neighbs, fourier, t, KPTS, N_k = do_stuff(atoms, a, Nkz)"
   ]
  },
  {
   "cell_type": "code",
   "execution_count": 10,
   "id": "d7bec8db-a827-434f-a467-2cd432f5acc2",
   "metadata": {},
   "outputs": [
    {
     "name": "stdout",
     "output_type": "stream",
     "text": [
      "Processing time = 59.4531.\t Real time = 7.6581\n",
      "Processing time = 58.1406.\t Real time = 7.4427\n",
      "Processing time = 65.4531.\t Real time = 8.4214\n",
      "Processing time = 65.9688.\t Real time = 8.5020\n",
      "Processing time = 63.6094.\t Real time = 8.1470\n"
     ]
    }
   ],
   "source": [
    "for rep in range(5):\n",
    "    \n",
    "    # Create placeholder arrays for the eigenvalues and eigenvectors\n",
    "    E_vals, E_vecs = np.zeros((N_k, 2*N_b)), np.zeros((N_k, 2*N_b, 2*N_b), dtype=np.complex128)\n",
    "\n",
    "    # prepare the Hamiltonian\n",
    "    H_prep = prep_N_hamiltonian(E_0, μ, U, n, n_bar, B, s_0, s_1, s_2, s_3)\n",
    "\n",
    "    start1 = time.process_time()\n",
    "    start2 = time.time()\n",
    "    for k in range(N_k):\n",
    "        # Get a deepcopy of H_prep so that we don't have to re-generate it\n",
    "        H_copied = np.copy(H_prep)\n",
    "        # Get a new H(k) for every k\n",
    "        H = get_N_hamiltonian(k, H_copied, atom_IJ, num_neighbs, fourier, t)\n",
    "\n",
    "        # Diagonalize H(k)\n",
    "        w, v = sp.linalg.eigh(H, driver=\"ev\")\n",
    "\n",
    "        # Store results\n",
    "        E_vals[k, :] = w\n",
    "        E_vecs[k, :, :] = v\n",
    "    end1 = time.process_time()\n",
    "    end2 = time.time()\n",
    "    \n",
    "    print(f\"Processing time = {end1-start1:.4f}.\\t Real time = {end2-start2:.4f}\")\n",
    "\n",
    "    # ---------------------------------------------------------\n",
    "    # We do not care about the rest stuff\n",
    "    # ---------------------------------------------------------"
   ]
  },
  {
   "cell_type": "code",
   "execution_count": null,
   "id": "dd0cac24-6f50-4bd1-8641-a57485ab0f18",
   "metadata": {},
   "outputs": [],
   "source": []
  },
  {
   "cell_type": "markdown",
   "id": "1c0c4d96-efff-4170-a9ab-232083d38698",
   "metadata": {},
   "source": [
    "## Case 5: Slab - Optimized"
   ]
  },
  {
   "cell_type": "code",
   "execution_count": 11,
   "id": "d26cce6c-0c9a-47ff-8b80-ad988dd12066",
   "metadata": {},
   "outputs": [
    {
     "name": "stdout",
     "output_type": "stream",
     "text": [
      "Processing time = 3.3594.\t Real time = 2.5927\n",
      "Processing time = 2.5312.\t Real time = 2.6041\n",
      "Processing time = 2.4375.\t Real time = 2.6218\n",
      "Processing time = 2.5469.\t Real time = 2.6724\n",
      "Processing time = 2.5312.\t Real time = 2.6497\n"
     ]
    }
   ],
   "source": [
    "for rep in range(5):\n",
    "    \n",
    "    # Create placeholder arrays for the eigenvalues and eigenvectors\n",
    "    E_vals, E_vecs = np.zeros((N_k, 2*N_b)), np.zeros((N_k, 2*N_b, 2*N_b), dtype=np.complex128)\n",
    "\n",
    "    # prepare the Hamiltonian\n",
    "    H_prep = prep_N_hamiltonian(E_0, μ, U, n, n_bar, B, s_0, s_1, s_2, s_3)\n",
    "\n",
    "    start1 = time.process_time()\n",
    "    start2 = time.time()\n",
    "    \n",
    "    partial_compute_for_k = functools.partial(k_loop, H_prep=H_prep, atom_IJ=atom_IJ, num_neighbs=num_neighbs, fourier=fourier, t=t, N_b=N_b)\n",
    "    results = Parallel(n_jobs=-1)(delayed(partial_compute_for_k)(k) for k in range(N_k))\n",
    "\n",
    "    for w, v, k in results:\n",
    "        E_vals[k, :] = w\n",
    "        E_vecs[k, :, :] = v\n",
    "    \n",
    "    end1 = time.process_time()\n",
    "    end2 = time.time()\n",
    "    print(f\"Processing time = {end1-start1:.4f}.\\t Real time = {end2-start2:.4f}\")\n",
    "\n",
    "    # ---------------------------------------------------------\n",
    "    # We do not care about the rest stuff\n",
    "    # ---------------------------------------------------------"
   ]
  },
  {
   "cell_type": "markdown",
   "id": "c60b846b-991a-46e1-a9a6-49735e4ab128",
   "metadata": {},
   "source": [
    "It is evident that in this case parallelization does wonders even without batching, as the processing time is reduced by more than 20 times, while the real time is also reduced by more than 2.5 times."
   ]
  },
  {
   "cell_type": "code",
   "execution_count": null,
   "id": "262512c8-bcb5-422b-a5bd-af947e6a8eb3",
   "metadata": {},
   "outputs": [],
   "source": []
  },
  {
   "cell_type": "markdown",
   "id": "c906a32c-cfe1-4ef9-9653-b25ee6899f7d",
   "metadata": {},
   "source": [
    "## Case 6: Slab - Batch Optimized"
   ]
  },
  {
   "cell_type": "code",
   "execution_count": 12,
   "id": "35dab9e8-a429-4c44-8d9d-367523fccdbf",
   "metadata": {},
   "outputs": [
    {
     "name": "stdout",
     "output_type": "stream",
     "text": [
      "Processing time = 1.0938.\t Real time = 10.4319\n",
      "Processing time = 1.0781.\t Real time = 9.6360\n",
      "Processing time = 1.0781.\t Real time = 9.6607\n",
      "Processing time = 1.0781.\t Real time = 9.6097\n",
      "Processing time = 1.0938.\t Real time = 9.6054\n"
     ]
    }
   ],
   "source": [
    "for rep in range(5):\n",
    "    \n",
    "    # Create placeholder arrays for the eigenvalues and eigenvectors\n",
    "    E_vals, E_vecs = np.zeros((N_k, 2*N_b)), np.zeros((N_k, 2*N_b, 2*N_b), dtype=np.complex128)\n",
    "\n",
    "    # prepare the Hamiltonian\n",
    "    H_prep = prep_N_hamiltonian(E_0, μ, U, n, n_bar, B, s_0, s_1, s_2, s_3)\n",
    "\n",
    "    start1 = time.process_time()\n",
    "    start2 = time.time()\n",
    "    \n",
    "    partial_compute_for_k = functools.partial(k_batch_loop, H_prep=H_prep, atom_IJ=atom_IJ, num_neighbs=num_neighbs, fourier=fourier, t=t, N_b=N_b)\n",
    "    results = Parallel(n_jobs=-1)(delayed(partial_compute_for_k)(k, min(k+batch_size, N_k)) for k in range(0, N_k, batch_size))\n",
    "\n",
    "    for batch_w, batch_v, start, end in results:\n",
    "        E_vals[start:end, :] = batch_w\n",
    "        E_vecs[start:end, :, :] = batch_v\n",
    "    \n",
    "    end1 = time.process_time()\n",
    "    end2 = time.time()\n",
    "    print(f\"Processing time = {end1-start1:.4f}.\\t Real time = {end2-start2:.4f}\")\n",
    "\n",
    "    # ---------------------------------------------------------\n",
    "    # We do not care about the rest stuff\n",
    "    # ---------------------------------------------------------\n"
   ]
  },
  {
   "cell_type": "markdown",
   "id": "fbe023cd-18d2-46e5-9e02-fa041709d119",
   "metadata": {},
   "source": [
    "It appears that now where the problem is not as trivial as this of the 2x2 matrix, batch parallelization induces overheard that leads to higher wall times even when compared to the non-parallelized case."
   ]
  },
  {
   "cell_type": "markdown",
   "id": "40b1e2c8-b959-4f3c-812b-0895d0f18041",
   "metadata": {},
   "source": [
    "Let's see what happens if we experiment with the batch size manually."
   ]
  },
  {
   "cell_type": "code",
   "execution_count": 13,
   "id": "561fe0f6-7eac-43b7-8c7d-7e8506df0939",
   "metadata": {},
   "outputs": [
    {
     "name": "stdout",
     "output_type": "stream",
     "text": [
      "Processing time = 1.5938.\t Real time = 1.9932\n",
      "Processing time = 1.5781.\t Real time = 2.7021\n",
      "Processing time = 1.6250.\t Real time = 1.9998\n",
      "Processing time = 1.6719.\t Real time = 2.0416\n",
      "Processing time = 1.6719.\t Real time = 2.1051\n"
     ]
    }
   ],
   "source": [
    "batch_size = 20\n",
    "\n",
    "for rep in range(5):\n",
    "    \n",
    "    # Create placeholder arrays for the eigenvalues and eigenvectors\n",
    "    E_vals, E_vecs = np.zeros((N_k, 2*N_b)), np.zeros((N_k, 2*N_b, 2*N_b), dtype=np.complex128)\n",
    "\n",
    "    # prepare the Hamiltonian\n",
    "    H_prep = prep_N_hamiltonian(E_0, μ, U, n, n_bar, B, s_0, s_1, s_2, s_3)\n",
    "\n",
    "    start1 = time.process_time()\n",
    "    start2 = time.time()\n",
    "    \n",
    "    partial_compute_for_k = functools.partial(k_batch_loop, H_prep=H_prep, atom_IJ=atom_IJ, num_neighbs=num_neighbs, fourier=fourier, t=t, N_b=N_b)\n",
    "    results = Parallel(n_jobs=-1)(delayed(partial_compute_for_k)(k, min(k+batch_size, N_k)) for k in range(0, N_k, batch_size))\n",
    "\n",
    "    for batch_w, batch_v, start, end in results:\n",
    "        E_vals[start:end, :] = batch_w\n",
    "        E_vecs[start:end, :, :] = batch_v\n",
    "    \n",
    "    end1 = time.process_time()\n",
    "    end2 = time.time()\n",
    "    print(f\"Processing time = {end1-start1:.4f}.\\t Real time = {end2-start2:.4f}\")\n",
    "\n",
    "    # ---------------------------------------------------------\n",
    "    # We do not care about the rest stuff\n",
    "    # ---------------------------------------------------------\n"
   ]
  },
  {
   "cell_type": "markdown",
   "id": "57070642-87b9-4125-8d31-3916498f6e9c",
   "metadata": {},
   "source": [
    "It becomes evident that choosing smaller batch sizes allows us to achieve better than non-batched/non-parallel times.\n",
    "\n",
    "Note that if we set the batch size equal to 1, we get a situation which is equivalent to this of the non-batched parallelization."
   ]
  },
  {
   "cell_type": "code",
   "execution_count": 14,
   "id": "b5bf31f3-9072-4514-bc48-5fb7a14c9759",
   "metadata": {},
   "outputs": [
    {
     "name": "stdout",
     "output_type": "stream",
     "text": [
      "Processing time = 2.4062.\t Real time = 2.4958\n",
      "Processing time = 2.6094.\t Real time = 2.5806\n",
      "Processing time = 2.3750.\t Real time = 2.6047\n",
      "Processing time = 2.5625.\t Real time = 2.5665\n",
      "Processing time = 2.3438.\t Real time = 2.5798\n"
     ]
    }
   ],
   "source": [
    "batch_size = 1\n",
    "\n",
    "for rep in range(5):\n",
    "    \n",
    "    # Create placeholder arrays for the eigenvalues and eigenvectors\n",
    "    E_vals, E_vecs = np.zeros((N_k, 2*N_b)), np.zeros((N_k, 2*N_b, 2*N_b), dtype=np.complex128)\n",
    "\n",
    "    # prepare the Hamiltonian\n",
    "    H_prep = prep_N_hamiltonian(E_0, μ, U, n, n_bar, B, s_0, s_1, s_2, s_3)\n",
    "\n",
    "    start1 = time.process_time()\n",
    "    start2 = time.time()\n",
    "    \n",
    "    partial_compute_for_k = functools.partial(k_batch_loop, H_prep=H_prep, atom_IJ=atom_IJ, num_neighbs=num_neighbs, fourier=fourier, t=t, N_b=N_b)\n",
    "    results = Parallel(n_jobs=-1)(delayed(partial_compute_for_k)(k, min(k+batch_size, N_k)) for k in range(0, N_k, batch_size))\n",
    "\n",
    "    for batch_w, batch_v, start, end in results:\n",
    "        E_vals[start:end, :] = batch_w\n",
    "        E_vecs[start:end, :, :] = batch_v\n",
    "    \n",
    "    end1 = time.process_time()\n",
    "    end2 = time.time()\n",
    "    print(f\"Processing time = {end1-start1:.4f}.\\t Real time = {end2-start2:.4f}\")\n",
    "\n",
    "    # ---------------------------------------------------------\n",
    "    # We do not care about the rest stuff\n",
    "    # ---------------------------------------------------------\n"
   ]
  },
  {
   "cell_type": "code",
   "execution_count": null,
   "id": "e21e6bb3-f682-492b-8ffd-6401670abd5a",
   "metadata": {},
   "outputs": [],
   "source": []
  },
  {
   "cell_type": "markdown",
   "id": "e138134d-8cb4-48d8-b4c2-44be7883b53b",
   "metadata": {},
   "source": [
    "## Alternative Approach"
   ]
  },
  {
   "cell_type": "markdown",
   "id": "f51271b8-d7dc-42ed-a564-7f032df4878d",
   "metadata": {},
   "source": [
    "In what follows, we will perform the exact same processes, only this time constructing the Hamiltonian matrix in a different way, i.e. it is constructed for all $k$ points and then each $k$-slice is diagonalized."
   ]
  },
  {
   "cell_type": "code",
   "execution_count": 15,
   "id": "b932a2f5-4528-44a4-bed2-7d16ed7b5a56",
   "metadata": {},
   "outputs": [],
   "source": [
    "from tsc.hamiltonian import prep_N_hamiltonian_vectorized, get_N_hamiltonian_vectorized"
   ]
  },
  {
   "cell_type": "markdown",
   "id": "fc84512c-1b34-4c36-953f-dea9736078eb",
   "metadata": {},
   "source": [
    "### Case 1 Revisited"
   ]
  },
  {
   "cell_type": "code",
   "execution_count": 16,
   "id": "77896c8a-7c2e-4a41-a904-9a0392002a3d",
   "metadata": {},
   "outputs": [],
   "source": [
    "atoms = single_atom()\n",
    "\n",
    "a = np.array([0.0,0.0,1.0])\n",
    "Nkz = 40\n",
    "\n",
    "N_b, E_0, μ, U, n, n_bar, B, atom_IJ, num_neighbs, fourier, t, KPTS, N_k = do_stuff(atoms, a, Nkz)"
   ]
  },
  {
   "cell_type": "code",
   "execution_count": 17,
   "id": "0f8a61dc-0e2a-4686-9d01-6746f9b880d6",
   "metadata": {},
   "outputs": [
    {
     "name": "stdout",
     "output_type": "stream",
     "text": [
      "Processing time = 1.4062.\t Real time = 1.4027\n",
      "Processing time = 1.3906.\t Real time = 1.3884\n",
      "Processing time = 1.4062.\t Real time = 1.4104\n",
      "Processing time = 1.3906.\t Real time = 1.3952\n",
      "Processing time = 1.5156.\t Real time = 1.5124\n"
     ]
    }
   ],
   "source": [
    "for rep in range(5):\n",
    "    \n",
    "    # Create placeholder arrays for the eigenvalues and eigenvectors\n",
    "    E_vals, E_vecs = np.zeros((N_k, 2*N_b)), np.zeros((N_k, 2*N_b, 2*N_b), dtype=np.complex128)\n",
    "\n",
    "    # Get the full-k prepared Hamiltonian\n",
    "    H = prep_N_hamiltonian_vectorized(E_0, μ, U, n, n_bar, B, s_0, s_1, s_2, s_3, N_k)\n",
    "\n",
    "    start1 = time.process_time()\n",
    "    start2 = time.time()\n",
    "\n",
    "    # Get the full-k actual Hamiltonian\n",
    "    H = get_N_hamiltonian_vectorized(H, atom_IJ, num_neighbs, fourier, t)\n",
    "    \n",
    "    for k in range(N_k):\n",
    "        # Diagonalize H(k)\n",
    "        w, v = sp.linalg.eigh(H[k,:,:], driver=\"ev\")\n",
    "\n",
    "        # Store results\n",
    "        E_vals[k, :] = w\n",
    "        E_vecs[k, :, :] = v\n",
    "    end1 = time.process_time()\n",
    "    end2 = time.time()\n",
    "    \n",
    "    print(f\"Processing time = {end1-start1:.4f}.\\t Real time = {end2-start2:.4f}\")\n",
    "\n",
    "    # ---------------------------------------------------------\n",
    "    # We do not care about the rest stuff\n",
    "    # ---------------------------------------------------------"
   ]
  },
  {
   "cell_type": "code",
   "execution_count": null,
   "id": "8e9ccb4f-e582-4600-9369-21d1c8583fa3",
   "metadata": {},
   "outputs": [],
   "source": []
  },
  {
   "cell_type": "markdown",
   "id": "83e3e59f-b6e5-4fbb-99a4-929d4c1667cc",
   "metadata": {},
   "source": [
    "### Case 2 Revisited"
   ]
  },
  {
   "cell_type": "code",
   "execution_count": 18,
   "id": "506b53a4-329f-4813-875c-2a1dde907152",
   "metadata": {},
   "outputs": [],
   "source": [
    "def k_loop_2(k, H):\n",
    "    w, v = sp.linalg.eigh(H[k,:,:], driver=\"ev\")\n",
    "    return w, v, k"
   ]
  },
  {
   "cell_type": "code",
   "execution_count": 19,
   "id": "387b26c3-6802-490d-81ed-fd6659ee2f86",
   "metadata": {},
   "outputs": [
    {
     "name": "stdout",
     "output_type": "stream",
     "text": [
      "Processing time = 1.8125.\t Real time = 1.9269\n",
      "Processing time = 1.6562.\t Real time = 1.8337\n",
      "Processing time = 1.7500.\t Real time = 1.8316\n",
      "Processing time = 1.6875.\t Real time = 1.8651\n",
      "Processing time = 1.6719.\t Real time = 1.8061\n"
     ]
    }
   ],
   "source": [
    "for rep in range(5):\n",
    "    \n",
    "    # Create placeholder arrays for the eigenvalues and eigenvectors\n",
    "    E_vals, E_vecs = np.zeros((N_k, 2*N_b)), np.zeros((N_k, 2*N_b, 2*N_b), dtype=np.complex128)\n",
    "\n",
    "    # Get the full-k prepared Hamiltonian\n",
    "    H = prep_N_hamiltonian_vectorized(E_0, μ, U, n, n_bar, B, s_0, s_1, s_2, s_3, N_k)\n",
    "\n",
    "    start1 = time.process_time()\n",
    "    start2 = time.time()\n",
    "\n",
    "    # Get the full-k actual Hamiltonian\n",
    "    H = get_N_hamiltonian_vectorized(H, atom_IJ, num_neighbs, fourier, t)\n",
    "    \n",
    "    partial_compute_for_k = functools.partial(k_loop_2, H=H)\n",
    "    results = Parallel(n_jobs=-1)(delayed(partial_compute_for_k)(k) for k in range(N_k))\n",
    "\n",
    "    for w, v, k in results:\n",
    "        E_vals[k, :] = w\n",
    "        E_vecs[k, :, :] = v\n",
    "    \n",
    "    end1 = time.process_time()\n",
    "    end2 = time.time()\n",
    "    print(f\"Processing time = {end1-start1:.4f}.\\t Real time = {end2-start2:.4f}\")\n",
    "\n",
    "    # ---------------------------------------------------------\n",
    "    # We do not care about the rest stuff\n",
    "    # ---------------------------------------------------------"
   ]
  },
  {
   "cell_type": "code",
   "execution_count": null,
   "id": "68e3f143-3a2a-49ce-ba47-4c0d3928e506",
   "metadata": {},
   "outputs": [],
   "source": []
  },
  {
   "cell_type": "markdown",
   "id": "2ea7ec31-961b-4b91-9fec-a3244809ee36",
   "metadata": {},
   "source": [
    "### Case 3 Revisited"
   ]
  },
  {
   "cell_type": "code",
   "execution_count": 20,
   "id": "b5c6bf0c-b7d1-417d-b9e3-e5b2aad74384",
   "metadata": {},
   "outputs": [],
   "source": [
    "def k_batch_loop_2(start, end, H):\n",
    "    batch_w = np.zeros((end - start, H.shape[1]))\n",
    "    batch_v = np.zeros((end - start, H.shape[1], H.shape[2]), dtype=np.complex128)\n",
    "    for i, k in enumerate(range(start, end)):\n",
    "        w, v = sp.linalg.eigh(H[k,:,:], driver=\"ev\")\n",
    "        batch_w[i, :] = w\n",
    "        batch_v[i, :, :] = v\n",
    "    return batch_w, batch_v, start, end"
   ]
  },
  {
   "cell_type": "code",
   "execution_count": 21,
   "id": "bc5e4c2f-a081-4677-a488-9006297e3539",
   "metadata": {},
   "outputs": [
    {
     "name": "stdout",
     "output_type": "stream",
     "text": [
      "Processing time = 0.1094.\t Real time = 0.4598\n",
      "Processing time = 0.0625.\t Real time = 0.4621\n",
      "Processing time = 0.0781.\t Real time = 0.4666\n",
      "Processing time = 0.0781.\t Real time = 0.4545\n",
      "Processing time = 0.0938.\t Real time = 0.5299\n"
     ]
    }
   ],
   "source": [
    "batch_size = N_k // n_cores\n",
    "\n",
    "for rep in range(5):\n",
    "    \n",
    "    # Create placeholder arrays for the eigenvalues and eigenvectors\n",
    "    E_vals, E_vecs = np.zeros((N_k, 2*N_b)), np.zeros((N_k, 2*N_b, 2*N_b), dtype=np.complex128)\n",
    "\n",
    "    # Get the full-k prepared Hamiltonian\n",
    "    H = prep_N_hamiltonian_vectorized(E_0, μ, U, n, n_bar, B, s_0, s_1, s_2, s_3, N_k)\n",
    "\n",
    "    start1 = time.process_time()\n",
    "    start2 = time.time()\n",
    "\n",
    "    # Get the full-k actual Hamiltonian\n",
    "    H = get_N_hamiltonian_vectorized(H, atom_IJ, num_neighbs, fourier, t)\n",
    "    \n",
    "    # Run the jobs in parallel and gather all results in a results list\n",
    "    results = Parallel(n_jobs=-1)(delayed(functools.partial(k_batch_loop_2, H=H))(k, min(k+batch_size, N_k)) for k in range(0, N_k, batch_size))\n",
    "    \n",
    "    for batch_w, batch_v, start, end in results:\n",
    "        E_vals[start:end, :] = batch_w\n",
    "        E_vecs[start:end, :, :] = batch_v\n",
    "    \n",
    "    end1 = time.process_time()\n",
    "    end2 = time.time()\n",
    "    print(f\"Processing time = {end1-start1:.4f}.\\t Real time = {end2-start2:.4f}\")\n",
    "\n",
    "    # ---------------------------------------------------------\n",
    "    # We do not care about the rest stuff\n",
    "    # ---------------------------------------------------------\n"
   ]
  },
  {
   "cell_type": "code",
   "execution_count": null,
   "id": "591c3e3c-2b16-4689-b1d3-87e1b03e683d",
   "metadata": {},
   "outputs": [],
   "source": []
  },
  {
   "cell_type": "markdown",
   "id": "03a11f8d-9c85-424e-b09e-a8fb220d36e8",
   "metadata": {},
   "source": [
    "### Case 4 Revisited"
   ]
  },
  {
   "cell_type": "code",
   "execution_count": 22,
   "id": "b212c25c-d3f7-489e-b78b-7d69aedf8365",
   "metadata": {},
   "outputs": [],
   "source": [
    "atoms = slab(slab_length=100)\n",
    "\n",
    "a = np.array([0.0,0.0,200.0])\n",
    "Nkz = 1\n",
    "\n",
    "N_b, E_0, μ, U, n, n_bar, B, atom_IJ, num_neighbs, fourier, t, KPTS, N_k = do_stuff(atoms, a, Nkz)"
   ]
  },
  {
   "cell_type": "code",
   "execution_count": 23,
   "id": "91049b6f-ee71-46e8-9b18-d7f38ffda5d7",
   "metadata": {},
   "outputs": [
    {
     "name": "stdout",
     "output_type": "stream",
     "text": [
      "Processing time = 56.0625.\t Real time = 7.2817\n",
      "Processing time = 55.6875.\t Real time = 7.2271\n",
      "Processing time = 59.1719.\t Real time = 7.7047\n",
      "Processing time = 58.5625.\t Real time = 7.6334\n",
      "Processing time = 57.2344.\t Real time = 7.4497\n"
     ]
    }
   ],
   "source": [
    "for rep in range(5):\n",
    "    \n",
    "    # Create placeholder arrays for the eigenvalues and eigenvectors\n",
    "    E_vals, E_vecs = np.zeros((N_k, 2*N_b)), np.zeros((N_k, 2*N_b, 2*N_b), dtype=np.complex128)\n",
    "\n",
    "    # Get the full-k prepared Hamiltonian\n",
    "    H = prep_N_hamiltonian_vectorized(E_0, μ, U, n, n_bar, B, s_0, s_1, s_2, s_3, N_k)\n",
    "\n",
    "    start1 = time.process_time()\n",
    "    start2 = time.time()\n",
    "\n",
    "    # Get the full-k actual Hamiltonian\n",
    "    H = get_N_hamiltonian_vectorized(H, atom_IJ, num_neighbs, fourier, t)\n",
    "    \n",
    "    for k in range(N_k):\n",
    "        # Diagonalize H(k)\n",
    "        w, v = sp.linalg.eigh(H[k,:,:], driver=\"ev\")\n",
    "\n",
    "        # Store results\n",
    "        E_vals[k, :] = w\n",
    "        E_vecs[k, :, :] = v\n",
    "    end1 = time.process_time()\n",
    "    end2 = time.time()\n",
    "    \n",
    "    print(f\"Processing time = {end1-start1:.4f}.\\t Real time = {end2-start2:.4f}\")\n",
    "\n",
    "    # ---------------------------------------------------------\n",
    "    # We do not care about the rest stuff\n",
    "    # ---------------------------------------------------------"
   ]
  },
  {
   "cell_type": "code",
   "execution_count": null,
   "id": "7dfadeca-5b0a-4fe8-b80e-c54acc8c9ed7",
   "metadata": {},
   "outputs": [],
   "source": []
  },
  {
   "cell_type": "markdown",
   "id": "19a6192f-6bfc-4a8a-9221-4b19d8534936",
   "metadata": {},
   "source": [
    "### Case 5 Revisited"
   ]
  },
  {
   "cell_type": "code",
   "execution_count": 24,
   "id": "0fbbfa61-090f-41ae-a71b-e1debc0cc14a",
   "metadata": {},
   "outputs": [
    {
     "name": "stdout",
     "output_type": "stream",
     "text": [
      "Processing time = 2.6406.\t Real time = 2.8899\n",
      "Processing time = 2.9062.\t Real time = 3.0370\n",
      "Processing time = 2.8438.\t Real time = 2.9906\n",
      "Processing time = 2.8281.\t Real time = 3.0223\n",
      "Processing time = 2.8750.\t Real time = 3.3856\n"
     ]
    }
   ],
   "source": [
    "for rep in range(5):\n",
    "    \n",
    "    # Create placeholder arrays for the eigenvalues and eigenvectors\n",
    "    E_vals, E_vecs = np.zeros((N_k, 2*N_b)), np.zeros((N_k, 2*N_b, 2*N_b), dtype=np.complex128)\n",
    "\n",
    "    # Get the full-k prepared Hamiltonian\n",
    "    H = prep_N_hamiltonian_vectorized(E_0, μ, U, n, n_bar, B, s_0, s_1, s_2, s_3, N_k)\n",
    "\n",
    "    start1 = time.process_time()\n",
    "    start2 = time.time()\n",
    "\n",
    "    # Get the full-k actual Hamiltonian\n",
    "    H = get_N_hamiltonian_vectorized(H, atom_IJ, num_neighbs, fourier, t)\n",
    "    \n",
    "    partial_compute_for_k = functools.partial(k_loop_2, H=H)\n",
    "    results = Parallel(n_jobs=-1)(delayed(partial_compute_for_k)(k) for k in range(N_k))\n",
    "\n",
    "    for w, v, k in results:\n",
    "        E_vals[k, :] = w\n",
    "        E_vecs[k, :, :] = v\n",
    "    \n",
    "    end1 = time.process_time()\n",
    "    end2 = time.time()\n",
    "    print(f\"Processing time = {end1-start1:.4f}.\\t Real time = {end2-start2:.4f}\")\n",
    "\n",
    "    # ---------------------------------------------------------\n",
    "    # We do not care about the rest stuff\n",
    "    # ---------------------------------------------------------"
   ]
  },
  {
   "cell_type": "code",
   "execution_count": null,
   "id": "d1f39b70-bc39-44e3-91f1-54ef841f5ed8",
   "metadata": {},
   "outputs": [],
   "source": []
  },
  {
   "cell_type": "markdown",
   "id": "62552932-d9cf-4235-a32f-718c900f93eb",
   "metadata": {},
   "source": [
    "### Case 6 Revisited"
   ]
  },
  {
   "cell_type": "code",
   "execution_count": 25,
   "id": "7bd7766f-e41a-488c-be07-b1ec7de56a1f",
   "metadata": {},
   "outputs": [
    {
     "name": "stdout",
     "output_type": "stream",
     "text": [
      "Processing time = 1.7031.\t Real time = 3.0864\n",
      "Processing time = 1.6562.\t Real time = 3.0784\n",
      "Processing time = 1.7656.\t Real time = 3.2413\n",
      "Processing time = 1.6094.\t Real time = 2.9889\n",
      "Processing time = 1.7031.\t Real time = 3.1486\n"
     ]
    }
   ],
   "source": [
    "batch_size = N_k // n_cores\n",
    "\n",
    "for rep in range(5):\n",
    "    \n",
    "    # Create placeholder arrays for the eigenvalues and eigenvectors\n",
    "    E_vals, E_vecs = np.zeros((N_k, 2*N_b)), np.zeros((N_k, 2*N_b, 2*N_b), dtype=np.complex128)\n",
    "\n",
    "    # Get the full-k prepared Hamiltonian\n",
    "    H = prep_N_hamiltonian_vectorized(E_0, μ, U, n, n_bar, B, s_0, s_1, s_2, s_3, N_k)\n",
    "\n",
    "    start1 = time.process_time()\n",
    "    start2 = time.time()\n",
    "\n",
    "    # Get the full-k actual Hamiltonian\n",
    "    H = get_N_hamiltonian_vectorized(H, atom_IJ, num_neighbs, fourier, t)\n",
    "    \n",
    "    # Run the jobs in parallel and gather all results in a results list\n",
    "    results = Parallel(n_jobs=-1)(delayed(functools.partial(k_batch_loop_2, H=H))(k, min(k+batch_size, N_k)) for k in range(0, N_k, batch_size))\n",
    "    \n",
    "    for batch_w, batch_v, start, end in results:\n",
    "        E_vals[start:end, :] = batch_w\n",
    "        E_vecs[start:end, :, :] = batch_v\n",
    "    \n",
    "    end1 = time.process_time()\n",
    "    end2 = time.time()\n",
    "    print(f\"Processing time = {end1-start1:.4f}.\\t Real time = {end2-start2:.4f}\")\n",
    "\n",
    "    # ---------------------------------------------------------\n",
    "    # We do not care about the rest stuff\n",
    "    # ---------------------------------------------------------\n"
   ]
  },
  {
   "cell_type": "markdown",
   "id": "cbbad24c-9641-4e42-9c28-71d48659130e",
   "metadata": {},
   "source": [
    "And also trying for another batch size:"
   ]
  },
  {
   "cell_type": "code",
   "execution_count": 26,
   "id": "6beec6b5-266f-49de-a5a4-34e4cfe240c1",
   "metadata": {},
   "outputs": [
    {
     "name": "stdout",
     "output_type": "stream",
     "text": [
      "Processing time = 2.0938.\t Real time = 2.6775\n",
      "Processing time = 2.1406.\t Real time = 2.7522\n",
      "Processing time = 2.1406.\t Real time = 2.6077\n",
      "Processing time = 2.1719.\t Real time = 2.5490\n",
      "Processing time = 2.2188.\t Real time = 2.5122\n"
     ]
    }
   ],
   "source": [
    "batch_size = 20\n",
    "\n",
    "for rep in range(5):\n",
    "    \n",
    "    # Create placeholder arrays for the eigenvalues and eigenvectors\n",
    "    E_vals, E_vecs = np.zeros((N_k, 2*N_b)), np.zeros((N_k, 2*N_b, 2*N_b), dtype=np.complex128)\n",
    "\n",
    "    # Get the full-k prepared Hamiltonian\n",
    "    H = prep_N_hamiltonian_vectorized(E_0, μ, U, n, n_bar, B, s_0, s_1, s_2, s_3, N_k)\n",
    "\n",
    "    start1 = time.process_time()\n",
    "    start2 = time.time()\n",
    "\n",
    "    # Get the full-k actual Hamiltonian\n",
    "    H = get_N_hamiltonian_vectorized(H, atom_IJ, num_neighbs, fourier, t)\n",
    "    \n",
    "    # Run the jobs in parallel and gather all results in a results list\n",
    "    results = Parallel(n_jobs=-1)(delayed(functools.partial(k_batch_loop_2, H=H))(k, min(k+batch_size, N_k)) for k in range(0, N_k, batch_size))\n",
    "    \n",
    "    for batch_w, batch_v, start, end in results:\n",
    "        E_vals[start:end, :] = batch_w\n",
    "        E_vecs[start:end, :, :] = batch_v\n",
    "    \n",
    "    end1 = time.process_time()\n",
    "    end2 = time.time()\n",
    "    print(f\"Processing time = {end1-start1:.4f}.\\t Real time = {end2-start2:.4f}\")\n",
    "\n",
    "    # ---------------------------------------------------------\n",
    "    # We do not care about the rest stuff\n",
    "    # ---------------------------------------------------------\n"
   ]
  },
  {
   "cell_type": "code",
   "execution_count": null,
   "id": "4f67441a-cc67-4e2a-819d-26a56236074e",
   "metadata": {},
   "outputs": [],
   "source": []
  }
 ],
 "metadata": {
  "kernelspec": {
   "display_name": "Python 3 (ipykernel)",
   "language": "python",
   "name": "python3"
  },
  "language_info": {
   "codemirror_mode": {
    "name": "ipython",
    "version": 3
   },
   "file_extension": ".py",
   "mimetype": "text/x-python",
   "name": "python",
   "nbconvert_exporter": "python",
   "pygments_lexer": "ipython3",
   "version": "3.10.13"
  }
 },
 "nbformat": 4,
 "nbformat_minor": 5
}
