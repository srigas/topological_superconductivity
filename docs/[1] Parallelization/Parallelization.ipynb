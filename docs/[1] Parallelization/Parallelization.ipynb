{
 "cells": [
  {
   "cell_type": "markdown",
   "id": "2ca7543a-94fc-4c66-95c6-5905cf48a167",
   "metadata": {},
   "source": [
    "# Parallelization"
   ]
  },
  {
   "cell_type": "markdown",
   "id": "a5cea2da-3d89-4c64-ac01-35db8f2e311a",
   "metadata": {},
   "source": [
    "This is a notebook that showcases the effects of parallelization when performing the self-consistency cycle. For brevity, we will define the pre-processing steps as a single function and re-call it with different atom configurations whenever necessary. For the config we choose 40x40x40 $k$-points for the single atom and 40x40 $k$-points for the slab. In all cases, we will do 5 reps without caring for convergence. We will count two types of times: [1] CPU time (i.e. processing time) and [2] Real time (i.e. wall time). At the end of the day, what we care about is wall time, however processing time is also valuable to understand the effects of parallelization."
   ]
  },
  {
   "cell_type": "code",
   "execution_count": 1,
   "id": "d33bf79c-1089-4b1e-9efc-7cb7f93fdbc3",
   "metadata": {},
   "outputs": [],
   "source": [
    "import numpy as np\n",
    "import scipy as sp\n",
    "\n",
    "import copy\n",
    "\n",
    "# To have access to tsc module\n",
    "import sys\n",
    "import os\n",
    "\n",
    "# Get the parent directory of the current working directory\n",
    "gparent_dir = os.path.dirname(os.path.dirname(os.getcwd()))\n",
    "# Append the parent directory to the PYTHONPATH\n",
    "sys.path.append(gparent_dir)\n",
    "\n",
    "# ---------------------------------------------------------------------------------\n",
    "\n",
    "import config\n",
    "\n",
    "from tsc.utilities import get_RPTS, get_nndists, get_connections, fermi, get_KPTS\n",
    "from tsc.basis_atoms import single_atom, extract_atom_vectors, slab\n",
    "from tsc.hamiltonian import hopping_consts, hopping_elements, get_exponentials\n",
    "from tsc.hamiltonian import prep_N_hamiltonian, get_N_hamiltonian, prep_SC_hamiltonian, get_SC_hamiltonian\n",
    "\n",
    "import time\n",
    "\n",
    "# Get config variables\n",
    "globals().update({k: v for k, v in vars(config.Config).items() if not k.startswith(\"__\")})"
   ]
  },
  {
   "cell_type": "code",
   "execution_count": 2,
   "id": "39e6da70-381e-4970-91c7-d9970577d34d",
   "metadata": {},
   "outputs": [],
   "source": [
    "def do_stuff(atoms, a, Nkz):\n",
    "    \n",
    "    # Construct the lattice sites matrix\n",
    "    RPTS = get_RPTS(a_1, a_2, a, NCELLS)\n",
    "\n",
    "    N_k = Nkz*N_x*N_y\n",
    "\n",
    "    # Extract the vectors from the called function\n",
    "    TPTS, atom_types, E_0, U, n_bar, B, Λ = extract_atom_vectors(atoms)\n",
    "    \n",
    "    # Write down the number of basis atoms\n",
    "    N_b: int = TPTS.shape[0]\n",
    "    \n",
    "    num_neighbs = get_nndists(RPTS, TPTS, R_max)\n",
    "    \n",
    "    # Get the maximum number of neighbours\n",
    "    max_neighb = num_neighbs.max()\n",
    "    \n",
    "    # Get the atom_IJ and Rvec_ij matrices\n",
    "    atom_IJ, Rvec_ij = get_connections(max_neighb, RPTS, TPTS, R_max)\n",
    "    \n",
    "    # Get the number of different atom types based on the basis_atoms configuration\n",
    "    # Also re-encode the atom_types as 0, 1, 2, etc.\n",
    "    unique_atoms, atom_types = np.unique(atom_types, return_inverse=True)\n",
    "    N_unique: int = unique_atoms.shape[0]\n",
    "    \n",
    "    # Construct a completely symmetrical case\n",
    "    hop_mat = np.ones((N_unique, N_unique))\n",
    "    \n",
    "    # Get the hopping terms\n",
    "    t_0 = hopping_consts(hop_mat, atom_types, TPTS, RPTS, R_0)\n",
    "    \n",
    "    # Get the hopping elements\n",
    "    t = hopping_elements(atom_IJ, num_neighbs, Rvec_ij, atom_types, t_0, R_0)\n",
    "\n",
    "    # Get a k-mesh with resolution that depends on N_x, N_y, N_z\n",
    "    KPTS = get_KPTS(a_1, a_2, a, N_x, N_y, Nkz)\n",
    "\n",
    "    # Get the exponentials\n",
    "    fourier = get_exponentials(Rvec_ij, KPTS)\n",
    "\n",
    "    μ = μ_0\n",
    "    n = np.ones((N_b))*n_0\n",
    "\n",
    "    return N_b, E_0, μ, U, n, n_bar, B, atom_IJ, num_neighbs, fourier, t, KPTS, N_k"
   ]
  },
  {
   "cell_type": "markdown",
   "id": "0792fad6-4332-4122-8366-fc0e2968a517",
   "metadata": {},
   "source": [
    "## Case 1: Single Atom - No Optimization"
   ]
  },
  {
   "cell_type": "code",
   "execution_count": 3,
   "id": "f389c109-58e3-4dab-a3c7-fefaaab47660",
   "metadata": {},
   "outputs": [],
   "source": [
    "atoms = single_atom()\n",
    "\n",
    "a = np.array([0.0,0.0,1.0])\n",
    "Nkz = 40\n",
    "\n",
    "N_b, E_0, μ, U, n, n_bar, B, atom_IJ, num_neighbs, fourier, t, KPTS, N_k = do_stuff(atoms, a, Nkz)"
   ]
  },
  {
   "cell_type": "code",
   "execution_count": 4,
   "id": "98894803-a45f-4718-b051-d613d3e0cf20",
   "metadata": {},
   "outputs": [
    {
     "name": "stdout",
     "output_type": "stream",
     "text": [
      "Processing time = 1.9375.\t Real time = 1.9663\n",
      "Processing time = 1.8281.\t Real time = 1.8150\n",
      "Processing time = 1.8125.\t Real time = 1.8150\n",
      "Processing time = 1.8281.\t Real time = 1.8230\n",
      "Processing time = 1.8125.\t Real time = 1.8161\n"
     ]
    }
   ],
   "source": [
    "for rep in range(5):\n",
    "    \n",
    "    # Create placeholder arrays for the eigenvalues and eigenvectors\n",
    "    E_vals, E_vecs = np.zeros((2*N_b*N_k)), np.zeros((2*N_b, 2*N_b*N_k), dtype=np.complex128)\n",
    "\n",
    "    # prepare the Hamiltonian\n",
    "    H_prep = prep_N_hamiltonian(E_0, μ, U, n, n_bar, B, s_0, s_1, s_2, s_3)\n",
    "\n",
    "    start1 = time.process_time()\n",
    "    start2 = time.time()\n",
    "    for k in range(N_k):\n",
    "        # Get a deepcopy of H_prep so that we don't have to re-generate it\n",
    "        H_copied = copy.deepcopy(H_prep)\n",
    "        # Get a new H(k) for every k\n",
    "        H = get_N_hamiltonian(k, H_copied, atom_IJ, num_neighbs, fourier, t)\n",
    "\n",
    "        # Diagonalize H(k)\n",
    "        w, v = sp.linalg.eigh(H, driver=\"ev\")\n",
    "\n",
    "        # Store results\n",
    "        ini: int = k*2*N_b\n",
    "        fin: int = (k+1)*2*N_b\n",
    "        E_vals[ini:fin] = w\n",
    "        E_vecs[:, ini:fin] = v\n",
    "    end1 = time.process_time()\n",
    "    end2 = time.time()\n",
    "    \n",
    "    print(f\"Processing time = {end1-start1:.4f}.\\t Real time = {end2-start2:.4f}\")\n",
    "\n",
    "    # ---------------------------------------------------------\n",
    "    # We do not care about the rest stuff\n",
    "    # ---------------------------------------------------------"
   ]
  },
  {
   "cell_type": "markdown",
   "id": "1e358e4e-8378-4b5b-987f-3152e9331dbb",
   "metadata": {},
   "source": [
    "## Case 2: Single Atom - Optimized"
   ]
  },
  {
   "cell_type": "code",
   "execution_count": 5,
   "id": "086c011c-eecd-4328-9c8d-a5dea56f7f47",
   "metadata": {},
   "outputs": [],
   "source": [
    "from joblib import Parallel, delayed\n",
    "import functools\n",
    "\n",
    "def k_loop(k, H_prep, atom_IJ, num_neighbs, fourier, t, N_b):\n",
    "    H_copied = copy.deepcopy(H_prep)\n",
    "    H = get_N_hamiltonian(k, H_copied, atom_IJ, num_neighbs, fourier, t)\n",
    "    w, v = sp.linalg.eigh(H, driver=\"ev\")\n",
    "    ini = k * 2 * N_b\n",
    "    fin = (k + 1) * 2 * N_b\n",
    "    return w, v, ini, fin"
   ]
  },
  {
   "cell_type": "code",
   "execution_count": 6,
   "id": "613cfc44-e961-4591-9b74-7e213587a46f",
   "metadata": {},
   "outputs": [
    {
     "name": "stdout",
     "output_type": "stream",
     "text": [
      "Processing time = 2.0469.\t Real time = 3.5760\n",
      "Processing time = 1.7500.\t Real time = 1.9217\n",
      "Processing time = 1.7656.\t Real time = 1.8720\n",
      "Processing time = 1.7500.\t Real time = 1.8500\n",
      "Processing time = 1.7031.\t Real time = 1.7838\n"
     ]
    }
   ],
   "source": [
    "for rep in range(5):\n",
    "    \n",
    "    # Create placeholder arrays for the eigenvalues and eigenvectors\n",
    "    E_vals, E_vecs = np.zeros((2*N_b*N_k)), np.zeros((2*N_b, 2*N_b*N_k), dtype=np.complex128)\n",
    "\n",
    "    # prepare the Hamiltonian\n",
    "    H_prep = prep_N_hamiltonian(E_0, μ, U, n, n_bar, B, s_0, s_1, s_2, s_3)\n",
    "\n",
    "    start1 = time.process_time()\n",
    "    start2 = time.time()\n",
    "    \n",
    "    partial_compute_for_k = functools.partial(k_loop, H_prep=H_prep, atom_IJ=atom_IJ, num_neighbs=num_neighbs, fourier=fourier, t=t, N_b=N_b)\n",
    "    results = Parallel(n_jobs=-1)(delayed(partial_compute_for_k)(k) for k in range(N_k))\n",
    "\n",
    "    for w, v, ini, fin in results:\n",
    "        E_vals[ini:fin] = w\n",
    "        E_vecs[:, ini:fin] = v\n",
    "    \n",
    "    end1 = time.process_time()\n",
    "    end2 = time.time()\n",
    "    print(f\"Processing time = {end1-start1:.4f}.\\t Real time = {end2-start2:.4f}\")\n",
    "\n",
    "    # ---------------------------------------------------------\n",
    "    # We do not care about the rest stuff\n",
    "    # ---------------------------------------------------------"
   ]
  },
  {
   "cell_type": "markdown",
   "id": "3552c619-466f-4b87-b7ca-004e05ab3261",
   "metadata": {},
   "source": [
    "While the processing time is slightly better than in the non-optimized case, it appears that all times are pretty much comparable. The reason for this is that the parallelized task is the diagonalization of a 2x2 matrix, which is somewhat trivial. Let's see what happens when we move on to another type of problem, i.e. the slab, where the matrix to be diagonalized is higher dimensional (e.g. 200x200)."
   ]
  },
  {
   "cell_type": "markdown",
   "id": "4ad5e1d4-896e-4a28-a5c2-c699bde062e0",
   "metadata": {},
   "source": [
    "## Case 3: Slab - No Optimization"
   ]
  },
  {
   "cell_type": "code",
   "execution_count": 7,
   "id": "4a997c8d-5813-488b-88c8-177ed563e6fe",
   "metadata": {},
   "outputs": [],
   "source": [
    "atoms = slab(slab_length=100)\n",
    "\n",
    "a = np.array([0.0,0.0,200.0])\n",
    "Nkz = 1\n",
    "\n",
    "N_b, E_0, μ, U, n, n_bar, B, atom_IJ, num_neighbs, fourier, t, KPTS, N_k = do_stuff(atoms, a, Nkz)"
   ]
  },
  {
   "cell_type": "code",
   "execution_count": 8,
   "id": "d7bec8db-a827-434f-a467-2cd432f5acc2",
   "metadata": {},
   "outputs": [
    {
     "name": "stdout",
     "output_type": "stream",
     "text": [
      "Processing time = 49.9688.\t Real time = 6.2560\n",
      "Processing time = 50.5469.\t Real time = 6.3250\n",
      "Processing time = 50.8281.\t Real time = 6.3628\n",
      "Processing time = 49.4844.\t Real time = 6.2045\n",
      "Processing time = 49.4688.\t Real time = 6.1895\n"
     ]
    }
   ],
   "source": [
    "for rep in range(5):\n",
    "    \n",
    "    # Create placeholder arrays for the eigenvalues and eigenvectors\n",
    "    E_vals, E_vecs = np.zeros((2*N_b*N_k)), np.zeros((2*N_b, 2*N_b*N_k), dtype=np.complex128)\n",
    "\n",
    "    # prepare the Hamiltonian\n",
    "    H_prep = prep_N_hamiltonian(E_0, μ, U, n, n_bar, B, s_0, s_1, s_2, s_3)\n",
    "\n",
    "    start1 = time.process_time()\n",
    "    start2 = time.time()\n",
    "    for k in range(N_k):\n",
    "        # Get a deepcopy of H_prep so that we don't have to re-generate it\n",
    "        H_copied = copy.deepcopy(H_prep)\n",
    "        # Get a new H(k) for every k\n",
    "        H = get_N_hamiltonian(k, H_copied, atom_IJ, num_neighbs, fourier, t)\n",
    "\n",
    "        # Diagonalize H(k)\n",
    "        w, v = sp.linalg.eigh(H, driver=\"ev\")\n",
    "\n",
    "        # Store results\n",
    "        ini: int = k*2*N_b\n",
    "        fin: int = (k+1)*2*N_b\n",
    "        E_vals[ini:fin] = w\n",
    "        E_vecs[:, ini:fin] = v\n",
    "    end1 = time.process_time()\n",
    "    end2 = time.time()\n",
    "    \n",
    "    print(f\"Processing time = {end1-start1:.4f}.\\t Real time = {end2-start2:.4f}\")\n",
    "\n",
    "    # ---------------------------------------------------------\n",
    "    # We do not care about the rest stuff\n",
    "    # ---------------------------------------------------------"
   ]
  },
  {
   "cell_type": "code",
   "execution_count": null,
   "id": "dd0cac24-6f50-4bd1-8641-a57485ab0f18",
   "metadata": {},
   "outputs": [],
   "source": []
  },
  {
   "cell_type": "markdown",
   "id": "1c0c4d96-efff-4170-a9ab-232083d38698",
   "metadata": {},
   "source": [
    "## Case 4: Slab - Optimized"
   ]
  },
  {
   "cell_type": "code",
   "execution_count": 9,
   "id": "d26cce6c-0c9a-47ff-8b80-ad988dd12066",
   "metadata": {},
   "outputs": [
    {
     "name": "stdout",
     "output_type": "stream",
     "text": [
      "Processing time = 3.7500.\t Real time = 2.6056\n",
      "Processing time = 2.6719.\t Real time = 2.6031\n",
      "Processing time = 2.5156.\t Real time = 2.5940\n",
      "Processing time = 2.5625.\t Real time = 2.5853\n",
      "Processing time = 2.6094.\t Real time = 2.6321\n"
     ]
    }
   ],
   "source": [
    "for rep in range(5):\n",
    "    \n",
    "    # Create placeholder arrays for the eigenvalues and eigenvectors\n",
    "    E_vals, E_vecs = np.zeros((2*N_b*N_k)), np.zeros((2*N_b, 2*N_b*N_k), dtype=np.complex128)\n",
    "\n",
    "    # prepare the Hamiltonian\n",
    "    H_prep = prep_N_hamiltonian(E_0, μ, U, n, n_bar, B, s_0, s_1, s_2, s_3)\n",
    "\n",
    "    start1 = time.process_time()\n",
    "    start2 = time.time()\n",
    "    \n",
    "    partial_compute_for_k = functools.partial(k_loop, H_prep=H_prep, atom_IJ=atom_IJ, num_neighbs=num_neighbs, fourier=fourier, t=t, N_b=N_b)\n",
    "    results = Parallel(n_jobs=-1)(delayed(partial_compute_for_k)(k) for k in range(N_k))\n",
    "\n",
    "    for w, v, ini, fin in results:\n",
    "        E_vals[ini:fin] = w\n",
    "        E_vecs[:, ini:fin] = v\n",
    "    \n",
    "    end1 = time.process_time()\n",
    "    end2 = time.time()\n",
    "    print(f\"Processing time = {end1-start1:.4f}.\\t Real time = {end2-start2:.4f}\")\n",
    "\n",
    "    # ---------------------------------------------------------\n",
    "    # We do not care about the rest stuff\n",
    "    # ---------------------------------------------------------"
   ]
  },
  {
   "cell_type": "markdown",
   "id": "c60b846b-991a-46e1-a9a6-49735e4ab128",
   "metadata": {},
   "source": [
    "It is evident that in this case parallelization does wonders, as the processing time is reduced by more than 20 times, while the real time is also reduced by more than 2.5 times."
   ]
  },
  {
   "cell_type": "code",
   "execution_count": null,
   "id": "262512c8-bcb5-422b-a5bd-af947e6a8eb3",
   "metadata": {},
   "outputs": [],
   "source": []
  }
 ],
 "metadata": {
  "kernelspec": {
   "display_name": "Python 3 (ipykernel)",
   "language": "python",
   "name": "python3"
  },
  "language_info": {
   "codemirror_mode": {
    "name": "ipython",
    "version": 3
   },
   "file_extension": ".py",
   "mimetype": "text/x-python",
   "name": "python",
   "nbconvert_exporter": "python",
   "pygments_lexer": "ipython3",
   "version": "3.8.11"
  }
 },
 "nbformat": 4,
 "nbformat_minor": 5
}
